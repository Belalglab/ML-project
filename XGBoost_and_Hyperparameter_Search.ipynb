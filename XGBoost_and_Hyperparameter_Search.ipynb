{
  "nbformat": 4,
  "nbformat_minor": 0,
  "metadata": {
    "colab": {
      "provenance": []
    },
    "kernelspec": {
      "name": "python3",
      "display_name": "Python 3"
    },
    "language_info": {
      "name": "python"
    }
  },
  "cells": [
    {
      "cell_type": "markdown",
      "source": [
        "# CS-6600 Homework 5 - XGBoost and Hyperparameter Search\n",
        "\n",
        "*Weber State University*\n",
        "\n",
        "**Your Name**: Belal Glab\n",
        "\n"
      ],
      "metadata": {
        "id": "pokRtVGyet8U"
      }
    },
    {
      "cell_type": "markdown",
      "source": [
        "For this assignment we'll be exploring another *boosting* algorithm like AdaBoost and Gradient Boost - XGBoost. XGBoost is similar to gradient boost in its approach, but a bit more mathematically complicated. More mathematically complicated that we'll need to get into here, but if you're curious you can check out:\n",
        "\n",
        "* [XGBoost: A Scalable Tree Boosting System](https://arxiv.org/abs/1603.02754)\n",
        "* [XGBoost Video Series](https://youtu.be/OtD8wVaFm6E?si=M8SAhD0eMU6an8a7)\n",
        "* [XGBoost Docs](https://xgboost.readthedocs.io/en/stable/)\n",
        "\n"
      ],
      "metadata": {
        "id": "RhF5yT-OgGEN"
      }
    },
    {
      "cell_type": "markdown",
      "source": [
        "XGBoost was all the rage back in 2016, where it was the method behind a bunch of Kaggle competiton winners."
      ],
      "metadata": {
        "id": "jJ9UEbJRiTSS"
      }
    },
    {
      "cell_type": "markdown",
      "source": [
        "Let's grab the libraries we'll need:"
      ],
      "metadata": {
        "id": "oRV4ovHrn-L9"
      }
    },
    {
      "cell_type": "code",
      "source": [
        "#The usual suspects\n",
        "import numpy as np\n",
        "import pandas as pd\n",
        "import matplotlib.pyplot as plt\n",
        "\n",
        "#Our synthetic data creator\n",
        "from sklearn.datasets import make_classification\n",
        "\n",
        "#For creating the validation set\n",
        "from sklearn.model_selection import train_test_split\n",
        "\n",
        "#For creating an XGBoost model\n",
        "import xgboost as xgb\n",
        "\n",
        "#For inspecting model performance\n",
        "from sklearn.metrics import roc_auc_score\n",
        "\n",
        "#For random sampling\n",
        "from scipy.stats import uniform\n",
        "from sklearn.model_selection import ParameterSampler"
      ],
      "metadata": {
        "id": "gcZWzLLuoBu1"
      },
      "execution_count": 1,
      "outputs": []
    },
    {
      "cell_type": "markdown",
      "source": [
        "### Generating The Data"
      ],
      "metadata": {
        "id": "d1gpzNk5u3ZM"
      }
    },
    {
      "cell_type": "markdown",
      "source": [
        "For this assignment we'll use a synthetic dataset created with scikit-learn's [make_classification](https://scikit-learn.org/stable/modules/generated/sklearn.datasets.make_classification.html) method."
      ],
      "metadata": {
        "id": "FNzuRSmGoluj"
      }
    },
    {
      "cell_type": "code",
      "source": [
        "X,y = make_classification(n_samples = 5000, n_features = 40, n_informative = 3, n_redundant = 2, n_clusters_per_class = 3, weights = None, flip_y = .05, class_sep = 0.1, hypercube = True, shift = 0.0, scale = 1.0, shuffle = True, random_state = 6600)"
      ],
      "metadata": {
        "id": "Wg-PtKi5pAOE"
      },
      "execution_count": 2,
      "outputs": []
    },
    {
      "cell_type": "markdown",
      "source": [
        "This creates a synthetic dataset with 5000 samples and 40 features. However, most of these features are useless - only 3 are informative, and another 2 are redundant (we can derive their values from the informative ones). So, only 5 features should be useful in making predictions, and if we can learn the relation between the informative ones and the redundant ones, we could get by just fine with 3."
      ],
      "metadata": {
        "id": "GFqLqUUzpWF0"
      }
    },
    {
      "cell_type": "markdown",
      "source": [
        "We'll want to use both a training and a validation set for this assignment, so let's split the data placing 80% in the training set and 20% in the validation set."
      ],
      "metadata": {
        "id": "hUFAGopPpzID"
      }
    },
    {
      "cell_type": "code",
      "source": [
        "X_train, X_val, y_train, y_val = train_test_split(X, y, test_size = .2, random_state = 6600)"
      ],
      "metadata": {
        "id": "WJJ9vKoxqJjB"
      },
      "execution_count": 3,
      "outputs": []
    },
    {
      "cell_type": "markdown",
      "source": [
        "### Creating an XGBoost Model"
      ],
      "metadata": {
        "id": "QJ3lkArmu-qU"
      }
    },
    {
      "cell_type": "markdown",
      "source": [
        "Alright, let's cretae a XGBoost model and train it. Note that XGBoost is its own library separate from scikit-learn."
      ],
      "metadata": {
        "id": "vng6o-uPqXP6"
      }
    },
    {
      "cell_type": "markdown",
      "source": [
        "First, XGBoost uses its own internal data structure called a DMatrix, which is optimized for both memory efficiency and training speed with XGBoost. We'll encode both our training data and validation data as DMatrix structures."
      ],
      "metadata": {
        "id": "tJlQnCNKThhj"
      }
    },
    {
      "cell_type": "code",
      "source": [
        "dtrain = xgb.DMatrix(X_train, label = y_train)\n",
        "dval = xgb.DMatrix(X_val, label = y_val)"
      ],
      "metadata": {
        "id": "iRE4rNo0xsqB"
      },
      "execution_count": 4,
      "outputs": []
    },
    {
      "cell_type": "markdown",
      "source": [
        "Next, we're going to create a dictionary of parameters for the model. We'll use the logistic regression objective function (we'll get into this later), and ROC AUC as the evaluation metric. We'll also set the learning rate to $0.3$."
      ],
      "metadata": {
        "id": "DxibFh15T02E"
      }
    },
    {
      "cell_type": "code",
      "source": [
        "params = {'objective': 'binary:logistic', 'eval_metric': 'auc', 'learning_rate': 0.3}"
      ],
      "metadata": {
        "id": "p1hRtltDxxMy"
      },
      "execution_count": 5,
      "outputs": []
    },
    {
      "cell_type": "markdown",
      "source": [
        "Alright. Now, we're going to create an XGBoost model. Unlike with scikit-learn, we won't first create the model object and then train (fit) it. Rather, we'll call the *train* method in xgb, and that will produce a trained model object.\n",
        "\n",
        "We'll pass the *train* method the params, training data, number of boost rounds, and the datasets we should use for evaluation (we'll want to see the ROC AUC scores for both the training data and testing data)."
      ],
      "metadata": {
        "id": "pC3TgKH6ULHy"
      }
    },
    {
      "cell_type": "code",
      "source": [
        "xgb_model_1 = xgb.train(params, dtrain, num_boost_round = 1000, evals = [(dtrain, 'train'), (dval, 'val')])"
      ],
      "metadata": {
        "id": "14hca5U9x6Qn",
        "colab": {
          "base_uri": "https://localhost:8080/"
        },
        "outputId": "fc3f6139-ba58-4675-c587-ac6910990823"
      },
      "execution_count": 6,
      "outputs": [
        {
          "output_type": "stream",
          "name": "stdout",
          "text": [
            "[0]\ttrain-auc:0.79531\tval-auc:0.73119\n",
            "[1]\ttrain-auc:0.80636\tval-auc:0.73976\n",
            "[2]\ttrain-auc:0.82250\tval-auc:0.73920\n",
            "[3]\ttrain-auc:0.83829\tval-auc:0.73583\n",
            "[4]\ttrain-auc:0.85144\tval-auc:0.74157\n",
            "[5]\ttrain-auc:0.87664\tval-auc:0.73214\n",
            "[6]\ttrain-auc:0.88978\tval-auc:0.73201\n",
            "[7]\ttrain-auc:0.89280\tval-auc:0.73452\n",
            "[8]\ttrain-auc:0.90171\tval-auc:0.72859\n",
            "[9]\ttrain-auc:0.90602\tval-auc:0.73272\n",
            "[10]\ttrain-auc:0.92157\tval-auc:0.73137\n",
            "[11]\ttrain-auc:0.93475\tval-auc:0.72668\n",
            "[12]\ttrain-auc:0.94233\tval-auc:0.72230\n",
            "[13]\ttrain-auc:0.95055\tval-auc:0.72127\n",
            "[14]\ttrain-auc:0.95533\tval-auc:0.71564\n",
            "[15]\ttrain-auc:0.95822\tval-auc:0.71433\n",
            "[16]\ttrain-auc:0.96280\tval-auc:0.71521\n",
            "[17]\ttrain-auc:0.96772\tval-auc:0.71352\n",
            "[18]\ttrain-auc:0.97143\tval-auc:0.72707\n",
            "[19]\ttrain-auc:0.97464\tval-auc:0.72644\n",
            "[20]\ttrain-auc:0.97718\tval-auc:0.72580\n",
            "[21]\ttrain-auc:0.97893\tval-auc:0.72509\n",
            "[22]\ttrain-auc:0.98167\tval-auc:0.72142\n",
            "[23]\ttrain-auc:0.98256\tval-auc:0.72197\n",
            "[24]\ttrain-auc:0.98553\tval-auc:0.72124\n",
            "[25]\ttrain-auc:0.98676\tval-auc:0.72233\n",
            "[26]\ttrain-auc:0.98976\tval-auc:0.71914\n",
            "[27]\ttrain-auc:0.99136\tval-auc:0.71955\n",
            "[28]\ttrain-auc:0.99207\tval-auc:0.71662\n",
            "[29]\ttrain-auc:0.99281\tval-auc:0.71585\n",
            "[30]\ttrain-auc:0.99367\tval-auc:0.71515\n",
            "[31]\ttrain-auc:0.99423\tval-auc:0.71510\n",
            "[32]\ttrain-auc:0.99499\tval-auc:0.71714\n",
            "[33]\ttrain-auc:0.99579\tval-auc:0.71353\n",
            "[34]\ttrain-auc:0.99647\tval-auc:0.71266\n",
            "[35]\ttrain-auc:0.99705\tval-auc:0.71214\n",
            "[36]\ttrain-auc:0.99774\tval-auc:0.71002\n",
            "[37]\ttrain-auc:0.99842\tval-auc:0.70773\n",
            "[38]\ttrain-auc:0.99882\tval-auc:0.70448\n",
            "[39]\ttrain-auc:0.99900\tval-auc:0.70465\n",
            "[40]\ttrain-auc:0.99900\tval-auc:0.71135\n",
            "[41]\ttrain-auc:0.99926\tval-auc:0.71195\n",
            "[42]\ttrain-auc:0.99941\tval-auc:0.71073\n",
            "[43]\ttrain-auc:0.99948\tval-auc:0.71603\n",
            "[44]\ttrain-auc:0.99957\tval-auc:0.71544\n",
            "[45]\ttrain-auc:0.99962\tval-auc:0.71299\n",
            "[46]\ttrain-auc:0.99966\tval-auc:0.71295\n",
            "[47]\ttrain-auc:0.99973\tval-auc:0.71015\n",
            "[48]\ttrain-auc:0.99976\tval-auc:0.71113\n",
            "[49]\ttrain-auc:0.99983\tval-auc:0.70911\n",
            "[50]\ttrain-auc:0.99989\tval-auc:0.70748\n",
            "[51]\ttrain-auc:0.99991\tval-auc:0.70729\n",
            "[52]\ttrain-auc:0.99991\tval-auc:0.70750\n",
            "[53]\ttrain-auc:0.99990\tval-auc:0.71041\n",
            "[54]\ttrain-auc:0.99991\tval-auc:0.70865\n",
            "[55]\ttrain-auc:0.99992\tval-auc:0.70999\n",
            "[56]\ttrain-auc:0.99992\tval-auc:0.71010\n",
            "[57]\ttrain-auc:0.99993\tval-auc:0.71086\n",
            "[58]\ttrain-auc:0.99996\tval-auc:0.70984\n",
            "[59]\ttrain-auc:0.99997\tval-auc:0.70970\n",
            "[60]\ttrain-auc:0.99998\tval-auc:0.70962\n",
            "[61]\ttrain-auc:0.99998\tval-auc:0.71577\n",
            "[62]\ttrain-auc:0.99999\tval-auc:0.71602\n",
            "[63]\ttrain-auc:0.99999\tval-auc:0.71536\n",
            "[64]\ttrain-auc:0.99999\tval-auc:0.71551\n",
            "[65]\ttrain-auc:1.00000\tval-auc:0.71620\n",
            "[66]\ttrain-auc:1.00000\tval-auc:0.71569\n",
            "[67]\ttrain-auc:1.00000\tval-auc:0.71603\n",
            "[68]\ttrain-auc:1.00000\tval-auc:0.72203\n",
            "[69]\ttrain-auc:1.00000\tval-auc:0.72131\n",
            "[70]\ttrain-auc:1.00000\tval-auc:0.72181\n",
            "[71]\ttrain-auc:1.00000\tval-auc:0.72103\n",
            "[72]\ttrain-auc:1.00000\tval-auc:0.72589\n",
            "[73]\ttrain-auc:1.00000\tval-auc:0.72528\n",
            "[74]\ttrain-auc:1.00000\tval-auc:0.72573\n",
            "[75]\ttrain-auc:1.00000\tval-auc:0.72413\n",
            "[76]\ttrain-auc:1.00000\tval-auc:0.72445\n",
            "[77]\ttrain-auc:1.00000\tval-auc:0.72510\n",
            "[78]\ttrain-auc:1.00000\tval-auc:0.72343\n",
            "[79]\ttrain-auc:1.00000\tval-auc:0.72318\n",
            "[80]\ttrain-auc:1.00000\tval-auc:0.72262\n",
            "[81]\ttrain-auc:1.00000\tval-auc:0.72177\n",
            "[82]\ttrain-auc:1.00000\tval-auc:0.72408\n",
            "[83]\ttrain-auc:1.00000\tval-auc:0.72402\n",
            "[84]\ttrain-auc:1.00000\tval-auc:0.72283\n",
            "[85]\ttrain-auc:1.00000\tval-auc:0.72195\n",
            "[86]\ttrain-auc:1.00000\tval-auc:0.72234\n",
            "[87]\ttrain-auc:1.00000\tval-auc:0.72333\n",
            "[88]\ttrain-auc:1.00000\tval-auc:0.72310\n",
            "[89]\ttrain-auc:1.00000\tval-auc:0.72406\n",
            "[90]\ttrain-auc:1.00000\tval-auc:0.72282\n",
            "[91]\ttrain-auc:1.00000\tval-auc:0.72329\n",
            "[92]\ttrain-auc:1.00000\tval-auc:0.72317\n",
            "[93]\ttrain-auc:1.00000\tval-auc:0.72339\n",
            "[94]\ttrain-auc:1.00000\tval-auc:0.72267\n",
            "[95]\ttrain-auc:1.00000\tval-auc:0.72200\n",
            "[96]\ttrain-auc:1.00000\tval-auc:0.72345\n",
            "[97]\ttrain-auc:1.00000\tval-auc:0.72327\n",
            "[98]\ttrain-auc:1.00000\tval-auc:0.72277\n",
            "[99]\ttrain-auc:1.00000\tval-auc:0.72378\n",
            "[100]\ttrain-auc:1.00000\tval-auc:0.72420\n",
            "[101]\ttrain-auc:1.00000\tval-auc:0.72418\n",
            "[102]\ttrain-auc:1.00000\tval-auc:0.72418\n",
            "[103]\ttrain-auc:1.00000\tval-auc:0.72380\n",
            "[104]\ttrain-auc:1.00000\tval-auc:0.72447\n",
            "[105]\ttrain-auc:1.00000\tval-auc:0.72534\n",
            "[106]\ttrain-auc:1.00000\tval-auc:0.72532\n",
            "[107]\ttrain-auc:1.00000\tval-auc:0.72476\n",
            "[108]\ttrain-auc:1.00000\tval-auc:0.72492\n",
            "[109]\ttrain-auc:1.00000\tval-auc:0.72399\n",
            "[110]\ttrain-auc:1.00000\tval-auc:0.72489\n",
            "[111]\ttrain-auc:1.00000\tval-auc:0.72375\n",
            "[112]\ttrain-auc:1.00000\tval-auc:0.72438\n",
            "[113]\ttrain-auc:1.00000\tval-auc:0.72685\n",
            "[114]\ttrain-auc:1.00000\tval-auc:0.72761\n",
            "[115]\ttrain-auc:1.00000\tval-auc:0.72791\n",
            "[116]\ttrain-auc:1.00000\tval-auc:0.72773\n",
            "[117]\ttrain-auc:1.00000\tval-auc:0.73064\n",
            "[118]\ttrain-auc:1.00000\tval-auc:0.73011\n",
            "[119]\ttrain-auc:1.00000\tval-auc:0.72936\n",
            "[120]\ttrain-auc:1.00000\tval-auc:0.72817\n",
            "[121]\ttrain-auc:1.00000\tval-auc:0.72920\n",
            "[122]\ttrain-auc:1.00000\tval-auc:0.72997\n",
            "[123]\ttrain-auc:1.00000\tval-auc:0.72943\n",
            "[124]\ttrain-auc:1.00000\tval-auc:0.73128\n",
            "[125]\ttrain-auc:1.00000\tval-auc:0.73115\n",
            "[126]\ttrain-auc:1.00000\tval-auc:0.73301\n",
            "[127]\ttrain-auc:1.00000\tval-auc:0.73306\n",
            "[128]\ttrain-auc:1.00000\tval-auc:0.73226\n",
            "[129]\ttrain-auc:1.00000\tval-auc:0.73214\n",
            "[130]\ttrain-auc:1.00000\tval-auc:0.73161\n",
            "[131]\ttrain-auc:1.00000\tval-auc:0.73217\n",
            "[132]\ttrain-auc:1.00000\tval-auc:0.73206\n",
            "[133]\ttrain-auc:1.00000\tval-auc:0.73213\n",
            "[134]\ttrain-auc:1.00000\tval-auc:0.73240\n",
            "[135]\ttrain-auc:1.00000\tval-auc:0.73247\n",
            "[136]\ttrain-auc:1.00000\tval-auc:0.73173\n",
            "[137]\ttrain-auc:1.00000\tval-auc:0.73091\n",
            "[138]\ttrain-auc:1.00000\tval-auc:0.72979\n",
            "[139]\ttrain-auc:1.00000\tval-auc:0.73081\n",
            "[140]\ttrain-auc:1.00000\tval-auc:0.73063\n",
            "[141]\ttrain-auc:1.00000\tval-auc:0.73016\n",
            "[142]\ttrain-auc:1.00000\tval-auc:0.72942\n",
            "[143]\ttrain-auc:1.00000\tval-auc:0.72907\n",
            "[144]\ttrain-auc:1.00000\tval-auc:0.72947\n",
            "[145]\ttrain-auc:1.00000\tval-auc:0.72993\n",
            "[146]\ttrain-auc:1.00000\tval-auc:0.72967\n",
            "[147]\ttrain-auc:1.00000\tval-auc:0.72916\n",
            "[148]\ttrain-auc:1.00000\tval-auc:0.72841\n",
            "[149]\ttrain-auc:1.00000\tval-auc:0.72828\n",
            "[150]\ttrain-auc:1.00000\tval-auc:0.72745\n",
            "[151]\ttrain-auc:1.00000\tval-auc:0.72743\n",
            "[152]\ttrain-auc:1.00000\tval-auc:0.72791\n",
            "[153]\ttrain-auc:1.00000\tval-auc:0.72807\n",
            "[154]\ttrain-auc:1.00000\tval-auc:0.72854\n",
            "[155]\ttrain-auc:1.00000\tval-auc:0.72970\n",
            "[156]\ttrain-auc:1.00000\tval-auc:0.73049\n",
            "[157]\ttrain-auc:1.00000\tval-auc:0.73200\n",
            "[158]\ttrain-auc:1.00000\tval-auc:0.73042\n",
            "[159]\ttrain-auc:1.00000\tval-auc:0.73026\n",
            "[160]\ttrain-auc:1.00000\tval-auc:0.73112\n",
            "[161]\ttrain-auc:1.00000\tval-auc:0.73121\n",
            "[162]\ttrain-auc:1.00000\tval-auc:0.73160\n",
            "[163]\ttrain-auc:1.00000\tval-auc:0.73139\n",
            "[164]\ttrain-auc:1.00000\tval-auc:0.73228\n",
            "[165]\ttrain-auc:1.00000\tval-auc:0.73193\n",
            "[166]\ttrain-auc:1.00000\tval-auc:0.73239\n",
            "[167]\ttrain-auc:1.00000\tval-auc:0.73232\n",
            "[168]\ttrain-auc:1.00000\tval-auc:0.73199\n",
            "[169]\ttrain-auc:1.00000\tval-auc:0.73295\n",
            "[170]\ttrain-auc:1.00000\tval-auc:0.73348\n",
            "[171]\ttrain-auc:1.00000\tval-auc:0.73333\n",
            "[172]\ttrain-auc:1.00000\tval-auc:0.73317\n",
            "[173]\ttrain-auc:1.00000\tval-auc:0.73328\n",
            "[174]\ttrain-auc:1.00000\tval-auc:0.73337\n",
            "[175]\ttrain-auc:1.00000\tval-auc:0.73367\n",
            "[176]\ttrain-auc:1.00000\tval-auc:0.73406\n",
            "[177]\ttrain-auc:1.00000\tval-auc:0.73547\n",
            "[178]\ttrain-auc:1.00000\tval-auc:0.73563\n",
            "[179]\ttrain-auc:1.00000\tval-auc:0.73523\n",
            "[180]\ttrain-auc:1.00000\tval-auc:0.73701\n",
            "[181]\ttrain-auc:1.00000\tval-auc:0.73711\n",
            "[182]\ttrain-auc:1.00000\tval-auc:0.73721\n",
            "[183]\ttrain-auc:1.00000\tval-auc:0.73720\n",
            "[184]\ttrain-auc:1.00000\tval-auc:0.73770\n",
            "[185]\ttrain-auc:1.00000\tval-auc:0.73795\n",
            "[186]\ttrain-auc:1.00000\tval-auc:0.73776\n",
            "[187]\ttrain-auc:1.00000\tval-auc:0.73732\n",
            "[188]\ttrain-auc:1.00000\tval-auc:0.73745\n",
            "[189]\ttrain-auc:1.00000\tval-auc:0.73757\n",
            "[190]\ttrain-auc:1.00000\tval-auc:0.73717\n",
            "[191]\ttrain-auc:1.00000\tval-auc:0.73608\n",
            "[192]\ttrain-auc:1.00000\tval-auc:0.73693\n",
            "[193]\ttrain-auc:1.00000\tval-auc:0.73711\n",
            "[194]\ttrain-auc:1.00000\tval-auc:0.73675\n",
            "[195]\ttrain-auc:1.00000\tval-auc:0.73718\n",
            "[196]\ttrain-auc:1.00000\tval-auc:0.73695\n",
            "[197]\ttrain-auc:1.00000\tval-auc:0.73694\n",
            "[198]\ttrain-auc:1.00000\tval-auc:0.73657\n",
            "[199]\ttrain-auc:1.00000\tval-auc:0.73583\n",
            "[200]\ttrain-auc:1.00000\tval-auc:0.73529\n",
            "[201]\ttrain-auc:1.00000\tval-auc:0.73546\n",
            "[202]\ttrain-auc:1.00000\tval-auc:0.73491\n",
            "[203]\ttrain-auc:1.00000\tval-auc:0.73502\n",
            "[204]\ttrain-auc:1.00000\tval-auc:0.73533\n",
            "[205]\ttrain-auc:1.00000\tval-auc:0.73555\n",
            "[206]\ttrain-auc:1.00000\tval-auc:0.73585\n",
            "[207]\ttrain-auc:1.00000\tval-auc:0.73623\n",
            "[208]\ttrain-auc:1.00000\tval-auc:0.73641\n",
            "[209]\ttrain-auc:1.00000\tval-auc:0.73588\n",
            "[210]\ttrain-auc:1.00000\tval-auc:0.73592\n",
            "[211]\ttrain-auc:1.00000\tval-auc:0.73598\n",
            "[212]\ttrain-auc:1.00000\tval-auc:0.73599\n",
            "[213]\ttrain-auc:1.00000\tval-auc:0.73647\n",
            "[214]\ttrain-auc:1.00000\tval-auc:0.73634\n",
            "[215]\ttrain-auc:1.00000\tval-auc:0.73650\n",
            "[216]\ttrain-auc:1.00000\tval-auc:0.73598\n",
            "[217]\ttrain-auc:1.00000\tval-auc:0.73568\n",
            "[218]\ttrain-auc:1.00000\tval-auc:0.73545\n",
            "[219]\ttrain-auc:1.00000\tval-auc:0.73482\n",
            "[220]\ttrain-auc:1.00000\tval-auc:0.73477\n",
            "[221]\ttrain-auc:1.00000\tval-auc:0.73497\n",
            "[222]\ttrain-auc:1.00000\tval-auc:0.73449\n",
            "[223]\ttrain-auc:1.00000\tval-auc:0.73393\n",
            "[224]\ttrain-auc:1.00000\tval-auc:0.73386\n",
            "[225]\ttrain-auc:1.00000\tval-auc:0.73352\n",
            "[226]\ttrain-auc:1.00000\tval-auc:0.73341\n",
            "[227]\ttrain-auc:1.00000\tval-auc:0.73318\n",
            "[228]\ttrain-auc:1.00000\tval-auc:0.73323\n",
            "[229]\ttrain-auc:1.00000\tval-auc:0.73271\n",
            "[230]\ttrain-auc:1.00000\tval-auc:0.73307\n",
            "[231]\ttrain-auc:1.00000\tval-auc:0.73296\n",
            "[232]\ttrain-auc:1.00000\tval-auc:0.73489\n",
            "[233]\ttrain-auc:1.00000\tval-auc:0.73527\n",
            "[234]\ttrain-auc:1.00000\tval-auc:0.73495\n",
            "[235]\ttrain-auc:1.00000\tval-auc:0.73584\n",
            "[236]\ttrain-auc:1.00000\tval-auc:0.73564\n",
            "[237]\ttrain-auc:1.00000\tval-auc:0.73546\n",
            "[238]\ttrain-auc:1.00000\tval-auc:0.73575\n",
            "[239]\ttrain-auc:1.00000\tval-auc:0.73680\n",
            "[240]\ttrain-auc:1.00000\tval-auc:0.73668\n",
            "[241]\ttrain-auc:1.00000\tval-auc:0.73648\n",
            "[242]\ttrain-auc:1.00000\tval-auc:0.73620\n",
            "[243]\ttrain-auc:1.00000\tval-auc:0.73586\n",
            "[244]\ttrain-auc:1.00000\tval-auc:0.73650\n",
            "[245]\ttrain-auc:1.00000\tval-auc:0.73631\n",
            "[246]\ttrain-auc:1.00000\tval-auc:0.73590\n",
            "[247]\ttrain-auc:1.00000\tval-auc:0.73586\n",
            "[248]\ttrain-auc:1.00000\tval-auc:0.73533\n",
            "[249]\ttrain-auc:1.00000\tval-auc:0.73544\n",
            "[250]\ttrain-auc:1.00000\tval-auc:0.73512\n",
            "[251]\ttrain-auc:1.00000\tval-auc:0.73557\n",
            "[252]\ttrain-auc:1.00000\tval-auc:0.73604\n",
            "[253]\ttrain-auc:1.00000\tval-auc:0.73620\n",
            "[254]\ttrain-auc:1.00000\tval-auc:0.73645\n",
            "[255]\ttrain-auc:1.00000\tval-auc:0.73632\n",
            "[256]\ttrain-auc:1.00000\tval-auc:0.73687\n",
            "[257]\ttrain-auc:1.00000\tval-auc:0.73653\n",
            "[258]\ttrain-auc:1.00000\tval-auc:0.73668\n",
            "[259]\ttrain-auc:1.00000\tval-auc:0.73667\n",
            "[260]\ttrain-auc:1.00000\tval-auc:0.73697\n",
            "[261]\ttrain-auc:1.00000\tval-auc:0.73712\n",
            "[262]\ttrain-auc:1.00000\tval-auc:0.73692\n",
            "[263]\ttrain-auc:1.00000\tval-auc:0.73634\n",
            "[264]\ttrain-auc:1.00000\tval-auc:0.73611\n",
            "[265]\ttrain-auc:1.00000\tval-auc:0.73626\n",
            "[266]\ttrain-auc:1.00000\tval-auc:0.73628\n",
            "[267]\ttrain-auc:1.00000\tval-auc:0.73582\n",
            "[268]\ttrain-auc:1.00000\tval-auc:0.73545\n",
            "[269]\ttrain-auc:1.00000\tval-auc:0.73561\n",
            "[270]\ttrain-auc:1.00000\tval-auc:0.73531\n",
            "[271]\ttrain-auc:1.00000\tval-auc:0.73547\n",
            "[272]\ttrain-auc:1.00000\tval-auc:0.73505\n",
            "[273]\ttrain-auc:1.00000\tval-auc:0.73531\n",
            "[274]\ttrain-auc:1.00000\tval-auc:0.73503\n",
            "[275]\ttrain-auc:1.00000\tval-auc:0.73513\n",
            "[276]\ttrain-auc:1.00000\tval-auc:0.73455\n",
            "[277]\ttrain-auc:1.00000\tval-auc:0.73414\n",
            "[278]\ttrain-auc:1.00000\tval-auc:0.73417\n",
            "[279]\ttrain-auc:1.00000\tval-auc:0.73460\n",
            "[280]\ttrain-auc:1.00000\tval-auc:0.73493\n",
            "[281]\ttrain-auc:1.00000\tval-auc:0.73446\n",
            "[282]\ttrain-auc:1.00000\tval-auc:0.73409\n",
            "[283]\ttrain-auc:1.00000\tval-auc:0.73418\n",
            "[284]\ttrain-auc:1.00000\tval-auc:0.73321\n",
            "[285]\ttrain-auc:1.00000\tval-auc:0.73354\n",
            "[286]\ttrain-auc:1.00000\tval-auc:0.73349\n",
            "[287]\ttrain-auc:1.00000\tval-auc:0.73329\n",
            "[288]\ttrain-auc:1.00000\tval-auc:0.73316\n",
            "[289]\ttrain-auc:1.00000\tval-auc:0.73398\n",
            "[290]\ttrain-auc:1.00000\tval-auc:0.73432\n",
            "[291]\ttrain-auc:1.00000\tval-auc:0.73522\n",
            "[292]\ttrain-auc:1.00000\tval-auc:0.73545\n",
            "[293]\ttrain-auc:1.00000\tval-auc:0.73728\n",
            "[294]\ttrain-auc:1.00000\tval-auc:0.73722\n",
            "[295]\ttrain-auc:1.00000\tval-auc:0.73685\n",
            "[296]\ttrain-auc:1.00000\tval-auc:0.73687\n",
            "[297]\ttrain-auc:1.00000\tval-auc:0.73632\n",
            "[298]\ttrain-auc:1.00000\tval-auc:0.73716\n",
            "[299]\ttrain-auc:1.00000\tval-auc:0.73721\n",
            "[300]\ttrain-auc:1.00000\tval-auc:0.73702\n",
            "[301]\ttrain-auc:1.00000\tval-auc:0.73690\n",
            "[302]\ttrain-auc:1.00000\tval-auc:0.73725\n",
            "[303]\ttrain-auc:1.00000\tval-auc:0.73731\n",
            "[304]\ttrain-auc:1.00000\tval-auc:0.73731\n",
            "[305]\ttrain-auc:1.00000\tval-auc:0.73742\n",
            "[306]\ttrain-auc:1.00000\tval-auc:0.73823\n",
            "[307]\ttrain-auc:1.00000\tval-auc:0.73810\n",
            "[308]\ttrain-auc:1.00000\tval-auc:0.73775\n",
            "[309]\ttrain-auc:1.00000\tval-auc:0.73753\n",
            "[310]\ttrain-auc:1.00000\tval-auc:0.73780\n",
            "[311]\ttrain-auc:1.00000\tval-auc:0.73787\n",
            "[312]\ttrain-auc:1.00000\tval-auc:0.73778\n",
            "[313]\ttrain-auc:1.00000\tval-auc:0.73812\n",
            "[314]\ttrain-auc:1.00000\tval-auc:0.73757\n",
            "[315]\ttrain-auc:1.00000\tval-auc:0.73772\n",
            "[316]\ttrain-auc:1.00000\tval-auc:0.73792\n",
            "[317]\ttrain-auc:1.00000\tval-auc:0.73784\n",
            "[318]\ttrain-auc:1.00000\tval-auc:0.73766\n",
            "[319]\ttrain-auc:1.00000\tval-auc:0.73764\n",
            "[320]\ttrain-auc:1.00000\tval-auc:0.73709\n",
            "[321]\ttrain-auc:1.00000\tval-auc:0.73699\n",
            "[322]\ttrain-auc:1.00000\tval-auc:0.73709\n",
            "[323]\ttrain-auc:1.00000\tval-auc:0.73675\n",
            "[324]\ttrain-auc:1.00000\tval-auc:0.73680\n",
            "[325]\ttrain-auc:1.00000\tval-auc:0.73686\n",
            "[326]\ttrain-auc:1.00000\tval-auc:0.73712\n",
            "[327]\ttrain-auc:1.00000\tval-auc:0.73694\n",
            "[328]\ttrain-auc:1.00000\tval-auc:0.73678\n",
            "[329]\ttrain-auc:1.00000\tval-auc:0.73668\n",
            "[330]\ttrain-auc:1.00000\tval-auc:0.73675\n",
            "[331]\ttrain-auc:1.00000\tval-auc:0.73724\n",
            "[332]\ttrain-auc:1.00000\tval-auc:0.73709\n",
            "[333]\ttrain-auc:1.00000\tval-auc:0.73689\n",
            "[334]\ttrain-auc:1.00000\tval-auc:0.73677\n",
            "[335]\ttrain-auc:1.00000\tval-auc:0.73701\n",
            "[336]\ttrain-auc:1.00000\tval-auc:0.73681\n",
            "[337]\ttrain-auc:1.00000\tval-auc:0.73659\n",
            "[338]\ttrain-auc:1.00000\tval-auc:0.73681\n",
            "[339]\ttrain-auc:1.00000\tval-auc:0.73661\n",
            "[340]\ttrain-auc:1.00000\tval-auc:0.73703\n",
            "[341]\ttrain-auc:1.00000\tval-auc:0.73690\n",
            "[342]\ttrain-auc:1.00000\tval-auc:0.73690\n",
            "[343]\ttrain-auc:1.00000\tval-auc:0.73741\n",
            "[344]\ttrain-auc:1.00000\tval-auc:0.73677\n",
            "[345]\ttrain-auc:1.00000\tval-auc:0.73662\n",
            "[346]\ttrain-auc:1.00000\tval-auc:0.73667\n",
            "[347]\ttrain-auc:1.00000\tval-auc:0.73679\n",
            "[348]\ttrain-auc:1.00000\tval-auc:0.73672\n",
            "[349]\ttrain-auc:1.00000\tval-auc:0.73677\n",
            "[350]\ttrain-auc:1.00000\tval-auc:0.73618\n",
            "[351]\ttrain-auc:1.00000\tval-auc:0.73668\n",
            "[352]\ttrain-auc:1.00000\tval-auc:0.73663\n",
            "[353]\ttrain-auc:1.00000\tval-auc:0.73677\n",
            "[354]\ttrain-auc:1.00000\tval-auc:0.73731\n",
            "[355]\ttrain-auc:1.00000\tval-auc:0.73752\n",
            "[356]\ttrain-auc:1.00000\tval-auc:0.73776\n",
            "[357]\ttrain-auc:1.00000\tval-auc:0.73800\n",
            "[358]\ttrain-auc:1.00000\tval-auc:0.73795\n",
            "[359]\ttrain-auc:1.00000\tval-auc:0.73789\n",
            "[360]\ttrain-auc:1.00000\tval-auc:0.73791\n",
            "[361]\ttrain-auc:1.00000\tval-auc:0.73780\n",
            "[362]\ttrain-auc:1.00000\tval-auc:0.73763\n",
            "[363]\ttrain-auc:1.00000\tval-auc:0.73743\n",
            "[364]\ttrain-auc:1.00000\tval-auc:0.73748\n",
            "[365]\ttrain-auc:1.00000\tval-auc:0.73786\n",
            "[366]\ttrain-auc:1.00000\tval-auc:0.73800\n",
            "[367]\ttrain-auc:1.00000\tval-auc:0.73802\n",
            "[368]\ttrain-auc:1.00000\tval-auc:0.73814\n",
            "[369]\ttrain-auc:1.00000\tval-auc:0.73822\n",
            "[370]\ttrain-auc:1.00000\tval-auc:0.73872\n",
            "[371]\ttrain-auc:1.00000\tval-auc:0.73812\n",
            "[372]\ttrain-auc:1.00000\tval-auc:0.73780\n",
            "[373]\ttrain-auc:1.00000\tval-auc:0.73783\n",
            "[374]\ttrain-auc:1.00000\tval-auc:0.73796\n",
            "[375]\ttrain-auc:1.00000\tval-auc:0.73809\n",
            "[376]\ttrain-auc:1.00000\tval-auc:0.73765\n",
            "[377]\ttrain-auc:1.00000\tval-auc:0.73735\n",
            "[378]\ttrain-auc:1.00000\tval-auc:0.73739\n",
            "[379]\ttrain-auc:1.00000\tval-auc:0.73807\n",
            "[380]\ttrain-auc:1.00000\tval-auc:0.73821\n",
            "[381]\ttrain-auc:1.00000\tval-auc:0.73778\n",
            "[382]\ttrain-auc:1.00000\tval-auc:0.73829\n",
            "[383]\ttrain-auc:1.00000\tval-auc:0.73846\n",
            "[384]\ttrain-auc:1.00000\tval-auc:0.73865\n",
            "[385]\ttrain-auc:1.00000\tval-auc:0.73855\n",
            "[386]\ttrain-auc:1.00000\tval-auc:0.73883\n",
            "[387]\ttrain-auc:1.00000\tval-auc:0.73867\n",
            "[388]\ttrain-auc:1.00000\tval-auc:0.73853\n",
            "[389]\ttrain-auc:1.00000\tval-auc:0.73849\n",
            "[390]\ttrain-auc:1.00000\tval-auc:0.73831\n",
            "[391]\ttrain-auc:1.00000\tval-auc:0.73836\n",
            "[392]\ttrain-auc:1.00000\tval-auc:0.73841\n",
            "[393]\ttrain-auc:1.00000\tval-auc:0.73866\n",
            "[394]\ttrain-auc:1.00000\tval-auc:0.73878\n",
            "[395]\ttrain-auc:1.00000\tval-auc:0.73876\n",
            "[396]\ttrain-auc:1.00000\tval-auc:0.73869\n",
            "[397]\ttrain-auc:1.00000\tval-auc:0.73835\n",
            "[398]\ttrain-auc:1.00000\tval-auc:0.73826\n",
            "[399]\ttrain-auc:1.00000\tval-auc:0.73836\n",
            "[400]\ttrain-auc:1.00000\tval-auc:0.73821\n",
            "[401]\ttrain-auc:1.00000\tval-auc:0.73821\n",
            "[402]\ttrain-auc:1.00000\tval-auc:0.73829\n",
            "[403]\ttrain-auc:1.00000\tval-auc:0.73840\n",
            "[404]\ttrain-auc:1.00000\tval-auc:0.73858\n",
            "[405]\ttrain-auc:1.00000\tval-auc:0.73843\n",
            "[406]\ttrain-auc:1.00000\tval-auc:0.73813\n",
            "[407]\ttrain-auc:1.00000\tval-auc:0.73802\n",
            "[408]\ttrain-auc:1.00000\tval-auc:0.73799\n",
            "[409]\ttrain-auc:1.00000\tval-auc:0.73812\n",
            "[410]\ttrain-auc:1.00000\tval-auc:0.73839\n",
            "[411]\ttrain-auc:1.00000\tval-auc:0.73852\n",
            "[412]\ttrain-auc:1.00000\tval-auc:0.73860\n",
            "[413]\ttrain-auc:1.00000\tval-auc:0.73836\n",
            "[414]\ttrain-auc:1.00000\tval-auc:0.73843\n",
            "[415]\ttrain-auc:1.00000\tval-auc:0.73851\n",
            "[416]\ttrain-auc:1.00000\tval-auc:0.73867\n",
            "[417]\ttrain-auc:1.00000\tval-auc:0.73899\n",
            "[418]\ttrain-auc:1.00000\tval-auc:0.73917\n",
            "[419]\ttrain-auc:1.00000\tval-auc:0.73910\n",
            "[420]\ttrain-auc:1.00000\tval-auc:0.73894\n",
            "[421]\ttrain-auc:1.00000\tval-auc:0.73922\n",
            "[422]\ttrain-auc:1.00000\tval-auc:0.73939\n",
            "[423]\ttrain-auc:1.00000\tval-auc:0.73916\n",
            "[424]\ttrain-auc:1.00000\tval-auc:0.73936\n",
            "[425]\ttrain-auc:1.00000\tval-auc:0.73911\n",
            "[426]\ttrain-auc:1.00000\tval-auc:0.73900\n",
            "[427]\ttrain-auc:1.00000\tval-auc:0.73954\n",
            "[428]\ttrain-auc:1.00000\tval-auc:0.73921\n",
            "[429]\ttrain-auc:1.00000\tval-auc:0.73910\n",
            "[430]\ttrain-auc:1.00000\tval-auc:0.73889\n",
            "[431]\ttrain-auc:1.00000\tval-auc:0.73875\n",
            "[432]\ttrain-auc:1.00000\tval-auc:0.73840\n",
            "[433]\ttrain-auc:1.00000\tval-auc:0.73840\n",
            "[434]\ttrain-auc:1.00000\tval-auc:0.73815\n",
            "[435]\ttrain-auc:1.00000\tval-auc:0.73794\n",
            "[436]\ttrain-auc:1.00000\tval-auc:0.73839\n",
            "[437]\ttrain-auc:1.00000\tval-auc:0.73861\n",
            "[438]\ttrain-auc:1.00000\tval-auc:0.73852\n",
            "[439]\ttrain-auc:1.00000\tval-auc:0.73880\n",
            "[440]\ttrain-auc:1.00000\tval-auc:0.73875\n",
            "[441]\ttrain-auc:1.00000\tval-auc:0.73847\n",
            "[442]\ttrain-auc:1.00000\tval-auc:0.73849\n",
            "[443]\ttrain-auc:1.00000\tval-auc:0.73871\n",
            "[444]\ttrain-auc:1.00000\tval-auc:0.73874\n",
            "[445]\ttrain-auc:1.00000\tval-auc:0.73892\n",
            "[446]\ttrain-auc:1.00000\tval-auc:0.73904\n",
            "[447]\ttrain-auc:1.00000\tval-auc:0.73915\n",
            "[448]\ttrain-auc:1.00000\tval-auc:0.73913\n",
            "[449]\ttrain-auc:1.00000\tval-auc:0.73924\n",
            "[450]\ttrain-auc:1.00000\tval-auc:0.73968\n",
            "[451]\ttrain-auc:1.00000\tval-auc:0.73991\n",
            "[452]\ttrain-auc:1.00000\tval-auc:0.74009\n",
            "[453]\ttrain-auc:1.00000\tval-auc:0.73995\n",
            "[454]\ttrain-auc:1.00000\tval-auc:0.73977\n",
            "[455]\ttrain-auc:1.00000\tval-auc:0.73966\n",
            "[456]\ttrain-auc:1.00000\tval-auc:0.74006\n",
            "[457]\ttrain-auc:1.00000\tval-auc:0.73965\n",
            "[458]\ttrain-auc:1.00000\tval-auc:0.73966\n",
            "[459]\ttrain-auc:1.00000\tval-auc:0.73974\n",
            "[460]\ttrain-auc:1.00000\tval-auc:0.73991\n",
            "[461]\ttrain-auc:1.00000\tval-auc:0.73959\n",
            "[462]\ttrain-auc:1.00000\tval-auc:0.73920\n",
            "[463]\ttrain-auc:1.00000\tval-auc:0.73913\n",
            "[464]\ttrain-auc:1.00000\tval-auc:0.73916\n",
            "[465]\ttrain-auc:1.00000\tval-auc:0.73918\n",
            "[466]\ttrain-auc:1.00000\tval-auc:0.73968\n",
            "[467]\ttrain-auc:1.00000\tval-auc:0.73951\n",
            "[468]\ttrain-auc:1.00000\tval-auc:0.73941\n",
            "[469]\ttrain-auc:1.00000\tval-auc:0.73927\n",
            "[470]\ttrain-auc:1.00000\tval-auc:0.73990\n",
            "[471]\ttrain-auc:1.00000\tval-auc:0.73996\n",
            "[472]\ttrain-auc:1.00000\tval-auc:0.74017\n",
            "[473]\ttrain-auc:1.00000\tval-auc:0.74041\n",
            "[474]\ttrain-auc:1.00000\tval-auc:0.74029\n",
            "[475]\ttrain-auc:1.00000\tval-auc:0.74021\n",
            "[476]\ttrain-auc:1.00000\tval-auc:0.74011\n",
            "[477]\ttrain-auc:1.00000\tval-auc:0.73984\n",
            "[478]\ttrain-auc:1.00000\tval-auc:0.73991\n",
            "[479]\ttrain-auc:1.00000\tval-auc:0.73970\n",
            "[480]\ttrain-auc:1.00000\tval-auc:0.73970\n",
            "[481]\ttrain-auc:1.00000\tval-auc:0.73955\n",
            "[482]\ttrain-auc:1.00000\tval-auc:0.73977\n",
            "[483]\ttrain-auc:1.00000\tval-auc:0.73994\n",
            "[484]\ttrain-auc:1.00000\tval-auc:0.73992\n",
            "[485]\ttrain-auc:1.00000\tval-auc:0.73972\n",
            "[486]\ttrain-auc:1.00000\tval-auc:0.73966\n",
            "[487]\ttrain-auc:1.00000\tval-auc:0.73959\n",
            "[488]\ttrain-auc:1.00000\tval-auc:0.73922\n",
            "[489]\ttrain-auc:1.00000\tval-auc:0.73940\n",
            "[490]\ttrain-auc:1.00000\tval-auc:0.73938\n",
            "[491]\ttrain-auc:1.00000\tval-auc:0.73926\n",
            "[492]\ttrain-auc:1.00000\tval-auc:0.73904\n",
            "[493]\ttrain-auc:1.00000\tval-auc:0.73895\n",
            "[494]\ttrain-auc:1.00000\tval-auc:0.73896\n",
            "[495]\ttrain-auc:1.00000\tval-auc:0.73892\n",
            "[496]\ttrain-auc:1.00000\tval-auc:0.73863\n",
            "[497]\ttrain-auc:1.00000\tval-auc:0.73863\n",
            "[498]\ttrain-auc:1.00000\tval-auc:0.73842\n",
            "[499]\ttrain-auc:1.00000\tval-auc:0.73841\n",
            "[500]\ttrain-auc:1.00000\tval-auc:0.73854\n",
            "[501]\ttrain-auc:1.00000\tval-auc:0.73839\n",
            "[502]\ttrain-auc:1.00000\tval-auc:0.73847\n",
            "[503]\ttrain-auc:1.00000\tval-auc:0.73860\n",
            "[504]\ttrain-auc:1.00000\tval-auc:0.73856\n",
            "[505]\ttrain-auc:1.00000\tval-auc:0.73833\n",
            "[506]\ttrain-auc:1.00000\tval-auc:0.73801\n",
            "[507]\ttrain-auc:1.00000\tval-auc:0.73802\n",
            "[508]\ttrain-auc:1.00000\tval-auc:0.73798\n",
            "[509]\ttrain-auc:1.00000\tval-auc:0.73792\n",
            "[510]\ttrain-auc:1.00000\tval-auc:0.73814\n",
            "[511]\ttrain-auc:1.00000\tval-auc:0.73806\n",
            "[512]\ttrain-auc:1.00000\tval-auc:0.73825\n",
            "[513]\ttrain-auc:1.00000\tval-auc:0.73810\n",
            "[514]\ttrain-auc:1.00000\tval-auc:0.73818\n",
            "[515]\ttrain-auc:1.00000\tval-auc:0.73824\n",
            "[516]\ttrain-auc:1.00000\tval-auc:0.73786\n",
            "[517]\ttrain-auc:1.00000\tval-auc:0.73769\n",
            "[518]\ttrain-auc:1.00000\tval-auc:0.73760\n",
            "[519]\ttrain-auc:1.00000\tval-auc:0.73765\n",
            "[520]\ttrain-auc:1.00000\tval-auc:0.73734\n",
            "[521]\ttrain-auc:1.00000\tval-auc:0.73739\n",
            "[522]\ttrain-auc:1.00000\tval-auc:0.73739\n",
            "[523]\ttrain-auc:1.00000\tval-auc:0.73719\n",
            "[524]\ttrain-auc:1.00000\tval-auc:0.73765\n",
            "[525]\ttrain-auc:1.00000\tval-auc:0.73784\n",
            "[526]\ttrain-auc:1.00000\tval-auc:0.73793\n",
            "[527]\ttrain-auc:1.00000\tval-auc:0.73802\n",
            "[528]\ttrain-auc:1.00000\tval-auc:0.73755\n",
            "[529]\ttrain-auc:1.00000\tval-auc:0.73775\n",
            "[530]\ttrain-auc:1.00000\tval-auc:0.73783\n",
            "[531]\ttrain-auc:1.00000\tval-auc:0.73776\n",
            "[532]\ttrain-auc:1.00000\tval-auc:0.73768\n",
            "[533]\ttrain-auc:1.00000\tval-auc:0.73761\n",
            "[534]\ttrain-auc:1.00000\tval-auc:0.73786\n",
            "[535]\ttrain-auc:1.00000\tval-auc:0.73802\n",
            "[536]\ttrain-auc:1.00000\tval-auc:0.73790\n",
            "[537]\ttrain-auc:1.00000\tval-auc:0.73778\n",
            "[538]\ttrain-auc:1.00000\tval-auc:0.73781\n",
            "[539]\ttrain-auc:1.00000\tval-auc:0.73790\n",
            "[540]\ttrain-auc:1.00000\tval-auc:0.73776\n",
            "[541]\ttrain-auc:1.00000\tval-auc:0.73771\n",
            "[542]\ttrain-auc:1.00000\tval-auc:0.73769\n",
            "[543]\ttrain-auc:1.00000\tval-auc:0.73794\n",
            "[544]\ttrain-auc:1.00000\tval-auc:0.73765\n",
            "[545]\ttrain-auc:1.00000\tval-auc:0.73769\n",
            "[546]\ttrain-auc:1.00000\tval-auc:0.73757\n",
            "[547]\ttrain-auc:1.00000\tval-auc:0.73729\n",
            "[548]\ttrain-auc:1.00000\tval-auc:0.73717\n",
            "[549]\ttrain-auc:1.00000\tval-auc:0.73712\n",
            "[550]\ttrain-auc:1.00000\tval-auc:0.73707\n",
            "[551]\ttrain-auc:1.00000\tval-auc:0.73725\n",
            "[552]\ttrain-auc:1.00000\tval-auc:0.73709\n",
            "[553]\ttrain-auc:1.00000\tval-auc:0.73705\n",
            "[554]\ttrain-auc:1.00000\tval-auc:0.73679\n",
            "[555]\ttrain-auc:1.00000\tval-auc:0.73695\n",
            "[556]\ttrain-auc:1.00000\tval-auc:0.73677\n",
            "[557]\ttrain-auc:1.00000\tval-auc:0.73681\n",
            "[558]\ttrain-auc:1.00000\tval-auc:0.73669\n",
            "[559]\ttrain-auc:1.00000\tval-auc:0.73661\n",
            "[560]\ttrain-auc:1.00000\tval-auc:0.73669\n",
            "[561]\ttrain-auc:1.00000\tval-auc:0.73666\n",
            "[562]\ttrain-auc:1.00000\tval-auc:0.73677\n",
            "[563]\ttrain-auc:1.00000\tval-auc:0.73707\n",
            "[564]\ttrain-auc:1.00000\tval-auc:0.73723\n",
            "[565]\ttrain-auc:1.00000\tval-auc:0.73734\n",
            "[566]\ttrain-auc:1.00000\tval-auc:0.73740\n",
            "[567]\ttrain-auc:1.00000\tval-auc:0.73744\n",
            "[568]\ttrain-auc:1.00000\tval-auc:0.73731\n",
            "[569]\ttrain-auc:1.00000\tval-auc:0.73741\n",
            "[570]\ttrain-auc:1.00000\tval-auc:0.73734\n",
            "[571]\ttrain-auc:1.00000\tval-auc:0.73775\n",
            "[572]\ttrain-auc:1.00000\tval-auc:0.73773\n",
            "[573]\ttrain-auc:1.00000\tval-auc:0.73774\n",
            "[574]\ttrain-auc:1.00000\tval-auc:0.73789\n",
            "[575]\ttrain-auc:1.00000\tval-auc:0.73786\n",
            "[576]\ttrain-auc:1.00000\tval-auc:0.73775\n",
            "[577]\ttrain-auc:1.00000\tval-auc:0.73768\n",
            "[578]\ttrain-auc:1.00000\tval-auc:0.73771\n",
            "[579]\ttrain-auc:1.00000\tval-auc:0.73775\n",
            "[580]\ttrain-auc:1.00000\tval-auc:0.73770\n",
            "[581]\ttrain-auc:1.00000\tval-auc:0.73769\n",
            "[582]\ttrain-auc:1.00000\tval-auc:0.73758\n",
            "[583]\ttrain-auc:1.00000\tval-auc:0.73767\n",
            "[584]\ttrain-auc:1.00000\tval-auc:0.73749\n",
            "[585]\ttrain-auc:1.00000\tval-auc:0.73765\n",
            "[586]\ttrain-auc:1.00000\tval-auc:0.73763\n",
            "[587]\ttrain-auc:1.00000\tval-auc:0.73758\n",
            "[588]\ttrain-auc:1.00000\tval-auc:0.73763\n",
            "[589]\ttrain-auc:1.00000\tval-auc:0.73772\n",
            "[590]\ttrain-auc:1.00000\tval-auc:0.73752\n",
            "[591]\ttrain-auc:1.00000\tval-auc:0.73754\n",
            "[592]\ttrain-auc:1.00000\tval-auc:0.73759\n",
            "[593]\ttrain-auc:1.00000\tval-auc:0.73764\n",
            "[594]\ttrain-auc:1.00000\tval-auc:0.73735\n",
            "[595]\ttrain-auc:1.00000\tval-auc:0.73723\n",
            "[596]\ttrain-auc:1.00000\tval-auc:0.73731\n",
            "[597]\ttrain-auc:1.00000\tval-auc:0.73749\n",
            "[598]\ttrain-auc:1.00000\tval-auc:0.73748\n",
            "[599]\ttrain-auc:1.00000\tval-auc:0.73749\n",
            "[600]\ttrain-auc:1.00000\tval-auc:0.73773\n",
            "[601]\ttrain-auc:1.00000\tval-auc:0.73764\n",
            "[602]\ttrain-auc:1.00000\tval-auc:0.73778\n",
            "[603]\ttrain-auc:1.00000\tval-auc:0.73777\n",
            "[604]\ttrain-auc:1.00000\tval-auc:0.73778\n",
            "[605]\ttrain-auc:1.00000\tval-auc:0.73772\n",
            "[606]\ttrain-auc:1.00000\tval-auc:0.73774\n",
            "[607]\ttrain-auc:1.00000\tval-auc:0.73786\n",
            "[608]\ttrain-auc:1.00000\tval-auc:0.73793\n",
            "[609]\ttrain-auc:1.00000\tval-auc:0.73816\n",
            "[610]\ttrain-auc:1.00000\tval-auc:0.73810\n",
            "[611]\ttrain-auc:1.00000\tval-auc:0.73797\n",
            "[612]\ttrain-auc:1.00000\tval-auc:0.73804\n",
            "[613]\ttrain-auc:1.00000\tval-auc:0.73794\n",
            "[614]\ttrain-auc:1.00000\tval-auc:0.73804\n",
            "[615]\ttrain-auc:1.00000\tval-auc:0.73809\n",
            "[616]\ttrain-auc:1.00000\tval-auc:0.73792\n",
            "[617]\ttrain-auc:1.00000\tval-auc:0.73792\n",
            "[618]\ttrain-auc:1.00000\tval-auc:0.73780\n",
            "[619]\ttrain-auc:1.00000\tval-auc:0.73768\n",
            "[620]\ttrain-auc:1.00000\tval-auc:0.73789\n",
            "[621]\ttrain-auc:1.00000\tval-auc:0.73797\n",
            "[622]\ttrain-auc:1.00000\tval-auc:0.73791\n",
            "[623]\ttrain-auc:1.00000\tval-auc:0.73798\n",
            "[624]\ttrain-auc:1.00000\tval-auc:0.73783\n",
            "[625]\ttrain-auc:1.00000\tval-auc:0.73784\n",
            "[626]\ttrain-auc:1.00000\tval-auc:0.73814\n",
            "[627]\ttrain-auc:1.00000\tval-auc:0.73799\n",
            "[628]\ttrain-auc:1.00000\tval-auc:0.73810\n",
            "[629]\ttrain-auc:1.00000\tval-auc:0.73813\n",
            "[630]\ttrain-auc:1.00000\tval-auc:0.73798\n",
            "[631]\ttrain-auc:1.00000\tval-auc:0.73814\n",
            "[632]\ttrain-auc:1.00000\tval-auc:0.73817\n",
            "[633]\ttrain-auc:1.00000\tval-auc:0.73805\n",
            "[634]\ttrain-auc:1.00000\tval-auc:0.73810\n",
            "[635]\ttrain-auc:1.00000\tval-auc:0.73803\n",
            "[636]\ttrain-auc:1.00000\tval-auc:0.73798\n",
            "[637]\ttrain-auc:1.00000\tval-auc:0.73801\n",
            "[638]\ttrain-auc:1.00000\tval-auc:0.73803\n",
            "[639]\ttrain-auc:1.00000\tval-auc:0.73795\n",
            "[640]\ttrain-auc:1.00000\tval-auc:0.73808\n",
            "[641]\ttrain-auc:1.00000\tval-auc:0.73791\n",
            "[642]\ttrain-auc:1.00000\tval-auc:0.73791\n",
            "[643]\ttrain-auc:1.00000\tval-auc:0.73774\n",
            "[644]\ttrain-auc:1.00000\tval-auc:0.73805\n",
            "[645]\ttrain-auc:1.00000\tval-auc:0.73793\n",
            "[646]\ttrain-auc:1.00000\tval-auc:0.73792\n",
            "[647]\ttrain-auc:1.00000\tval-auc:0.73798\n",
            "[648]\ttrain-auc:1.00000\tval-auc:0.73786\n",
            "[649]\ttrain-auc:1.00000\tval-auc:0.73769\n",
            "[650]\ttrain-auc:1.00000\tval-auc:0.73743\n",
            "[651]\ttrain-auc:1.00000\tval-auc:0.73756\n",
            "[652]\ttrain-auc:1.00000\tval-auc:0.73738\n",
            "[653]\ttrain-auc:1.00000\tval-auc:0.73754\n",
            "[654]\ttrain-auc:1.00000\tval-auc:0.73762\n",
            "[655]\ttrain-auc:1.00000\tval-auc:0.73772\n",
            "[656]\ttrain-auc:1.00000\tval-auc:0.73771\n",
            "[657]\ttrain-auc:1.00000\tval-auc:0.73749\n",
            "[658]\ttrain-auc:1.00000\tval-auc:0.73736\n",
            "[659]\ttrain-auc:1.00000\tval-auc:0.73756\n",
            "[660]\ttrain-auc:1.00000\tval-auc:0.73760\n",
            "[661]\ttrain-auc:1.00000\tval-auc:0.73765\n",
            "[662]\ttrain-auc:1.00000\tval-auc:0.73780\n",
            "[663]\ttrain-auc:1.00000\tval-auc:0.73769\n",
            "[664]\ttrain-auc:1.00000\tval-auc:0.73766\n",
            "[665]\ttrain-auc:1.00000\tval-auc:0.73771\n",
            "[666]\ttrain-auc:1.00000\tval-auc:0.73757\n",
            "[667]\ttrain-auc:1.00000\tval-auc:0.73734\n",
            "[668]\ttrain-auc:1.00000\tval-auc:0.73744\n",
            "[669]\ttrain-auc:1.00000\tval-auc:0.73749\n",
            "[670]\ttrain-auc:1.00000\tval-auc:0.73757\n",
            "[671]\ttrain-auc:1.00000\tval-auc:0.73746\n",
            "[672]\ttrain-auc:1.00000\tval-auc:0.73750\n",
            "[673]\ttrain-auc:1.00000\tval-auc:0.73752\n",
            "[674]\ttrain-auc:1.00000\tval-auc:0.73747\n",
            "[675]\ttrain-auc:1.00000\tval-auc:0.73753\n",
            "[676]\ttrain-auc:1.00000\tval-auc:0.73748\n",
            "[677]\ttrain-auc:1.00000\tval-auc:0.73763\n",
            "[678]\ttrain-auc:1.00000\tval-auc:0.73748\n",
            "[679]\ttrain-auc:1.00000\tval-auc:0.73766\n",
            "[680]\ttrain-auc:1.00000\tval-auc:0.73764\n",
            "[681]\ttrain-auc:1.00000\tval-auc:0.73764\n",
            "[682]\ttrain-auc:1.00000\tval-auc:0.73750\n",
            "[683]\ttrain-auc:1.00000\tval-auc:0.73754\n",
            "[684]\ttrain-auc:1.00000\tval-auc:0.73749\n",
            "[685]\ttrain-auc:1.00000\tval-auc:0.73738\n",
            "[686]\ttrain-auc:1.00000\tval-auc:0.73735\n",
            "[687]\ttrain-auc:1.00000\tval-auc:0.73733\n",
            "[688]\ttrain-auc:1.00000\tval-auc:0.73745\n",
            "[689]\ttrain-auc:1.00000\tval-auc:0.73742\n",
            "[690]\ttrain-auc:1.00000\tval-auc:0.73729\n",
            "[691]\ttrain-auc:1.00000\tval-auc:0.73733\n",
            "[692]\ttrain-auc:1.00000\tval-auc:0.73720\n",
            "[693]\ttrain-auc:1.00000\tval-auc:0.73732\n",
            "[694]\ttrain-auc:1.00000\tval-auc:0.73713\n",
            "[695]\ttrain-auc:1.00000\tval-auc:0.73706\n",
            "[696]\ttrain-auc:1.00000\tval-auc:0.73715\n",
            "[697]\ttrain-auc:1.00000\tval-auc:0.73730\n",
            "[698]\ttrain-auc:1.00000\tval-auc:0.73723\n",
            "[699]\ttrain-auc:1.00000\tval-auc:0.73736\n",
            "[700]\ttrain-auc:1.00000\tval-auc:0.73749\n",
            "[701]\ttrain-auc:1.00000\tval-auc:0.73745\n",
            "[702]\ttrain-auc:1.00000\tval-auc:0.73741\n",
            "[703]\ttrain-auc:1.00000\tval-auc:0.73755\n",
            "[704]\ttrain-auc:1.00000\tval-auc:0.73755\n",
            "[705]\ttrain-auc:1.00000\tval-auc:0.73756\n",
            "[706]\ttrain-auc:1.00000\tval-auc:0.73758\n",
            "[707]\ttrain-auc:1.00000\tval-auc:0.73755\n",
            "[708]\ttrain-auc:1.00000\tval-auc:0.73753\n",
            "[709]\ttrain-auc:1.00000\tval-auc:0.73750\n",
            "[710]\ttrain-auc:1.00000\tval-auc:0.73745\n",
            "[711]\ttrain-auc:1.00000\tval-auc:0.73721\n",
            "[712]\ttrain-auc:1.00000\tval-auc:0.73714\n",
            "[713]\ttrain-auc:1.00000\tval-auc:0.73720\n",
            "[714]\ttrain-auc:1.00000\tval-auc:0.73699\n",
            "[715]\ttrain-auc:1.00000\tval-auc:0.73699\n",
            "[716]\ttrain-auc:1.00000\tval-auc:0.73707\n",
            "[717]\ttrain-auc:1.00000\tval-auc:0.73738\n",
            "[718]\ttrain-auc:1.00000\tval-auc:0.73740\n",
            "[719]\ttrain-auc:1.00000\tval-auc:0.73742\n",
            "[720]\ttrain-auc:1.00000\tval-auc:0.73750\n",
            "[721]\ttrain-auc:1.00000\tval-auc:0.73738\n",
            "[722]\ttrain-auc:1.00000\tval-auc:0.73746\n",
            "[723]\ttrain-auc:1.00000\tval-auc:0.73748\n",
            "[724]\ttrain-auc:1.00000\tval-auc:0.73729\n",
            "[725]\ttrain-auc:1.00000\tval-auc:0.73719\n",
            "[726]\ttrain-auc:1.00000\tval-auc:0.73708\n",
            "[727]\ttrain-auc:1.00000\tval-auc:0.73707\n",
            "[728]\ttrain-auc:1.00000\tval-auc:0.73715\n",
            "[729]\ttrain-auc:1.00000\tval-auc:0.73746\n",
            "[730]\ttrain-auc:1.00000\tval-auc:0.73754\n",
            "[731]\ttrain-auc:1.00000\tval-auc:0.73748\n",
            "[732]\ttrain-auc:1.00000\tval-auc:0.73736\n",
            "[733]\ttrain-auc:1.00000\tval-auc:0.73741\n",
            "[734]\ttrain-auc:1.00000\tval-auc:0.73750\n",
            "[735]\ttrain-auc:1.00000\tval-auc:0.73784\n",
            "[736]\ttrain-auc:1.00000\tval-auc:0.73776\n",
            "[737]\ttrain-auc:1.00000\tval-auc:0.73767\n",
            "[738]\ttrain-auc:1.00000\tval-auc:0.73766\n",
            "[739]\ttrain-auc:1.00000\tval-auc:0.73768\n",
            "[740]\ttrain-auc:1.00000\tval-auc:0.73767\n",
            "[741]\ttrain-auc:1.00000\tval-auc:0.73767\n",
            "[742]\ttrain-auc:1.00000\tval-auc:0.73752\n",
            "[743]\ttrain-auc:1.00000\tval-auc:0.73756\n",
            "[744]\ttrain-auc:1.00000\tval-auc:0.73749\n",
            "[745]\ttrain-auc:1.00000\tval-auc:0.73731\n",
            "[746]\ttrain-auc:1.00000\tval-auc:0.73750\n",
            "[747]\ttrain-auc:1.00000\tval-auc:0.73751\n",
            "[748]\ttrain-auc:1.00000\tval-auc:0.73742\n",
            "[749]\ttrain-auc:1.00000\tval-auc:0.73730\n",
            "[750]\ttrain-auc:1.00000\tval-auc:0.73723\n",
            "[751]\ttrain-auc:1.00000\tval-auc:0.73719\n",
            "[752]\ttrain-auc:1.00000\tval-auc:0.73713\n",
            "[753]\ttrain-auc:1.00000\tval-auc:0.73725\n",
            "[754]\ttrain-auc:1.00000\tval-auc:0.73732\n",
            "[755]\ttrain-auc:1.00000\tval-auc:0.73731\n",
            "[756]\ttrain-auc:1.00000\tval-auc:0.73722\n",
            "[757]\ttrain-auc:1.00000\tval-auc:0.73724\n",
            "[758]\ttrain-auc:1.00000\tval-auc:0.73707\n",
            "[759]\ttrain-auc:1.00000\tval-auc:0.73708\n",
            "[760]\ttrain-auc:1.00000\tval-auc:0.73697\n",
            "[761]\ttrain-auc:1.00000\tval-auc:0.73673\n",
            "[762]\ttrain-auc:1.00000\tval-auc:0.73669\n",
            "[763]\ttrain-auc:1.00000\tval-auc:0.73688\n",
            "[764]\ttrain-auc:1.00000\tval-auc:0.73663\n",
            "[765]\ttrain-auc:1.00000\tval-auc:0.73658\n",
            "[766]\ttrain-auc:1.00000\tval-auc:0.73662\n",
            "[767]\ttrain-auc:1.00000\tval-auc:0.73665\n",
            "[768]\ttrain-auc:1.00000\tval-auc:0.73660\n",
            "[769]\ttrain-auc:1.00000\tval-auc:0.73663\n",
            "[770]\ttrain-auc:1.00000\tval-auc:0.73676\n",
            "[771]\ttrain-auc:1.00000\tval-auc:0.73660\n",
            "[772]\ttrain-auc:1.00000\tval-auc:0.73682\n",
            "[773]\ttrain-auc:1.00000\tval-auc:0.73677\n",
            "[774]\ttrain-auc:1.00000\tval-auc:0.73670\n",
            "[775]\ttrain-auc:1.00000\tval-auc:0.73661\n",
            "[776]\ttrain-auc:1.00000\tval-auc:0.73660\n",
            "[777]\ttrain-auc:1.00000\tval-auc:0.73669\n",
            "[778]\ttrain-auc:1.00000\tval-auc:0.73691\n",
            "[779]\ttrain-auc:1.00000\tval-auc:0.73678\n",
            "[780]\ttrain-auc:1.00000\tval-auc:0.73694\n",
            "[781]\ttrain-auc:1.00000\tval-auc:0.73679\n",
            "[782]\ttrain-auc:1.00000\tval-auc:0.73673\n",
            "[783]\ttrain-auc:1.00000\tval-auc:0.73669\n",
            "[784]\ttrain-auc:1.00000\tval-auc:0.73670\n",
            "[785]\ttrain-auc:1.00000\tval-auc:0.73654\n",
            "[786]\ttrain-auc:1.00000\tval-auc:0.73675\n",
            "[787]\ttrain-auc:1.00000\tval-auc:0.73694\n",
            "[788]\ttrain-auc:1.00000\tval-auc:0.73682\n",
            "[789]\ttrain-auc:1.00000\tval-auc:0.73678\n",
            "[790]\ttrain-auc:1.00000\tval-auc:0.73665\n",
            "[791]\ttrain-auc:1.00000\tval-auc:0.73693\n",
            "[792]\ttrain-auc:1.00000\tval-auc:0.73687\n",
            "[793]\ttrain-auc:1.00000\tval-auc:0.73686\n",
            "[794]\ttrain-auc:1.00000\tval-auc:0.73674\n",
            "[795]\ttrain-auc:1.00000\tval-auc:0.73674\n",
            "[796]\ttrain-auc:1.00000\tval-auc:0.73669\n",
            "[797]\ttrain-auc:1.00000\tval-auc:0.73667\n",
            "[798]\ttrain-auc:1.00000\tval-auc:0.73669\n",
            "[799]\ttrain-auc:1.00000\tval-auc:0.73688\n",
            "[800]\ttrain-auc:1.00000\tval-auc:0.73680\n",
            "[801]\ttrain-auc:1.00000\tval-auc:0.73677\n",
            "[802]\ttrain-auc:1.00000\tval-auc:0.73662\n",
            "[803]\ttrain-auc:1.00000\tval-auc:0.73650\n",
            "[804]\ttrain-auc:1.00000\tval-auc:0.73653\n",
            "[805]\ttrain-auc:1.00000\tval-auc:0.73653\n",
            "[806]\ttrain-auc:1.00000\tval-auc:0.73653\n",
            "[807]\ttrain-auc:1.00000\tval-auc:0.73644\n",
            "[808]\ttrain-auc:1.00000\tval-auc:0.73647\n",
            "[809]\ttrain-auc:1.00000\tval-auc:0.73639\n",
            "[810]\ttrain-auc:1.00000\tval-auc:0.73659\n",
            "[811]\ttrain-auc:1.00000\tval-auc:0.73665\n",
            "[812]\ttrain-auc:1.00000\tval-auc:0.73661\n",
            "[813]\ttrain-auc:1.00000\tval-auc:0.73636\n",
            "[814]\ttrain-auc:1.00000\tval-auc:0.73629\n",
            "[815]\ttrain-auc:1.00000\tval-auc:0.73621\n",
            "[816]\ttrain-auc:1.00000\tval-auc:0.73613\n",
            "[817]\ttrain-auc:1.00000\tval-auc:0.73617\n",
            "[818]\ttrain-auc:1.00000\tval-auc:0.73620\n",
            "[819]\ttrain-auc:1.00000\tval-auc:0.73641\n",
            "[820]\ttrain-auc:1.00000\tval-auc:0.73638\n",
            "[821]\ttrain-auc:1.00000\tval-auc:0.73631\n",
            "[822]\ttrain-auc:1.00000\tval-auc:0.73644\n",
            "[823]\ttrain-auc:1.00000\tval-auc:0.73618\n",
            "[824]\ttrain-auc:1.00000\tval-auc:0.73608\n",
            "[825]\ttrain-auc:1.00000\tval-auc:0.73618\n",
            "[826]\ttrain-auc:1.00000\tval-auc:0.73613\n",
            "[827]\ttrain-auc:1.00000\tval-auc:0.73635\n",
            "[828]\ttrain-auc:1.00000\tval-auc:0.73647\n",
            "[829]\ttrain-auc:1.00000\tval-auc:0.73648\n",
            "[830]\ttrain-auc:1.00000\tval-auc:0.73669\n",
            "[831]\ttrain-auc:1.00000\tval-auc:0.73669\n",
            "[832]\ttrain-auc:1.00000\tval-auc:0.73675\n",
            "[833]\ttrain-auc:1.00000\tval-auc:0.73663\n",
            "[834]\ttrain-auc:1.00000\tval-auc:0.73666\n",
            "[835]\ttrain-auc:1.00000\tval-auc:0.73654\n",
            "[836]\ttrain-auc:1.00000\tval-auc:0.73656\n",
            "[837]\ttrain-auc:1.00000\tval-auc:0.73648\n",
            "[838]\ttrain-auc:1.00000\tval-auc:0.73633\n",
            "[839]\ttrain-auc:1.00000\tval-auc:0.73640\n",
            "[840]\ttrain-auc:1.00000\tval-auc:0.73632\n",
            "[841]\ttrain-auc:1.00000\tval-auc:0.73610\n",
            "[842]\ttrain-auc:1.00000\tval-auc:0.73620\n",
            "[843]\ttrain-auc:1.00000\tval-auc:0.73622\n",
            "[844]\ttrain-auc:1.00000\tval-auc:0.73616\n",
            "[845]\ttrain-auc:1.00000\tval-auc:0.73626\n",
            "[846]\ttrain-auc:1.00000\tval-auc:0.73619\n",
            "[847]\ttrain-auc:1.00000\tval-auc:0.73629\n",
            "[848]\ttrain-auc:1.00000\tval-auc:0.73612\n",
            "[849]\ttrain-auc:1.00000\tval-auc:0.73635\n",
            "[850]\ttrain-auc:1.00000\tval-auc:0.73632\n",
            "[851]\ttrain-auc:1.00000\tval-auc:0.73642\n",
            "[852]\ttrain-auc:1.00000\tval-auc:0.73622\n",
            "[853]\ttrain-auc:1.00000\tval-auc:0.73617\n",
            "[854]\ttrain-auc:1.00000\tval-auc:0.73615\n",
            "[855]\ttrain-auc:1.00000\tval-auc:0.73598\n",
            "[856]\ttrain-auc:1.00000\tval-auc:0.73595\n",
            "[857]\ttrain-auc:1.00000\tval-auc:0.73602\n",
            "[858]\ttrain-auc:1.00000\tval-auc:0.73595\n",
            "[859]\ttrain-auc:1.00000\tval-auc:0.73604\n",
            "[860]\ttrain-auc:1.00000\tval-auc:0.73606\n",
            "[861]\ttrain-auc:1.00000\tval-auc:0.73591\n",
            "[862]\ttrain-auc:1.00000\tval-auc:0.73592\n",
            "[863]\ttrain-auc:1.00000\tval-auc:0.73583\n",
            "[864]\ttrain-auc:1.00000\tval-auc:0.73576\n",
            "[865]\ttrain-auc:1.00000\tval-auc:0.73570\n",
            "[866]\ttrain-auc:1.00000\tval-auc:0.73572\n",
            "[867]\ttrain-auc:1.00000\tval-auc:0.73567\n",
            "[868]\ttrain-auc:1.00000\tval-auc:0.73570\n",
            "[869]\ttrain-auc:1.00000\tval-auc:0.73559\n",
            "[870]\ttrain-auc:1.00000\tval-auc:0.73556\n",
            "[871]\ttrain-auc:1.00000\tval-auc:0.73560\n",
            "[872]\ttrain-auc:1.00000\tval-auc:0.73570\n",
            "[873]\ttrain-auc:1.00000\tval-auc:0.73567\n",
            "[874]\ttrain-auc:1.00000\tval-auc:0.73566\n",
            "[875]\ttrain-auc:1.00000\tval-auc:0.73557\n",
            "[876]\ttrain-auc:1.00000\tval-auc:0.73579\n",
            "[877]\ttrain-auc:1.00000\tval-auc:0.73572\n",
            "[878]\ttrain-auc:1.00000\tval-auc:0.73569\n",
            "[879]\ttrain-auc:1.00000\tval-auc:0.73583\n",
            "[880]\ttrain-auc:1.00000\tval-auc:0.73593\n",
            "[881]\ttrain-auc:1.00000\tval-auc:0.73588\n",
            "[882]\ttrain-auc:1.00000\tval-auc:0.73603\n",
            "[883]\ttrain-auc:1.00000\tval-auc:0.73601\n",
            "[884]\ttrain-auc:1.00000\tval-auc:0.73607\n",
            "[885]\ttrain-auc:1.00000\tval-auc:0.73588\n",
            "[886]\ttrain-auc:1.00000\tval-auc:0.73582\n",
            "[887]\ttrain-auc:1.00000\tval-auc:0.73578\n",
            "[888]\ttrain-auc:1.00000\tval-auc:0.73598\n",
            "[889]\ttrain-auc:1.00000\tval-auc:0.73584\n",
            "[890]\ttrain-auc:1.00000\tval-auc:0.73583\n",
            "[891]\ttrain-auc:1.00000\tval-auc:0.73581\n",
            "[892]\ttrain-auc:1.00000\tval-auc:0.73581\n",
            "[893]\ttrain-auc:1.00000\tval-auc:0.73596\n",
            "[894]\ttrain-auc:1.00000\tval-auc:0.73586\n",
            "[895]\ttrain-auc:1.00000\tval-auc:0.73597\n",
            "[896]\ttrain-auc:1.00000\tval-auc:0.73598\n",
            "[897]\ttrain-auc:1.00000\tval-auc:0.73606\n",
            "[898]\ttrain-auc:1.00000\tval-auc:0.73620\n",
            "[899]\ttrain-auc:1.00000\tval-auc:0.73621\n",
            "[900]\ttrain-auc:1.00000\tval-auc:0.73604\n",
            "[901]\ttrain-auc:1.00000\tval-auc:0.73596\n",
            "[902]\ttrain-auc:1.00000\tval-auc:0.73602\n",
            "[903]\ttrain-auc:1.00000\tval-auc:0.73583\n",
            "[904]\ttrain-auc:1.00000\tval-auc:0.73581\n",
            "[905]\ttrain-auc:1.00000\tval-auc:0.73570\n",
            "[906]\ttrain-auc:1.00000\tval-auc:0.73559\n",
            "[907]\ttrain-auc:1.00000\tval-auc:0.73553\n",
            "[908]\ttrain-auc:1.00000\tval-auc:0.73565\n",
            "[909]\ttrain-auc:1.00000\tval-auc:0.73563\n",
            "[910]\ttrain-auc:1.00000\tval-auc:0.73579\n",
            "[911]\ttrain-auc:1.00000\tval-auc:0.73581\n",
            "[912]\ttrain-auc:1.00000\tval-auc:0.73565\n",
            "[913]\ttrain-auc:1.00000\tval-auc:0.73561\n",
            "[914]\ttrain-auc:1.00000\tval-auc:0.73555\n",
            "[915]\ttrain-auc:1.00000\tval-auc:0.73549\n",
            "[916]\ttrain-auc:1.00000\tval-auc:0.73578\n",
            "[917]\ttrain-auc:1.00000\tval-auc:0.73579\n",
            "[918]\ttrain-auc:1.00000\tval-auc:0.73586\n",
            "[919]\ttrain-auc:1.00000\tval-auc:0.73580\n",
            "[920]\ttrain-auc:1.00000\tval-auc:0.73570\n",
            "[921]\ttrain-auc:1.00000\tval-auc:0.73569\n",
            "[922]\ttrain-auc:1.00000\tval-auc:0.73550\n",
            "[923]\ttrain-auc:1.00000\tval-auc:0.73582\n",
            "[924]\ttrain-auc:1.00000\tval-auc:0.73582\n",
            "[925]\ttrain-auc:1.00000\tval-auc:0.73586\n",
            "[926]\ttrain-auc:1.00000\tval-auc:0.73572\n",
            "[927]\ttrain-auc:1.00000\tval-auc:0.73582\n",
            "[928]\ttrain-auc:1.00000\tval-auc:0.73582\n",
            "[929]\ttrain-auc:1.00000\tval-auc:0.73584\n",
            "[930]\ttrain-auc:1.00000\tval-auc:0.73594\n",
            "[931]\ttrain-auc:1.00000\tval-auc:0.73591\n",
            "[932]\ttrain-auc:1.00000\tval-auc:0.73569\n",
            "[933]\ttrain-auc:1.00000\tval-auc:0.73585\n",
            "[934]\ttrain-auc:1.00000\tval-auc:0.73576\n",
            "[935]\ttrain-auc:1.00000\tval-auc:0.73573\n",
            "[936]\ttrain-auc:1.00000\tval-auc:0.73578\n",
            "[937]\ttrain-auc:1.00000\tval-auc:0.73577\n",
            "[938]\ttrain-auc:1.00000\tval-auc:0.73579\n",
            "[939]\ttrain-auc:1.00000\tval-auc:0.73564\n",
            "[940]\ttrain-auc:1.00000\tval-auc:0.73559\n",
            "[941]\ttrain-auc:1.00000\tval-auc:0.73569\n",
            "[942]\ttrain-auc:1.00000\tval-auc:0.73586\n",
            "[943]\ttrain-auc:1.00000\tval-auc:0.73583\n",
            "[944]\ttrain-auc:1.00000\tval-auc:0.73571\n",
            "[945]\ttrain-auc:1.00000\tval-auc:0.73568\n",
            "[946]\ttrain-auc:1.00000\tval-auc:0.73553\n",
            "[947]\ttrain-auc:1.00000\tval-auc:0.73561\n",
            "[948]\ttrain-auc:1.00000\tval-auc:0.73551\n",
            "[949]\ttrain-auc:1.00000\tval-auc:0.73554\n",
            "[950]\ttrain-auc:1.00000\tval-auc:0.73574\n",
            "[951]\ttrain-auc:1.00000\tval-auc:0.73563\n",
            "[952]\ttrain-auc:1.00000\tval-auc:0.73568\n",
            "[953]\ttrain-auc:1.00000\tval-auc:0.73576\n",
            "[954]\ttrain-auc:1.00000\tval-auc:0.73586\n",
            "[955]\ttrain-auc:1.00000\tval-auc:0.73580\n",
            "[956]\ttrain-auc:1.00000\tval-auc:0.73583\n",
            "[957]\ttrain-auc:1.00000\tval-auc:0.73574\n",
            "[958]\ttrain-auc:1.00000\tval-auc:0.73580\n",
            "[959]\ttrain-auc:1.00000\tval-auc:0.73581\n",
            "[960]\ttrain-auc:1.00000\tval-auc:0.73590\n",
            "[961]\ttrain-auc:1.00000\tval-auc:0.73586\n",
            "[962]\ttrain-auc:1.00000\tval-auc:0.73587\n",
            "[963]\ttrain-auc:1.00000\tval-auc:0.73566\n",
            "[964]\ttrain-auc:1.00000\tval-auc:0.73567\n",
            "[965]\ttrain-auc:1.00000\tval-auc:0.73557\n",
            "[966]\ttrain-auc:1.00000\tval-auc:0.73555\n",
            "[967]\ttrain-auc:1.00000\tval-auc:0.73555\n",
            "[968]\ttrain-auc:1.00000\tval-auc:0.73553\n",
            "[969]\ttrain-auc:1.00000\tval-auc:0.73547\n",
            "[970]\ttrain-auc:1.00000\tval-auc:0.73545\n",
            "[971]\ttrain-auc:1.00000\tval-auc:0.73551\n",
            "[972]\ttrain-auc:1.00000\tval-auc:0.73539\n",
            "[973]\ttrain-auc:1.00000\tval-auc:0.73539\n",
            "[974]\ttrain-auc:1.00000\tval-auc:0.73547\n",
            "[975]\ttrain-auc:1.00000\tval-auc:0.73535\n",
            "[976]\ttrain-auc:1.00000\tval-auc:0.73529\n",
            "[977]\ttrain-auc:1.00000\tval-auc:0.73525\n",
            "[978]\ttrain-auc:1.00000\tval-auc:0.73523\n",
            "[979]\ttrain-auc:1.00000\tval-auc:0.73509\n",
            "[980]\ttrain-auc:1.00000\tval-auc:0.73509\n",
            "[981]\ttrain-auc:1.00000\tval-auc:0.73507\n",
            "[982]\ttrain-auc:1.00000\tval-auc:0.73497\n",
            "[983]\ttrain-auc:1.00000\tval-auc:0.73497\n",
            "[984]\ttrain-auc:1.00000\tval-auc:0.73508\n",
            "[985]\ttrain-auc:1.00000\tval-auc:0.73499\n",
            "[986]\ttrain-auc:1.00000\tval-auc:0.73500\n",
            "[987]\ttrain-auc:1.00000\tval-auc:0.73499\n",
            "[988]\ttrain-auc:1.00000\tval-auc:0.73504\n",
            "[989]\ttrain-auc:1.00000\tval-auc:0.73503\n",
            "[990]\ttrain-auc:1.00000\tval-auc:0.73507\n",
            "[991]\ttrain-auc:1.00000\tval-auc:0.73500\n",
            "[992]\ttrain-auc:1.00000\tval-auc:0.73517\n",
            "[993]\ttrain-auc:1.00000\tval-auc:0.73522\n",
            "[994]\ttrain-auc:1.00000\tval-auc:0.73525\n",
            "[995]\ttrain-auc:1.00000\tval-auc:0.73519\n",
            "[996]\ttrain-auc:1.00000\tval-auc:0.73521\n",
            "[997]\ttrain-auc:1.00000\tval-auc:0.73519\n",
            "[998]\ttrain-auc:1.00000\tval-auc:0.73540\n",
            "[999]\ttrain-auc:1.00000\tval-auc:0.73540\n"
          ]
        }
      ]
    },
    {
      "cell_type": "markdown",
      "source": [
        "Whoa! So if we create a model with 1,000 trees, it looks like it just keeps getting better and better on the training set (not surprising), but certainly hits a point of diminishing (or negative) returns on the validation set. The reason for this is the model is overfitting."
      ],
      "metadata": {
        "id": "xTB3MD2Ht9u-"
      }
    },
    {
      "cell_type": "markdown",
      "source": [
        "Our final validation ROC AUC score is $.7354$. I bet we can do better."
      ],
      "metadata": {
        "id": "1Ln4PNxxuSqk"
      }
    },
    {
      "cell_type": "markdown",
      "source": [
        "### Early Stopping"
      ],
      "metadata": {
        "id": "OSpI51dKuwLc"
      }
    },
    {
      "cell_type": "markdown",
      "source": [
        "One way we might be able to improve the performance is by stopping training much earlier to prevent overfitting.\n",
        "\n",
        "To do this, we use the validation set, which means the choice of the model depends not just on the performance on the training data, but also on the validation data. This is fine - in fact this is what the validation data is for. But, please note there's a *big* difference between the validation dataset and the test dataset, and you would never want to do something like this with the test dataset."
      ],
      "metadata": {
        "id": "In8uDH-WvGAb"
      }
    },
    {
      "cell_type": "markdown",
      "source": [
        "We note that in our model specification above we included both the training data and the valuation data in the *evals* parameter. This is because we're curious about the model performance on both. However, only the last tuple of data will be used when determining early stopping."
      ],
      "metadata": {
        "id": "yrmBP1hXvrYT"
      }
    },
    {
      "cell_type": "markdown",
      "source": [
        "Early stopping works by stopping if, after a set number of rounds, the model performance on the validation data has not improved beyond a certain amount (the tolerance). In our case, we'll stop the model fit process if it goes 30 rounds (adds 30 trees) without any notable improvement. We do this with the *early_stopping_rounds* parameter in the *train* method."
      ],
      "metadata": {
        "id": "bjLteV5vwh4i"
      }
    },
    {
      "cell_type": "code",
      "source": [
        "xgb_model_1 = xgb.train(params, dtrain, num_boost_round = 1000, early_stopping_rounds = 30, evals = [(dtrain, 'train'), (dval, 'val')])"
      ],
      "metadata": {
        "id": "zCBFLmQEw74o",
        "colab": {
          "base_uri": "https://localhost:8080/"
        },
        "outputId": "1f484fd3-0ad4-4803-8d63-86587cbca668"
      },
      "execution_count": 7,
      "outputs": [
        {
          "output_type": "stream",
          "name": "stdout",
          "text": [
            "[0]\ttrain-auc:0.79531\tval-auc:0.73119\n",
            "[1]\ttrain-auc:0.80636\tval-auc:0.73976\n",
            "[2]\ttrain-auc:0.82250\tval-auc:0.73920\n",
            "[3]\ttrain-auc:0.83829\tval-auc:0.73583\n",
            "[4]\ttrain-auc:0.85144\tval-auc:0.74157\n",
            "[5]\ttrain-auc:0.87664\tval-auc:0.73214\n",
            "[6]\ttrain-auc:0.88978\tval-auc:0.73201\n",
            "[7]\ttrain-auc:0.89280\tval-auc:0.73452\n",
            "[8]\ttrain-auc:0.90171\tval-auc:0.72859\n",
            "[9]\ttrain-auc:0.90602\tval-auc:0.73272\n",
            "[10]\ttrain-auc:0.92157\tval-auc:0.73137\n",
            "[11]\ttrain-auc:0.93475\tval-auc:0.72668\n",
            "[12]\ttrain-auc:0.94233\tval-auc:0.72230\n",
            "[13]\ttrain-auc:0.95055\tval-auc:0.72127\n",
            "[14]\ttrain-auc:0.95533\tval-auc:0.71564\n",
            "[15]\ttrain-auc:0.95822\tval-auc:0.71433\n",
            "[16]\ttrain-auc:0.96280\tval-auc:0.71521\n",
            "[17]\ttrain-auc:0.96772\tval-auc:0.71352\n",
            "[18]\ttrain-auc:0.97143\tval-auc:0.72707\n",
            "[19]\ttrain-auc:0.97464\tval-auc:0.72644\n",
            "[20]\ttrain-auc:0.97718\tval-auc:0.72580\n",
            "[21]\ttrain-auc:0.97893\tval-auc:0.72509\n",
            "[22]\ttrain-auc:0.98167\tval-auc:0.72142\n",
            "[23]\ttrain-auc:0.98256\tval-auc:0.72197\n",
            "[24]\ttrain-auc:0.98553\tval-auc:0.72124\n",
            "[25]\ttrain-auc:0.98676\tval-auc:0.72233\n",
            "[26]\ttrain-auc:0.98976\tval-auc:0.71914\n",
            "[27]\ttrain-auc:0.99136\tval-auc:0.71955\n",
            "[28]\ttrain-auc:0.99207\tval-auc:0.71662\n",
            "[29]\ttrain-auc:0.99281\tval-auc:0.71585\n",
            "[30]\ttrain-auc:0.99367\tval-auc:0.71515\n",
            "[31]\ttrain-auc:0.99423\tval-auc:0.71510\n",
            "[32]\ttrain-auc:0.99499\tval-auc:0.71714\n",
            "[33]\ttrain-auc:0.99579\tval-auc:0.71353\n",
            "[34]\ttrain-auc:0.99647\tval-auc:0.71266\n"
          ]
        }
      ]
    },
    {
      "cell_type": "markdown",
      "source": [
        "So, it looks like instead of using 1,000 trees in the model, we can do better with... 5. We can check out the best iteration and its corresponding score on the valuation data with the *attributes* method."
      ],
      "metadata": {
        "id": "v0_rCEb_XvZl"
      }
    },
    {
      "cell_type": "code",
      "source": [
        "xgb_model_1.attributes()"
      ],
      "metadata": {
        "id": "DTdqdGWdz2aE",
        "colab": {
          "base_uri": "https://localhost:8080/"
        },
        "outputId": "02efb8d9-5b48-425d-ba69-72e5b6b7983c"
      },
      "execution_count": 8,
      "outputs": [
        {
          "output_type": "execute_result",
          "data": {
            "text/plain": [
              "{'best_iteration': '4', 'best_score': '0.7415745878504073'}"
            ]
          },
          "metadata": {},
          "execution_count": 8
        }
      ]
    },
    {
      "cell_type": "markdown",
      "source": [
        "And, indeed, we can calculate this ROC AUC score directly with the code below. Note that for the prediction if we only want it to use up until the best iteration (the iteration that does the best on the valuation data), you need to specify this with the *iteration_range* parameter."
      ],
      "metadata": {
        "id": "Ye5f5Mh8YAF0"
      }
    },
    {
      "cell_type": "code",
      "source": [
        "val_set_pred_prob = xgb_model_1.predict(dval, iteration_range=(0, xgb_model_1.best_iteration + 1))\n",
        "roc_auc_score(y_val, val_set_pred_prob)"
      ],
      "metadata": {
        "id": "NcobaPWqwJxD",
        "colab": {
          "base_uri": "https://localhost:8080/"
        },
        "outputId": "c8bf1ee3-ccf5-4a4a-92e3-a440a482c1f8"
      },
      "execution_count": 9,
      "outputs": [
        {
          "output_type": "execute_result",
          "data": {
            "text/plain": [
              "0.7415745878504072"
            ]
          },
          "metadata": {},
          "execution_count": 9
        }
      ]
    },
    {
      "cell_type": "markdown",
      "source": [
        "### Learning Rate Optimization"
      ],
      "metadata": {
        "id": "hEo0OFmVYYe1"
      }
    },
    {
      "cell_type": "markdown",
      "source": [
        "We've set a default learning rate of $0.3$. Could we do better?\n",
        "\n",
        "Let's investigate. First, let's create an array of 25 learning rates, starting at .01, going up to 1, equally spaced."
      ],
      "metadata": {
        "id": "qBSk6jFBYiPs"
      }
    },
    {
      "cell_type": "code",
      "source": [
        "learning_rates = np.linspace(start=0.01, stop=1, num=25)"
      ],
      "metadata": {
        "id": "FYYd3Lzn4rBf"
      },
      "execution_count": 10,
      "outputs": []
    },
    {
      "cell_type": "markdown",
      "source": [
        "Now, let's write some code that trains a XGBoost model for each of these learning rates. It should use the same parameters (except the learning rate), training data, number of rounds, and early stopping rounds we've used before. Only the learning rate will be different.\n",
        "\n",
        "For each learning rate, calculate the ROC AUC score of the optimal stopping model on the validation data, and record the number of trees required to get to that optimal stopping model.\n",
        "\n",
        "*NOTE* - Within the training method, you'll want to set *verbose_eval* = **False** or else the for loop will produce a *lot* of text."
      ],
      "metadata": {
        "id": "rZnvmPIoY7eD"
      }
    },
    {
      "cell_type": "markdown",
      "source": [],
      "metadata": {
        "id": "XQ61MJiQY_1m"
      }
    },
    {
      "cell_type": "code",
      "source": [
        "val_aucs = [] #The ROC AUC score on the validation data for the optimal number of iterations (trees)\n",
        "best_iters = [] #The optimal number of iterations (trees) for the given learning rate\n",
        "for learning_rate in learning_rates: #Fit the model to the training data for the different learning rates, and record the optimal ROC AUC and iteration for each learning rate.\n",
        "### YOUR CODE HERE ###\n",
        "    params = {'objective': 'binary:logistic', 'eval_metric': 'auc'}\n",
        "\n",
        "    params['learning_rate'] = learning_rate\n",
        "\n",
        "    xgb_model = xgb.train(params, dtrain, num_boost_round = 1000, early_stopping_rounds = 30, evals = [(dtrain, 'train'), (dval, 'val')], verbose_eval=False)\n",
        "\n",
        "    val_set_pred_prob = xgb_model.predict(dval, iteration_range=(0, xgb_model.best_iteration + 1))\n",
        "\n",
        "    val_auc = roc_auc_score(y_val, val_set_pred_prob)\n",
        "\n",
        "    val_aucs.append(val_auc)\n",
        "    best_iters.append(xgb_model.best_iteration)"
      ],
      "metadata": {
        "id": "W1Nd7e2rZYas"
      },
      "execution_count": 19,
      "outputs": []
    },
    {
      "cell_type": "markdown",
      "source": [
        "Let's create a DataFrame will our learning rates, best ROC AUC scores, and ideal number of iterations (trees)."
      ],
      "metadata": {
        "id": "Qp9WL3GjcA0B"
      }
    },
    {
      "cell_type": "code",
      "source": [
        "learning_rate_df = pd.DataFrame({'learning_rate': learning_rates, 'val_auc': val_aucs, 'best_iter': best_iters})\n",
        "learning_rate_df.head()"
      ],
      "metadata": {
        "id": "zRkNXFjHC3Jy",
        "colab": {
          "base_uri": "https://localhost:8080/",
          "height": 206
        },
        "outputId": "db27d39f-1147-4122-af28-8c46f9deaa87"
      },
      "execution_count": 20,
      "outputs": [
        {
          "output_type": "execute_result",
          "data": {
            "text/plain": [
              "   learning_rate   val_auc  best_iter\n",
              "0        0.01000  0.743611          4\n",
              "1        0.05125  0.760701         41\n",
              "2        0.09250  0.771297         15\n",
              "3        0.13375  0.755579         10\n",
              "4        0.17500  0.766310         10"
            ],
            "text/html": [
              "\n",
              "  <div id=\"df-92116758-0418-4561-ad04-a51d7d2c96ec\" class=\"colab-df-container\">\n",
              "    <div>\n",
              "<style scoped>\n",
              "    .dataframe tbody tr th:only-of-type {\n",
              "        vertical-align: middle;\n",
              "    }\n",
              "\n",
              "    .dataframe tbody tr th {\n",
              "        vertical-align: top;\n",
              "    }\n",
              "\n",
              "    .dataframe thead th {\n",
              "        text-align: right;\n",
              "    }\n",
              "</style>\n",
              "<table border=\"1\" class=\"dataframe\">\n",
              "  <thead>\n",
              "    <tr style=\"text-align: right;\">\n",
              "      <th></th>\n",
              "      <th>learning_rate</th>\n",
              "      <th>val_auc</th>\n",
              "      <th>best_iter</th>\n",
              "    </tr>\n",
              "  </thead>\n",
              "  <tbody>\n",
              "    <tr>\n",
              "      <th>0</th>\n",
              "      <td>0.01000</td>\n",
              "      <td>0.743611</td>\n",
              "      <td>4</td>\n",
              "    </tr>\n",
              "    <tr>\n",
              "      <th>1</th>\n",
              "      <td>0.05125</td>\n",
              "      <td>0.760701</td>\n",
              "      <td>41</td>\n",
              "    </tr>\n",
              "    <tr>\n",
              "      <th>2</th>\n",
              "      <td>0.09250</td>\n",
              "      <td>0.771297</td>\n",
              "      <td>15</td>\n",
              "    </tr>\n",
              "    <tr>\n",
              "      <th>3</th>\n",
              "      <td>0.13375</td>\n",
              "      <td>0.755579</td>\n",
              "      <td>10</td>\n",
              "    </tr>\n",
              "    <tr>\n",
              "      <th>4</th>\n",
              "      <td>0.17500</td>\n",
              "      <td>0.766310</td>\n",
              "      <td>10</td>\n",
              "    </tr>\n",
              "  </tbody>\n",
              "</table>\n",
              "</div>\n",
              "    <div class=\"colab-df-buttons\">\n",
              "\n",
              "  <div class=\"colab-df-container\">\n",
              "    <button class=\"colab-df-convert\" onclick=\"convertToInteractive('df-92116758-0418-4561-ad04-a51d7d2c96ec')\"\n",
              "            title=\"Convert this dataframe to an interactive table.\"\n",
              "            style=\"display:none;\">\n",
              "\n",
              "  <svg xmlns=\"http://www.w3.org/2000/svg\" height=\"24px\" viewBox=\"0 -960 960 960\">\n",
              "    <path d=\"M120-120v-720h720v720H120Zm60-500h600v-160H180v160Zm220 220h160v-160H400v160Zm0 220h160v-160H400v160ZM180-400h160v-160H180v160Zm440 0h160v-160H620v160ZM180-180h160v-160H180v160Zm440 0h160v-160H620v160Z\"/>\n",
              "  </svg>\n",
              "    </button>\n",
              "\n",
              "  <style>\n",
              "    .colab-df-container {\n",
              "      display:flex;\n",
              "      gap: 12px;\n",
              "    }\n",
              "\n",
              "    .colab-df-convert {\n",
              "      background-color: #E8F0FE;\n",
              "      border: none;\n",
              "      border-radius: 50%;\n",
              "      cursor: pointer;\n",
              "      display: none;\n",
              "      fill: #1967D2;\n",
              "      height: 32px;\n",
              "      padding: 0 0 0 0;\n",
              "      width: 32px;\n",
              "    }\n",
              "\n",
              "    .colab-df-convert:hover {\n",
              "      background-color: #E2EBFA;\n",
              "      box-shadow: 0px 1px 2px rgba(60, 64, 67, 0.3), 0px 1px 3px 1px rgba(60, 64, 67, 0.15);\n",
              "      fill: #174EA6;\n",
              "    }\n",
              "\n",
              "    .colab-df-buttons div {\n",
              "      margin-bottom: 4px;\n",
              "    }\n",
              "\n",
              "    [theme=dark] .colab-df-convert {\n",
              "      background-color: #3B4455;\n",
              "      fill: #D2E3FC;\n",
              "    }\n",
              "\n",
              "    [theme=dark] .colab-df-convert:hover {\n",
              "      background-color: #434B5C;\n",
              "      box-shadow: 0px 1px 3px 1px rgba(0, 0, 0, 0.15);\n",
              "      filter: drop-shadow(0px 1px 2px rgba(0, 0, 0, 0.3));\n",
              "      fill: #FFFFFF;\n",
              "    }\n",
              "  </style>\n",
              "\n",
              "    <script>\n",
              "      const buttonEl =\n",
              "        document.querySelector('#df-92116758-0418-4561-ad04-a51d7d2c96ec button.colab-df-convert');\n",
              "      buttonEl.style.display =\n",
              "        google.colab.kernel.accessAllowed ? 'block' : 'none';\n",
              "\n",
              "      async function convertToInteractive(key) {\n",
              "        const element = document.querySelector('#df-92116758-0418-4561-ad04-a51d7d2c96ec');\n",
              "        const dataTable =\n",
              "          await google.colab.kernel.invokeFunction('convertToInteractive',\n",
              "                                                    [key], {});\n",
              "        if (!dataTable) return;\n",
              "\n",
              "        const docLinkHtml = 'Like what you see? Visit the ' +\n",
              "          '<a target=\"_blank\" href=https://colab.research.google.com/notebooks/data_table.ipynb>data table notebook</a>'\n",
              "          + ' to learn more about interactive tables.';\n",
              "        element.innerHTML = '';\n",
              "        dataTable['output_type'] = 'display_data';\n",
              "        await google.colab.output.renderOutput(dataTable, element);\n",
              "        const docLink = document.createElement('div');\n",
              "        docLink.innerHTML = docLinkHtml;\n",
              "        element.appendChild(docLink);\n",
              "      }\n",
              "    </script>\n",
              "  </div>\n",
              "\n",
              "\n",
              "<div id=\"df-b3c2370d-7f92-4ea7-bd94-03d728210505\">\n",
              "  <button class=\"colab-df-quickchart\" onclick=\"quickchart('df-b3c2370d-7f92-4ea7-bd94-03d728210505')\"\n",
              "            title=\"Suggest charts\"\n",
              "            style=\"display:none;\">\n",
              "\n",
              "<svg xmlns=\"http://www.w3.org/2000/svg\" height=\"24px\"viewBox=\"0 0 24 24\"\n",
              "     width=\"24px\">\n",
              "    <g>\n",
              "        <path d=\"M19 3H5c-1.1 0-2 .9-2 2v14c0 1.1.9 2 2 2h14c1.1 0 2-.9 2-2V5c0-1.1-.9-2-2-2zM9 17H7v-7h2v7zm4 0h-2V7h2v10zm4 0h-2v-4h2v4z\"/>\n",
              "    </g>\n",
              "</svg>\n",
              "  </button>\n",
              "\n",
              "<style>\n",
              "  .colab-df-quickchart {\n",
              "      --bg-color: #E8F0FE;\n",
              "      --fill-color: #1967D2;\n",
              "      --hover-bg-color: #E2EBFA;\n",
              "      --hover-fill-color: #174EA6;\n",
              "      --disabled-fill-color: #AAA;\n",
              "      --disabled-bg-color: #DDD;\n",
              "  }\n",
              "\n",
              "  [theme=dark] .colab-df-quickchart {\n",
              "      --bg-color: #3B4455;\n",
              "      --fill-color: #D2E3FC;\n",
              "      --hover-bg-color: #434B5C;\n",
              "      --hover-fill-color: #FFFFFF;\n",
              "      --disabled-bg-color: #3B4455;\n",
              "      --disabled-fill-color: #666;\n",
              "  }\n",
              "\n",
              "  .colab-df-quickchart {\n",
              "    background-color: var(--bg-color);\n",
              "    border: none;\n",
              "    border-radius: 50%;\n",
              "    cursor: pointer;\n",
              "    display: none;\n",
              "    fill: var(--fill-color);\n",
              "    height: 32px;\n",
              "    padding: 0;\n",
              "    width: 32px;\n",
              "  }\n",
              "\n",
              "  .colab-df-quickchart:hover {\n",
              "    background-color: var(--hover-bg-color);\n",
              "    box-shadow: 0 1px 2px rgba(60, 64, 67, 0.3), 0 1px 3px 1px rgba(60, 64, 67, 0.15);\n",
              "    fill: var(--button-hover-fill-color);\n",
              "  }\n",
              "\n",
              "  .colab-df-quickchart-complete:disabled,\n",
              "  .colab-df-quickchart-complete:disabled:hover {\n",
              "    background-color: var(--disabled-bg-color);\n",
              "    fill: var(--disabled-fill-color);\n",
              "    box-shadow: none;\n",
              "  }\n",
              "\n",
              "  .colab-df-spinner {\n",
              "    border: 2px solid var(--fill-color);\n",
              "    border-color: transparent;\n",
              "    border-bottom-color: var(--fill-color);\n",
              "    animation:\n",
              "      spin 1s steps(1) infinite;\n",
              "  }\n",
              "\n",
              "  @keyframes spin {\n",
              "    0% {\n",
              "      border-color: transparent;\n",
              "      border-bottom-color: var(--fill-color);\n",
              "      border-left-color: var(--fill-color);\n",
              "    }\n",
              "    20% {\n",
              "      border-color: transparent;\n",
              "      border-left-color: var(--fill-color);\n",
              "      border-top-color: var(--fill-color);\n",
              "    }\n",
              "    30% {\n",
              "      border-color: transparent;\n",
              "      border-left-color: var(--fill-color);\n",
              "      border-top-color: var(--fill-color);\n",
              "      border-right-color: var(--fill-color);\n",
              "    }\n",
              "    40% {\n",
              "      border-color: transparent;\n",
              "      border-right-color: var(--fill-color);\n",
              "      border-top-color: var(--fill-color);\n",
              "    }\n",
              "    60% {\n",
              "      border-color: transparent;\n",
              "      border-right-color: var(--fill-color);\n",
              "    }\n",
              "    80% {\n",
              "      border-color: transparent;\n",
              "      border-right-color: var(--fill-color);\n",
              "      border-bottom-color: var(--fill-color);\n",
              "    }\n",
              "    90% {\n",
              "      border-color: transparent;\n",
              "      border-bottom-color: var(--fill-color);\n",
              "    }\n",
              "  }\n",
              "</style>\n",
              "\n",
              "  <script>\n",
              "    async function quickchart(key) {\n",
              "      const quickchartButtonEl =\n",
              "        document.querySelector('#' + key + ' button');\n",
              "      quickchartButtonEl.disabled = true;  // To prevent multiple clicks.\n",
              "      quickchartButtonEl.classList.add('colab-df-spinner');\n",
              "      try {\n",
              "        const charts = await google.colab.kernel.invokeFunction(\n",
              "            'suggestCharts', [key], {});\n",
              "      } catch (error) {\n",
              "        console.error('Error during call to suggestCharts:', error);\n",
              "      }\n",
              "      quickchartButtonEl.classList.remove('colab-df-spinner');\n",
              "      quickchartButtonEl.classList.add('colab-df-quickchart-complete');\n",
              "    }\n",
              "    (() => {\n",
              "      let quickchartButtonEl =\n",
              "        document.querySelector('#df-b3c2370d-7f92-4ea7-bd94-03d728210505 button');\n",
              "      quickchartButtonEl.style.display =\n",
              "        google.colab.kernel.accessAllowed ? 'block' : 'none';\n",
              "    })();\n",
              "  </script>\n",
              "</div>\n",
              "\n",
              "    </div>\n",
              "  </div>\n"
            ],
            "application/vnd.google.colaboratory.intrinsic+json": {
              "type": "dataframe",
              "variable_name": "learning_rate_df",
              "summary": "{\n  \"name\": \"learning_rate_df\",\n  \"rows\": 25,\n  \"fields\": [\n    {\n      \"column\": \"learning_rate\",\n      \"properties\": {\n        \"dtype\": \"number\",\n        \"std\": 0.3035917797800198,\n        \"min\": 0.01,\n        \"max\": 1.0,\n        \"num_unique_values\": 25,\n        \"samples\": [\n          0.34,\n          0.67,\n          0.01\n        ],\n        \"semantic_type\": \"\",\n        \"description\": \"\"\n      }\n    },\n    {\n      \"column\": \"val_auc\",\n      \"properties\": {\n        \"dtype\": \"number\",\n        \"std\": 0.01127616386523276,\n        \"min\": 0.7311886586695747,\n        \"max\": 0.7712970684456989,\n        \"num_unique_values\": 22,\n        \"samples\": [\n          0.7436112803900187,\n          0.7505051638976201,\n          0.7469028641991147\n        ],\n        \"semantic_type\": \"\",\n        \"description\": \"\"\n      }\n    },\n    {\n      \"column\": \"best_iter\",\n      \"properties\": {\n        \"dtype\": \"number\",\n        \"std\": 8,\n        \"min\": 0,\n        \"max\": 41,\n        \"num_unique_values\": 9,\n        \"samples\": [\n          6,\n          41,\n          2\n        ],\n        \"semantic_type\": \"\",\n        \"description\": \"\"\n      }\n    }\n  ]\n}"
            }
          },
          "metadata": {},
          "execution_count": 20
        }
      ]
    },
    {
      "cell_type": "markdown",
      "source": [
        "Let's plot both the best ROC AUC score and the requires number of trees to obtain it for the various learning rates."
      ],
      "metadata": {
        "id": "vjDooJe4cLYw"
      }
    },
    {
      "cell_type": "code",
      "source": [
        "learning_rate_df.set_index('learning_rate').plot(secondary_y='best_iter', style=['-o', '--o'], xlabel='Learning Rate');"
      ],
      "metadata": {
        "id": "vBnf1SOfC6xD",
        "colab": {
          "base_uri": "https://localhost:8080/",
          "height": 449
        },
        "outputId": "63c37b1b-182a-4f4f-a131-cfc490bd5915"
      },
      "execution_count": 21,
      "outputs": [
        {
          "output_type": "display_data",
          "data": {
            "text/plain": [
              "<Figure size 640x480 with 2 Axes>"
            ],
            "image/png": "[encoded data removed]"
          },
          "metadata": {}
        }
      ]
    },
    {
      "cell_type": "markdown",
      "source": [
        "It looks like smaller learning rates, as long as they're not too small, give us the best performance."
      ],
      "metadata": {
        "id": "I8Cu-2urcaqR"
      }
    },
    {
      "cell_type": "markdown",
      "source": [
        "Our best ROC AUC score is:"
      ],
      "metadata": {
        "id": "I2UOwZIAcqwB"
      }
    },
    {
      "cell_type": "code",
      "source": [
        "max(val_aucs)"
      ],
      "metadata": {
        "id": "d0R01nV-D2rr",
        "colab": {
          "base_uri": "https://localhost:8080/"
        },
        "outputId": "ba05362e-a273-4465-c36a-365fbd1ce8db"
      },
      "execution_count": 22,
      "outputs": [
        {
          "output_type": "execute_result",
          "data": {
            "text/plain": [
              "0.7712970684456989"
            ]
          },
          "metadata": {},
          "execution_count": 22
        }
      ]
    },
    {
      "cell_type": "markdown",
      "source": [
        "Which, is a bit better than what we found above. Hooray!"
      ],
      "metadata": {
        "id": "4RMFtkm7ctAi"
      }
    },
    {
      "cell_type": "markdown",
      "source": [
        "Determine the learning rate and number of trees used for the best ROC AUC score above."
      ],
      "metadata": {
        "id": "BDnbj1Zoc6LJ"
      }
    },
    {
      "cell_type": "code",
      "source": [
        "### YOUR CODE HERE ###\n",
        "max_auc = max(val_aucs)\n",
        "max_auc_index = val_aucs.index(max_auc)\n",
        "best_learning_rate = learning_rates[max_auc_index]\n",
        "best_num_trees = best_iters[max_auc_index]\n",
        "print(f\"Best Learning Rate: {best_learning_rate}\")\n",
        "print(f\"Best Number of Trees: {best_num_trees}\")"
      ],
      "metadata": {
        "id": "yuQ5dOYgdBOX",
        "colab": {
          "base_uri": "https://localhost:8080/"
        },
        "outputId": "a5a7a7e5-e7d7-4bec-f19c-d8e2c1270cee"
      },
      "execution_count": 24,
      "outputs": [
        {
          "output_type": "stream",
          "name": "stdout",
          "text": [
            "Best Learning Rate: 0.0925\n",
            "Best Number of Trees: 15\n"
          ]
        }
      ]
    },
    {
      "cell_type": "markdown",
      "source": [
        "### Parameter Search"
      ],
      "metadata": {
        "id": "3Ot4jOkDdloe"
      }
    },
    {
      "cell_type": "markdown",
      "source": [
        "The learning rate and early stopping rounds aren't the only hyperparameters that we can play with here. Here are some others:"
      ],
      "metadata": {
        "id": "COlNFxOWdrl3"
      }
    },
    {
      "cell_type": "markdown",
      "source": [
        "* *max_depth* - The maximum depth to which trees within the ensemble can be grown.\n",
        "* *gamma* - Limits the complexity of trees in the ensemble by only allowing a node to be split if the reduction in the loss function is greater than a certain amount.\n",
        "* *min_child_weight* - Controls the complexity of trees by only splitting nodes if they have at least a certain amount of \"sample weight\". If all samples have equal weighting, this equates to a minimum number of training samples in a node.\n",
        "* *colsample_bytree* - This is a randomly selected fraction of features that are used to grow each tree in the ensemble.\n",
        "* *subsample* - Controls what fraction of samples from the training data is randomly selected prior to growing a new tree for the ensemble.\n",
        "\n"
      ],
      "metadata": {
        "id": "XK4wSQQLd8oI"
      }
    },
    {
      "cell_type": "markdown",
      "source": [
        "We'll now create a parameter grid with different possible values for these parameters. For the ordinal parameters, we'll specify a range, while for the numeric ones will just use a uniform sample."
      ],
      "metadata": {
        "id": "5eiuuFD0iL8q"
      }
    },
    {
      "cell_type": "code",
      "source": [
        "param_grid = {'max_depth': [2,3,4,5,6,7],\n",
        "              'gamma':uniform(loc=0.0, scale = 3),\n",
        "              'min_child_weight':list(range(1,151)),\n",
        "              'colsample_bytree':uniform(loc = 0.1, scale = 0.9),\n",
        "              'subsample':uniform(loc=0.5, scale = 0.5),\n",
        "              'learning_rate':uniform(loc=0.01, scale = 0.5),\n",
        "              }"
      ],
      "metadata": {
        "id": "GtSkPD33EmWE"
      },
      "execution_count": 25,
      "outputs": []
    },
    {
      "cell_type": "markdown",
      "source": [
        "Now, we'll create a list of 1,000 samples from the param_grid above."
      ],
      "metadata": {
        "id": "1OWpFVYPifAY"
      }
    },
    {
      "cell_type": "code",
      "source": [
        "rng = np.random.RandomState(6600)\n",
        "n_iter = 1000\n",
        "param_list = list(ParameterSampler(param_grid, n_iter, random_state = rng))"
      ],
      "metadata": {
        "id": "i2YAuBp6FXj5"
      },
      "execution_count": 26,
      "outputs": []
    },
    {
      "cell_type": "markdown",
      "source": [
        "For example, our first random sample is:"
      ],
      "metadata": {
        "id": "NkuLJz6Yilug"
      }
    },
    {
      "cell_type": "code",
      "source": [
        "param_list[0]"
      ],
      "metadata": {
        "id": "8rX8o5HlFik5",
        "colab": {
          "base_uri": "https://localhost:8080/"
        },
        "outputId": "423d5f92-877a-4910-ec29-b8661f18db6e"
      },
      "execution_count": 27,
      "outputs": [
        {
          "output_type": "execute_result",
          "data": {
            "text/plain": [
              "{'colsample_bytree': 0.2792456627458437,\n",
              " 'gamma': 2.9653930463578906,\n",
              " 'learning_rate': 0.46566911647102255,\n",
              " 'max_depth': 3,\n",
              " 'min_child_weight': 8,\n",
              " 'subsample': 0.577004433672033}"
            ]
          },
          "metadata": {},
          "execution_count": 27
        }
      ]
    },
    {
      "cell_type": "markdown",
      "source": [
        "Now, we also want to specify our objective function and evaluation metric as part of our parameters, so we can expand our parameters with:"
      ],
      "metadata": {
        "id": "K3ShogoTkRzv"
      }
    },
    {
      "cell_type": "code",
      "source": [
        "param_list[0]['objective'] = 'binary:logistic'\n",
        "param_list[0]['eval_metric'] = 'auc'"
      ],
      "metadata": {
        "id": "IVZyu-a2kanN"
      },
      "execution_count": 28,
      "outputs": []
    },
    {
      "cell_type": "markdown",
      "source": [
        "Now, we should have the parameters we need:"
      ],
      "metadata": {
        "id": "4xwWzGLRkfvZ"
      }
    },
    {
      "cell_type": "code",
      "source": [
        "param_list[0]"
      ],
      "metadata": {
        "id": "xPJpygPWkhek",
        "colab": {
          "base_uri": "https://localhost:8080/"
        },
        "outputId": "db7f815e-1be1-43e3-8bfd-f138275b5986"
      },
      "execution_count": 29,
      "outputs": [
        {
          "output_type": "execute_result",
          "data": {
            "text/plain": [
              "{'colsample_bytree': 0.2792456627458437,\n",
              " 'gamma': 2.9653930463578906,\n",
              " 'learning_rate': 0.46566911647102255,\n",
              " 'max_depth': 3,\n",
              " 'min_child_weight': 8,\n",
              " 'subsample': 0.577004433672033,\n",
              " 'objective': 'binary:logistic',\n",
              " 'eval_metric': 'auc'}"
            ]
          },
          "metadata": {},
          "execution_count": 29
        }
      ]
    },
    {
      "cell_type": "markdown",
      "source": [
        "We can train a model using this set of parameters:"
      ],
      "metadata": {
        "id": "cHe20iiSixZ5"
      }
    },
    {
      "cell_type": "code",
      "source": [
        "xgb_model_2 = xgb.train(param_list[0], dtrain=dtrain, num_boost_round=1000, early_stopping_rounds=30, evals=[(dtrain, 'train'), (dval, 'val')])"
      ],
      "metadata": {
        "id": "-Zt4KsckFo8P",
        "colab": {
          "base_uri": "https://localhost:8080/"
        },
        "outputId": "7b77be51-1891-4bf1-9d10-501a459d7f37"
      },
      "execution_count": 30,
      "outputs": [
        {
          "output_type": "stream",
          "name": "stdout",
          "text": [
            "[0]\ttrain-auc:0.58162\tval-auc:0.56806\n",
            "[1]\ttrain-auc:0.60715\tval-auc:0.55886\n",
            "[2]\ttrain-auc:0.62185\tval-auc:0.57417\n",
            "[3]\ttrain-auc:0.65081\tval-auc:0.59406\n",
            "[4]\ttrain-auc:0.65262\tval-auc:0.57417\n",
            "[5]\ttrain-auc:0.65637\tval-auc:0.58018\n",
            "[6]\ttrain-auc:0.66047\tval-auc:0.58289\n",
            "[7]\ttrain-auc:0.66948\tval-auc:0.57421\n",
            "[8]\ttrain-auc:0.67768\tval-auc:0.57659\n",
            "[9]\ttrain-auc:0.72481\tval-auc:0.64205\n",
            "[10]\ttrain-auc:0.72796\tval-auc:0.63649\n",
            "[11]\ttrain-auc:0.73347\tval-auc:0.63613\n",
            "[12]\ttrain-auc:0.73726\tval-auc:0.63422\n",
            "[13]\ttrain-auc:0.74766\tval-auc:0.64696\n",
            "[14]\ttrain-auc:0.75157\tval-auc:0.64732\n",
            "[15]\ttrain-auc:0.75842\tval-auc:0.64044\n",
            "[16]\ttrain-auc:0.76019\tval-auc:0.63671\n",
            "[17]\ttrain-auc:0.76412\tval-auc:0.64030\n",
            "[18]\ttrain-auc:0.76621\tval-auc:0.64183\n",
            "[19]\ttrain-auc:0.76913\tval-auc:0.63500\n",
            "[20]\ttrain-auc:0.77072\tval-auc:0.63007\n",
            "[21]\ttrain-auc:0.77549\tval-auc:0.62888\n",
            "[22]\ttrain-auc:0.77738\tval-auc:0.63095\n",
            "[23]\ttrain-auc:0.77928\tval-auc:0.62749\n",
            "[24]\ttrain-auc:0.78471\tval-auc:0.62086\n",
            "[25]\ttrain-auc:0.78745\tval-auc:0.61883\n",
            "[26]\ttrain-auc:0.79069\tval-auc:0.61657\n",
            "[27]\ttrain-auc:0.79411\tval-auc:0.61483\n",
            "[28]\ttrain-auc:0.79526\tval-auc:0.61842\n",
            "[29]\ttrain-auc:0.79688\tval-auc:0.61811\n",
            "[30]\ttrain-auc:0.79858\tval-auc:0.61666\n",
            "[31]\ttrain-auc:0.80043\tval-auc:0.62061\n",
            "[32]\ttrain-auc:0.81426\tval-auc:0.64081\n",
            "[33]\ttrain-auc:0.81781\tval-auc:0.64007\n",
            "[34]\ttrain-auc:0.82170\tval-auc:0.63903\n",
            "[35]\ttrain-auc:0.82183\tval-auc:0.63605\n",
            "[36]\ttrain-auc:0.82428\tval-auc:0.63268\n",
            "[37]\ttrain-auc:0.82584\tval-auc:0.63427\n",
            "[38]\ttrain-auc:0.82616\tval-auc:0.63669\n",
            "[39]\ttrain-auc:0.82739\tval-auc:0.63852\n",
            "[40]\ttrain-auc:0.82853\tval-auc:0.64075\n",
            "[41]\ttrain-auc:0.83160\tval-auc:0.63970\n",
            "[42]\ttrain-auc:0.83357\tval-auc:0.64228\n",
            "[43]\ttrain-auc:0.83631\tval-auc:0.64102\n",
            "[44]\ttrain-auc:0.84463\tval-auc:0.65832\n",
            "[45]\ttrain-auc:0.84560\tval-auc:0.65545\n",
            "[46]\ttrain-auc:0.84716\tval-auc:0.65135\n",
            "[47]\ttrain-auc:0.84831\tval-auc:0.65501\n",
            "[48]\ttrain-auc:0.84975\tval-auc:0.65707\n",
            "[49]\ttrain-auc:0.85034\tval-auc:0.65793\n",
            "[50]\ttrain-auc:0.85271\tval-auc:0.65696\n",
            "[51]\ttrain-auc:0.85337\tval-auc:0.65640\n",
            "[52]\ttrain-auc:0.85672\tval-auc:0.65307\n",
            "[53]\ttrain-auc:0.85829\tval-auc:0.65133\n",
            "[54]\ttrain-auc:0.86029\tval-auc:0.65242\n",
            "[55]\ttrain-auc:0.86362\tval-auc:0.64849\n",
            "[56]\ttrain-auc:0.86442\tval-auc:0.64812\n",
            "[57]\ttrain-auc:0.87054\tval-auc:0.66734\n",
            "[58]\ttrain-auc:0.87113\tval-auc:0.66702\n",
            "[59]\ttrain-auc:0.87275\tval-auc:0.66698\n",
            "[60]\ttrain-auc:0.87339\tval-auc:0.66619\n",
            "[61]\ttrain-auc:0.87556\tval-auc:0.66603\n",
            "[62]\ttrain-auc:0.87678\tval-auc:0.66617\n",
            "[63]\ttrain-auc:0.87808\tval-auc:0.67010\n",
            "[64]\ttrain-auc:0.87885\tval-auc:0.66632\n",
            "[65]\ttrain-auc:0.87999\tval-auc:0.66393\n",
            "[66]\ttrain-auc:0.88127\tval-auc:0.66518\n",
            "[67]\ttrain-auc:0.88217\tval-auc:0.66535\n",
            "[68]\ttrain-auc:0.88378\tval-auc:0.66980\n",
            "[69]\ttrain-auc:0.88521\tval-auc:0.66671\n",
            "[70]\ttrain-auc:0.88610\tval-auc:0.66708\n",
            "[71]\ttrain-auc:0.88792\tval-auc:0.66913\n",
            "[72]\ttrain-auc:0.88872\tval-auc:0.66830\n",
            "[73]\ttrain-auc:0.88910\tval-auc:0.66587\n",
            "[74]\ttrain-auc:0.89002\tval-auc:0.66646\n",
            "[75]\ttrain-auc:0.89123\tval-auc:0.66666\n",
            "[76]\ttrain-auc:0.89294\tval-auc:0.66783\n",
            "[77]\ttrain-auc:0.89350\tval-auc:0.66951\n",
            "[78]\ttrain-auc:0.89525\tval-auc:0.66688\n",
            "[79]\ttrain-auc:0.89654\tval-auc:0.66738\n",
            "[80]\ttrain-auc:0.89758\tval-auc:0.67056\n",
            "[81]\ttrain-auc:0.89888\tval-auc:0.66801\n",
            "[82]\ttrain-auc:0.90043\tval-auc:0.66870\n",
            "[83]\ttrain-auc:0.90128\tval-auc:0.66783\n",
            "[84]\ttrain-auc:0.90190\tval-auc:0.66960\n",
            "[85]\ttrain-auc:0.90348\tval-auc:0.66721\n",
            "[86]\ttrain-auc:0.90465\tval-auc:0.66621\n",
            "[87]\ttrain-auc:0.90543\tval-auc:0.66462\n",
            "[88]\ttrain-auc:0.90668\tval-auc:0.66614\n",
            "[89]\ttrain-auc:0.90776\tval-auc:0.66638\n",
            "[90]\ttrain-auc:0.90803\tval-auc:0.66543\n",
            "[91]\ttrain-auc:0.91050\tval-auc:0.66280\n",
            "[92]\ttrain-auc:0.91258\tval-auc:0.66072\n",
            "[93]\ttrain-auc:0.91258\tval-auc:0.66072\n",
            "[94]\ttrain-auc:0.91266\tval-auc:0.66035\n",
            "[95]\ttrain-auc:0.91459\tval-auc:0.65971\n",
            "[96]\ttrain-auc:0.91459\tval-auc:0.65971\n",
            "[97]\ttrain-auc:0.91563\tval-auc:0.66119\n",
            "[98]\ttrain-auc:0.91660\tval-auc:0.65812\n",
            "[99]\ttrain-auc:0.91692\tval-auc:0.65695\n",
            "[100]\ttrain-auc:0.91874\tval-auc:0.65699\n",
            "[101]\ttrain-auc:0.91874\tval-auc:0.65699\n",
            "[102]\ttrain-auc:0.91874\tval-auc:0.65699\n",
            "[103]\ttrain-auc:0.92023\tval-auc:0.65635\n",
            "[104]\ttrain-auc:0.92087\tval-auc:0.65807\n",
            "[105]\ttrain-auc:0.92222\tval-auc:0.65913\n",
            "[106]\ttrain-auc:0.92233\tval-auc:0.65871\n",
            "[107]\ttrain-auc:0.92277\tval-auc:0.65968\n",
            "[108]\ttrain-auc:0.92487\tval-auc:0.65774\n",
            "[109]\ttrain-auc:0.92520\tval-auc:0.65832\n",
            "[110]\ttrain-auc:0.92648\tval-auc:0.65493\n"
          ]
        }
      ]
    },
    {
      "cell_type": "markdown",
      "source": [
        "Now, what you should do is go through all the parameter combinations in our grid and figure out what the best model (best stopping time for highest validation ROC AUC) for each of them. Then, determine the optimal parameter combination. Note this might take a couple minutes to run."
      ],
      "metadata": {
        "id": "KGRHylB1kvRO"
      }
    },
    {
      "cell_type": "code",
      "source": [
        "val_aucs = []\n",
        "for params in param_list:\n",
        "  ### YOUR CODE HERE ###\n",
        "    params['objective'] = 'binary:logistic'\n",
        "    params['eval_metric'] = 'auc'\n",
        "\n",
        "    # Train XGBoost model with early stopping\n",
        "    xgb_model = xgb.train(params, dtrain=dtrain, num_boost_round=1000,\n",
        "                          early_stopping_rounds=30, evals=[(dtrain, 'train'), (dval, 'val')],\n",
        "                          verbose_eval=False)\n",
        "\n",
        "    val_set_pred_prob = xgb_model.predict(dval, iteration_range=(0, xgb_model.best_iteration + 1))\n",
        "\n",
        "    # Calculate and store validation ROC AUC\n",
        "    val_auc = roc_auc_score(y_val, val_set_pred_prob)\n",
        "    val_aucs.append(val_auc)\n"
      ],
      "metadata": {
        "id": "Klo5I2z3H7aX"
      },
      "execution_count": null,
      "outputs": []
    },
    {
      "cell_type": "markdown",
      "source": [
        "Let's create a dataframe from the various parameters, and add a column with the corresponding ROC AUC scores for the best XGBoost models."
      ],
      "metadata": {
        "id": "9b05GDcdmwUS"
      }
    },
    {
      "cell_type": "code",
      "source": [
        "xgb_param_search_df = pd.DataFrame(param_list)\n",
        "xgb_param_search_df['Validation ROC AUC'] = val_aucs\n",
        "xgb_param_search_df.head()"
      ],
      "metadata": {
        "id": "yNI0cQorJz8k",
        "colab": {
          "base_uri": "https://localhost:8080/",
          "height": 244
        },
        "outputId": "f078db74-803f-4027-ed86-fddf671ff59d"
      },
      "execution_count": 32,
      "outputs": [
        {
          "output_type": "execute_result",
          "data": {
            "text/plain": [
              "   colsample_bytree     gamma  learning_rate  max_depth  min_child_weight  \\\n",
              "0          0.279246  2.965393       0.465669          3                 8   \n",
              "1          0.464960  0.176980       0.395888          3                20   \n",
              "2          0.751689  2.221332       0.062536          5                93   \n",
              "3          0.777785  2.790733       0.120128          6               142   \n",
              "4          0.794387  0.217399       0.267152          4               104   \n",
              "\n",
              "   subsample        objective eval_metric  Validation ROC AUC  \n",
              "0   0.577004  binary:logistic         auc            0.670565  \n",
              "1   0.795599  binary:logistic         auc            0.737164  \n",
              "2   0.503705  binary:logistic         auc            0.725925  \n",
              "3   0.517629  binary:logistic         auc            0.710717  \n",
              "4   0.919446  binary:logistic         auc            0.728061  "
            ],
            "text/html": [
              "\n",
              "  <div id=\"df-a5346431-2af1-4d47-afd0-1e3133c0886c\" class=\"colab-df-container\">\n",
              "    <div>\n",
              "<style scoped>\n",
              "    .dataframe tbody tr th:only-of-type {\n",
              "        vertical-align: middle;\n",
              "    }\n",
              "\n",
              "    .dataframe tbody tr th {\n",
              "        vertical-align: top;\n",
              "    }\n",
              "\n",
              "    .dataframe thead th {\n",
              "        text-align: right;\n",
              "    }\n",
              "</style>\n",
              "<table border=\"1\" class=\"dataframe\">\n",
              "  <thead>\n",
              "    <tr style=\"text-align: right;\">\n",
              "      <th></th>\n",
              "      <th>colsample_bytree</th>\n",
              "      <th>gamma</th>\n",
              "      <th>learning_rate</th>\n",
              "      <th>max_depth</th>\n",
              "      <th>min_child_weight</th>\n",
              "      <th>subsample</th>\n",
              "      <th>objective</th>\n",
              "      <th>eval_metric</th>\n",
              "      <th>Validation ROC AUC</th>\n",
              "    </tr>\n",
              "  </thead>\n",
              "  <tbody>\n",
              "    <tr>\n",
              "      <th>0</th>\n",
              "      <td>0.279246</td>\n",
              "      <td>2.965393</td>\n",
              "      <td>0.465669</td>\n",
              "      <td>3</td>\n",
              "      <td>8</td>\n",
              "      <td>0.577004</td>\n",
              "      <td>binary:logistic</td>\n",
              "      <td>auc</td>\n",
              "      <td>0.670565</td>\n",
              "    </tr>\n",
              "    <tr>\n",
              "      <th>1</th>\n",
              "      <td>0.464960</td>\n",
              "      <td>0.176980</td>\n",
              "      <td>0.395888</td>\n",
              "      <td>3</td>\n",
              "      <td>20</td>\n",
              "      <td>0.795599</td>\n",
              "      <td>binary:logistic</td>\n",
              "      <td>auc</td>\n",
              "      <td>0.737164</td>\n",
              "    </tr>\n",
              "    <tr>\n",
              "      <th>2</th>\n",
              "      <td>0.751689</td>\n",
              "      <td>2.221332</td>\n",
              "      <td>0.062536</td>\n",
              "      <td>5</td>\n",
              "      <td>93</td>\n",
              "      <td>0.503705</td>\n",
              "      <td>binary:logistic</td>\n",
              "      <td>auc</td>\n",
              "      <td>0.725925</td>\n",
              "    </tr>\n",
              "    <tr>\n",
              "      <th>3</th>\n",
              "      <td>0.777785</td>\n",
              "      <td>2.790733</td>\n",
              "      <td>0.120128</td>\n",
              "      <td>6</td>\n",
              "      <td>142</td>\n",
              "      <td>0.517629</td>\n",
              "      <td>binary:logistic</td>\n",
              "      <td>auc</td>\n",
              "      <td>0.710717</td>\n",
              "    </tr>\n",
              "    <tr>\n",
              "      <th>4</th>\n",
              "      <td>0.794387</td>\n",
              "      <td>0.217399</td>\n",
              "      <td>0.267152</td>\n",
              "      <td>4</td>\n",
              "      <td>104</td>\n",
              "      <td>0.919446</td>\n",
              "      <td>binary:logistic</td>\n",
              "      <td>auc</td>\n",
              "      <td>0.728061</td>\n",
              "    </tr>\n",
              "  </tbody>\n",
              "</table>\n",
              "</div>\n",
              "    <div class=\"colab-df-buttons\">\n",
              "\n",
              "  <div class=\"colab-df-container\">\n",
              "    <button class=\"colab-df-convert\" onclick=\"convertToInteractive('df-a5346431-2af1-4d47-afd0-1e3133c0886c')\"\n",
              "            title=\"Convert this dataframe to an interactive table.\"\n",
              "            style=\"display:none;\">\n",
              "\n",
              "  <svg xmlns=\"http://www.w3.org/2000/svg\" height=\"24px\" viewBox=\"0 -960 960 960\">\n",
              "    <path d=\"M120-120v-720h720v720H120Zm60-500h600v-160H180v160Zm220 220h160v-160H400v160Zm0 220h160v-160H400v160ZM180-400h160v-160H180v160Zm440 0h160v-160H620v160ZM180-180h160v-160H180v160Zm440 0h160v-160H620v160Z\"/>\n",
              "  </svg>\n",
              "    </button>\n",
              "\n",
              "  <style>\n",
              "    .colab-df-container {\n",
              "      display:flex;\n",
              "      gap: 12px;\n",
              "    }\n",
              "\n",
              "    .colab-df-convert {\n",
              "      background-color: #E8F0FE;\n",
              "      border: none;\n",
              "      border-radius: 50%;\n",
              "      cursor: pointer;\n",
              "      display: none;\n",
              "      fill: #1967D2;\n",
              "      height: 32px;\n",
              "      padding: 0 0 0 0;\n",
              "      width: 32px;\n",
              "    }\n",
              "\n",
              "    .colab-df-convert:hover {\n",
              "      background-color: #E2EBFA;\n",
              "      box-shadow: 0px 1px 2px rgba(60, 64, 67, 0.3), 0px 1px 3px 1px rgba(60, 64, 67, 0.15);\n",
              "      fill: #174EA6;\n",
              "    }\n",
              "\n",
              "    .colab-df-buttons div {\n",
              "      margin-bottom: 4px;\n",
              "    }\n",
              "\n",
              "    [theme=dark] .colab-df-convert {\n",
              "      background-color: #3B4455;\n",
              "      fill: #D2E3FC;\n",
              "    }\n",
              "\n",
              "    [theme=dark] .colab-df-convert:hover {\n",
              "      background-color: #434B5C;\n",
              "      box-shadow: 0px 1px 3px 1px rgba(0, 0, 0, 0.15);\n",
              "      filter: drop-shadow(0px 1px 2px rgba(0, 0, 0, 0.3));\n",
              "      fill: #FFFFFF;\n",
              "    }\n",
              "  </style>\n",
              "\n",
              "    <script>\n",
              "      const buttonEl =\n",
              "        document.querySelector('#df-a5346431-2af1-4d47-afd0-1e3133c0886c button.colab-df-convert');\n",
              "      buttonEl.style.display =\n",
              "        google.colab.kernel.accessAllowed ? 'block' : 'none';\n",
              "\n",
              "      async function convertToInteractive(key) {\n",
              "        const element = document.querySelector('#df-a5346431-2af1-4d47-afd0-1e3133c0886c');\n",
              "        const dataTable =\n",
              "          await google.colab.kernel.invokeFunction('convertToInteractive',\n",
              "                                                    [key], {});\n",
              "        if (!dataTable) return;\n",
              "\n",
              "        const docLinkHtml = 'Like what you see? Visit the ' +\n",
              "          '<a target=\"_blank\" href=https://colab.research.google.com/notebooks/data_table.ipynb>data table notebook</a>'\n",
              "          + ' to learn more about interactive tables.';\n",
              "        element.innerHTML = '';\n",
              "        dataTable['output_type'] = 'display_data';\n",
              "        await google.colab.output.renderOutput(dataTable, element);\n",
              "        const docLink = document.createElement('div');\n",
              "        docLink.innerHTML = docLinkHtml;\n",
              "        element.appendChild(docLink);\n",
              "      }\n",
              "    </script>\n",
              "  </div>\n",
              "\n",
              "\n",
              "<div id=\"df-b3e3df8e-419e-4fd0-a103-bdee373612d5\">\n",
              "  <button class=\"colab-df-quickchart\" onclick=\"quickchart('df-b3e3df8e-419e-4fd0-a103-bdee373612d5')\"\n",
              "            title=\"Suggest charts\"\n",
              "            style=\"display:none;\">\n",
              "\n",
              "<svg xmlns=\"http://www.w3.org/2000/svg\" height=\"24px\"viewBox=\"0 0 24 24\"\n",
              "     width=\"24px\">\n",
              "    <g>\n",
              "        <path d=\"M19 3H5c-1.1 0-2 .9-2 2v14c0 1.1.9 2 2 2h14c1.1 0 2-.9 2-2V5c0-1.1-.9-2-2-2zM9 17H7v-7h2v7zm4 0h-2V7h2v10zm4 0h-2v-4h2v4z\"/>\n",
              "    </g>\n",
              "</svg>\n",
              "  </button>\n",
              "\n",
              "<style>\n",
              "  .colab-df-quickchart {\n",
              "      --bg-color: #E8F0FE;\n",
              "      --fill-color: #1967D2;\n",
              "      --hover-bg-color: #E2EBFA;\n",
              "      --hover-fill-color: #174EA6;\n",
              "      --disabled-fill-color: #AAA;\n",
              "      --disabled-bg-color: #DDD;\n",
              "  }\n",
              "\n",
              "  [theme=dark] .colab-df-quickchart {\n",
              "      --bg-color: #3B4455;\n",
              "      --fill-color: #D2E3FC;\n",
              "      --hover-bg-color: #434B5C;\n",
              "      --hover-fill-color: #FFFFFF;\n",
              "      --disabled-bg-color: #3B4455;\n",
              "      --disabled-fill-color: #666;\n",
              "  }\n",
              "\n",
              "  .colab-df-quickchart {\n",
              "    background-color: var(--bg-color);\n",
              "    border: none;\n",
              "    border-radius: 50%;\n",
              "    cursor: pointer;\n",
              "    display: none;\n",
              "    fill: var(--fill-color);\n",
              "    height: 32px;\n",
              "    padding: 0;\n",
              "    width: 32px;\n",
              "  }\n",
              "\n",
              "  .colab-df-quickchart:hover {\n",
              "    background-color: var(--hover-bg-color);\n",
              "    box-shadow: 0 1px 2px rgba(60, 64, 67, 0.3), 0 1px 3px 1px rgba(60, 64, 67, 0.15);\n",
              "    fill: var(--button-hover-fill-color);\n",
              "  }\n",
              "\n",
              "  .colab-df-quickchart-complete:disabled,\n",
              "  .colab-df-quickchart-complete:disabled:hover {\n",
              "    background-color: var(--disabled-bg-color);\n",
              "    fill: var(--disabled-fill-color);\n",
              "    box-shadow: none;\n",
              "  }\n",
              "\n",
              "  .colab-df-spinner {\n",
              "    border: 2px solid var(--fill-color);\n",
              "    border-color: transparent;\n",
              "    border-bottom-color: var(--fill-color);\n",
              "    animation:\n",
              "      spin 1s steps(1) infinite;\n",
              "  }\n",
              "\n",
              "  @keyframes spin {\n",
              "    0% {\n",
              "      border-color: transparent;\n",
              "      border-bottom-color: var(--fill-color);\n",
              "      border-left-color: var(--fill-color);\n",
              "    }\n",
              "    20% {\n",
              "      border-color: transparent;\n",
              "      border-left-color: var(--fill-color);\n",
              "      border-top-color: var(--fill-color);\n",
              "    }\n",
              "    30% {\n",
              "      border-color: transparent;\n",
              "      border-left-color: var(--fill-color);\n",
              "      border-top-color: var(--fill-color);\n",
              "      border-right-color: var(--fill-color);\n",
              "    }\n",
              "    40% {\n",
              "      border-color: transparent;\n",
              "      border-right-color: var(--fill-color);\n",
              "      border-top-color: var(--fill-color);\n",
              "    }\n",
              "    60% {\n",
              "      border-color: transparent;\n",
              "      border-right-color: var(--fill-color);\n",
              "    }\n",
              "    80% {\n",
              "      border-color: transparent;\n",
              "      border-right-color: var(--fill-color);\n",
              "      border-bottom-color: var(--fill-color);\n",
              "    }\n",
              "    90% {\n",
              "      border-color: transparent;\n",
              "      border-bottom-color: var(--fill-color);\n",
              "    }\n",
              "  }\n",
              "</style>\n",
              "\n",
              "  <script>\n",
              "    async function quickchart(key) {\n",
              "      const quickchartButtonEl =\n",
              "        document.querySelector('#' + key + ' button');\n",
              "      quickchartButtonEl.disabled = true;  // To prevent multiple clicks.\n",
              "      quickchartButtonEl.classList.add('colab-df-spinner');\n",
              "      try {\n",
              "        const charts = await google.colab.kernel.invokeFunction(\n",
              "            'suggestCharts', [key], {});\n",
              "      } catch (error) {\n",
              "        console.error('Error during call to suggestCharts:', error);\n",
              "      }\n",
              "      quickchartButtonEl.classList.remove('colab-df-spinner');\n",
              "      quickchartButtonEl.classList.add('colab-df-quickchart-complete');\n",
              "    }\n",
              "    (() => {\n",
              "      let quickchartButtonEl =\n",
              "        document.querySelector('#df-b3e3df8e-419e-4fd0-a103-bdee373612d5 button');\n",
              "      quickchartButtonEl.style.display =\n",
              "        google.colab.kernel.accessAllowed ? 'block' : 'none';\n",
              "    })();\n",
              "  </script>\n",
              "</div>\n",
              "\n",
              "    </div>\n",
              "  </div>\n"
            ],
            "application/vnd.google.colaboratory.intrinsic+json": {
              "type": "dataframe",
              "variable_name": "xgb_param_search_df",
              "summary": "{\n  \"name\": \"xgb_param_search_df\",\n  \"rows\": 1000,\n  \"fields\": [\n    {\n      \"column\": \"colsample_bytree\",\n      \"properties\": {\n        \"dtype\": \"number\",\n        \"std\": 0.2618906133507472,\n        \"min\": 0.10049747555446586,\n        \"max\": 0.9984166369107523,\n        \"num_unique_values\": 1000,\n        \"samples\": [\n          0.8100937143557805,\n          0.35867087330612524,\n          0.21322125666255504\n        ],\n        \"semantic_type\": \"\",\n        \"description\": \"\"\n      }\n    },\n    {\n      \"column\": \"gamma\",\n      \"properties\": {\n        \"dtype\": \"number\",\n        \"std\": 0.874466634623138,\n        \"min\": 0.00047389612127002323,\n        \"max\": 2.9981008402209435,\n        \"num_unique_values\": 1000,\n        \"samples\": [\n          2.5198196921862177,\n          2.1615229421458606,\n          1.4558425185851156\n        ],\n        \"semantic_type\": \"\",\n        \"description\": \"\"\n      }\n    },\n    {\n      \"column\": \"learning_rate\",\n      \"properties\": {\n        \"dtype\": \"number\",\n        \"std\": 0.14207293582763358,\n        \"min\": 0.011405817241474428,\n        \"max\": 0.509658448781877,\n        \"num_unique_values\": 1000,\n        \"samples\": [\n          0.49477038625463166,\n          0.28133706907048445,\n          0.02556007414139571\n        ],\n        \"semantic_type\": \"\",\n        \"description\": \"\"\n      }\n    },\n    {\n      \"column\": \"max_depth\",\n      \"properties\": {\n        \"dtype\": \"number\",\n        \"std\": 1,\n        \"min\": 2,\n        \"max\": 7,\n        \"num_unique_values\": 6,\n        \"samples\": [\n          3,\n          5,\n          7\n        ],\n        \"semantic_type\": \"\",\n        \"description\": \"\"\n      }\n    },\n    {\n      \"column\": \"min_child_weight\",\n      \"properties\": {\n        \"dtype\": \"number\",\n        \"std\": 42,\n        \"min\": 1,\n        \"max\": 150,\n        \"num_unique_values\": 150,\n        \"samples\": [\n          109,\n          57,\n          95\n        ],\n        \"semantic_type\": \"\",\n        \"description\": \"\"\n      }\n    },\n    {\n      \"column\": \"subsample\",\n      \"properties\": {\n        \"dtype\": \"number\",\n        \"std\": 0.1476099453928048,\n        \"min\": 0.5002909436713507,\n        \"max\": 0.9999949880371576,\n        \"num_unique_values\": 1000,\n        \"samples\": [\n          0.5965579025017047,\n          0.8341614750006976,\n          0.7655295923649292\n        ],\n        \"semantic_type\": \"\",\n        \"description\": \"\"\n      }\n    },\n    {\n      \"column\": \"objective\",\n      \"properties\": {\n        \"dtype\": \"category\",\n        \"num_unique_values\": 1,\n        \"samples\": [\n          \"binary:logistic\"\n        ],\n        \"semantic_type\": \"\",\n        \"description\": \"\"\n      }\n    },\n    {\n      \"column\": \"eval_metric\",\n      \"properties\": {\n        \"dtype\": \"category\",\n        \"num_unique_values\": 1,\n        \"samples\": [\n          \"auc\"\n        ],\n        \"semantic_type\": \"\",\n        \"description\": \"\"\n      }\n    },\n    {\n      \"column\": \"Validation ROC AUC\",\n      \"properties\": {\n        \"dtype\": \"number\",\n        \"std\": 0.026424701350133122,\n        \"min\": 0.5864030726794534,\n        \"max\": 0.7730190358586182,\n        \"num_unique_values\": 989,\n        \"samples\": [\n          0.7355106164603246\n        ],\n        \"semantic_type\": \"\",\n        \"description\": \"\"\n      }\n    }\n  ]\n}"
            }
          },
          "metadata": {},
          "execution_count": 32
        }
      ]
    },
    {
      "cell_type": "markdown",
      "source": [
        "Determine the parameter set with the best ROC AUC score. What can you say about it?"
      ],
      "metadata": {
        "id": "9nBz7L0-nHYy"
      }
    },
    {
      "cell_type": "code",
      "source": [
        "### YOUR CODE HERE ###\n",
        "best_roc_auc = xgb_param_search_df['Validation ROC AUC'].max()\n",
        "best_param_row = xgb_param_search_df[xgb_param_search_df['Validation ROC AUC'] == best_roc_auc]\n",
        "best_params = best_param_row.drop(columns=['Validation ROC AUC']).iloc[0].to_dict()\n",
        "print(best_params)"
      ],
      "metadata": {
        "id": "UAP3SqY9KATt",
        "colab": {
          "base_uri": "https://localhost:8080/"
        },
        "outputId": "a3609737-f492-46e5-d1e6-9d0291ca394e"
      },
      "execution_count": 33,
      "outputs": [
        {
          "output_type": "stream",
          "name": "stdout",
          "text": [
            "{'colsample_bytree': 0.6260970518554606, 'gamma': 2.279187079807467, 'learning_rate': 0.19044150619652406, 'max_depth': 7, 'min_child_weight': 1, 'subsample': 0.9007100657126261, 'objective': 'binary:logistic', 'eval_metric': 'auc'}\n"
          ]
        }
      ]
    }
  ]
}