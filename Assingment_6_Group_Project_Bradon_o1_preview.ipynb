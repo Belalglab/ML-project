{
  "nbformat": 4,
  "nbformat_minor": 0,
  "metadata": {
    "colab": {
      "provenance": [],
      "collapsed_sections": [
        "1EjndT3SuMxA"
      ]
    },
    "kernelspec": {
      "name": "python3",
      "display_name": "Python 3"
    },
    "language_info": {
      "name": "python"
    }
  },
  "cells": [
    {
      "cell_type": "markdown",
      "source": [
        "# Medical Cost Analysis Project\n",
        "\n",
        "## Group Members:\n",
        "- Bradon Barfuss\n",
        "- Belal Glab\n",
        "- Carsten Scholle\n",
        "\n",
        "## Dataset:\n",
        "[Medical Cost Personal Datasets](https://www.kaggle.com/datasets/mirichoi0218/insurance)\n",
        "\n",
        "## Overview:\n",
        "The **\"Medical Cost Personal Datasets\"** contains information related to medical insurance costs billed by health insurance providers in the United States. This dataset includes a variety of factors commonly used by insurance companies to calculate premiums or predict medical expenses for individuals. These factors include demographic details like age, sex, and region, as well as health-related indicators such as body mass index (BMI), smoking status, and the number of children.\n",
        "\n",
        "### Objective:\n",
        "The purpose of this analysis is to explore the **Medical Cost Personal Datasets** and answer the following three research questions:\n",
        "\n",
        "### Research Questions:\n",
        "\n",
        "1. **What is the correlation between smoking and medical costs?**\n",
        "   - Smoking has significant impacts on health, which affects medical costs. This analysis aims to quantify the relationship between smoking habits and the overall medical charges billed to individuals.\n",
        "\n",
        "2. **How do medical costs compare between males and females?**\n",
        "   - This question investigates whether there are any notable differences in medical expenses based on gender. Understanding whether gender influences medical charges provides insights into how health insurance premiums are calculated for different populations.\n",
        "\n",
        "3. **Based on age and gender, what combination of BMI, number of children, and smoking status results in the lowest medical costs?**\n",
        "   - The goal is to identify which factors or combinations of factors—such as age, gender, BMI, number of dependents, and smoking status—result in the lowest medical expenses. This analysis helps predict which demographic and health profiles are associated with reduced healthcare costs.\n",
        "\n",
        "Through this exploration, we aim to uncover meaningful insights that help better understand how health-related and demographic variables influence medical insurance costs.\n",
        "\n",
        "## Dataset Features:\n",
        "- **age**: Age of the primary beneficiary.\n",
        "- **sex**: Gender of the beneficiary (male, female).\n",
        "- **bmi**: Body mass index, a numerical value representing body fat based on height and weight.\n",
        "- **children**: Number of dependents covered under the beneficiary’s health insurance.\n",
        "- **smoker**: Smoking status (yes, no).\n",
        "- **region**: Residential area in the United States (northeast, northwest, southeast, southwest).\n",
        "- **charges**: Individual medical costs billed by health insurance.\n",
        "\n",
        "|    | Column   | Dtype   | Non-Null Count | Null Count | Unique | Top       | Freq | Mean       | Std         | Min     | 25%       | 50%     | 75%       | Max      |\n",
        "|----|----------|---------|----------------|------------|--------|-----------|------|------------|-------------|---------|-----------|---------|-----------|----------|\n",
        "|  0 | age      | int64   | 1338           | 0          | nan    | nan       | nan  | 39.207     | 14.05       | 18      | 27        | 39      | 51        | 64       |\n",
        "|  1 | sex      | object  | 1338           | 0          | 2      | male      | 676  | nan        | nan         | nan     | nan       | nan     | nan       | nan      |\n",
        "|  2 | bmi      | float64 | 1338           | 0          | nan    | nan       | nan  | 30.6634    | 6.09819     | 15.96   | 26.2963   | 30.4    | 34.6938   | 53.13    |\n",
        "|  3 | children | int64   | 1338           | 0          | nan    | nan       | nan  | 1.09492    | 1.20549     | 0       | 0         | 1       | 2         | 5        |\n",
        "|  4 | smoker   | object  | 1338           | 0          | 2      | no        | 1064 | nan        | nan         | nan     | nan       | nan     | nan       | nan      |\n",
        "|  5 | region   | object  | 1338           | 0          | 4      | southeast | 364  | nan        | nan         | nan     | nan       | nan     | nan       | nan      |\n",
        "|  6 | charges  | float64 | 1338           | 0          | nan    | nan       | nan  | 13270.4    | 12110       | 1121.87 | 4740.29   | 9382.03 | 16639.9   | 63770.4  |\n"
      ],
      "metadata": {
        "id": "3l3iyoOQXoik"
      }
    },
    {
      "cell_type": "markdown",
      "source": [
        "## Helper Fuctions: Functions to display data cleanly\n"
      ],
      "metadata": {
        "id": "1EjndT3SuMxA"
      }
    },
    {
      "cell_type": "markdown",
      "source": [
        "### Function: generate_index_info_df(index)\n",
        "This function generates a DataFrame containing detailed information about a pandas DataFrame's index. It collects various attributes of the index and organizes them into a structured format that can be displayed or further analyzed.\n",
        "\n",
        "---\n",
        "\n",
        "Purpose:\n",
        "*   To provide a comprehensive summary of the DataFrame's index.\n",
        "*   Helps in understanding the structure and properties of the index.\n",
        "*   Useful for debugging and ensuring data alignment during analysis.\n",
        "\n",
        "Parameters:\n",
        "*   `index` (pd.Index): The index object from a pandas DataFrame.\n",
        "Returns:\n",
        "*   `index_info_df` (pd.DataFrame): A DataFrame containing index attributes and their corresponding values.\n"
      ],
      "metadata": {
        "id": "dNOK8vL7vwT_"
      }
    },
    {
      "cell_type": "code",
      "source": [
        "def generate_index_info_df(index):\n",
        "  \"\"\"Generates a DataFrame containing information about the DataFrame's index.\n",
        "\n",
        "  Args:\n",
        "      index (pd.Index): The index object from a pandas DataFrame.\n",
        "\n",
        "  Returns:\n",
        "      pd.DataFrame: A DataFrame containing index attributes and their values.\n",
        "  \"\"\"\n",
        "\n",
        "  # Initialize index_dict as a list to store index information\n",
        "  index_dict = []\n",
        "\n",
        "  # Add basic index information\n",
        "  index_dict.append({\n",
        "      'Attribute': 'Index Type',\n",
        "      'Value': str(type(index))\n",
        "  })\n",
        "  index_dict.append({\n",
        "      'Attribute': 'Index Name',\n",
        "      'Value': index.name\n",
        "  })\n",
        "  index_dict.append({\n",
        "      'Attribute': 'Index Length',\n",
        "      'Value': len(index)\n",
        "  })\n",
        "  index_dict.append({\n",
        "      'Attribute': 'Is Index Unique',\n",
        "      'Value': index.is_unique\n",
        "  })\n",
        "  index_dict.append({\n",
        "      'Attribute': 'Any Null Index Values',\n",
        "      'Value': index.hasnans\n",
        "  })\n",
        "\n",
        "  # Add type-specific index information\n",
        "  if isinstance(index, pd.RangeIndex):\n",
        "      index_dict.append({\n",
        "          'Attribute': 'RangeIndex Start',\n",
        "          'Value': index.start\n",
        "      })\n",
        "      index_dict.append({\n",
        "          'Attribute': 'RangeIndex Stop',\n",
        "          'Value': index.stop\n",
        "      })\n",
        "      index_dict.append({\n",
        "          'Attribute': 'RangeIndex Step',\n",
        "          'Value': index.step\n",
        "      })\n",
        "  elif isinstance(index, pd.DatetimeIndex):\n",
        "      index_dict.append({\n",
        "          'Attribute': 'DatetimeIndex Range',\n",
        "          'Value': f\"{index.min()} to {index.max()}\"\n",
        "      })\n",
        "      index_dict.append({\n",
        "          'Attribute': 'Frequency',\n",
        "          'Value': index.freq\n",
        "      })\n",
        "      index_dict.append({\n",
        "          'Attribute': 'Timezone',\n",
        "          'Value': index.tz\n",
        "      })\n",
        "      index_dict.append({\n",
        "          'Attribute': 'Index Sample',\n",
        "          'Value': index[:5].format()\n",
        "      })\n",
        "  elif isinstance(index, pd.MultiIndex):\n",
        "      index_dict.append({\n",
        "          'Attribute': 'Number of Levels',\n",
        "          'Value': index.nlevels\n",
        "      })\n",
        "      index_dict.append({\n",
        "          'Attribute': 'Level Names',\n",
        "          'Value': index.names\n",
        "      })\n",
        "      index_dict.append({\n",
        "          'Attribute': 'Index Sample',\n",
        "          'Value': index[:5].tolist()\n",
        "      })\n",
        "  else:\n",
        "      unique_count = index.nunique(dropna=False)\n",
        "      index_dict.append({\n",
        "          'Attribute': 'Unique Index Values',\n",
        "          'Value': unique_count\n",
        "      })\n",
        "      # Show sample index values\n",
        "      if len(index) <= 20:\n",
        "          index_values = index.tolist()\n",
        "      else:\n",
        "          index_values = index[:5].tolist()\n",
        "          index_values.append('...')\n",
        "      index_dict.append({\n",
        "          'Attribute': 'Index Sample',\n",
        "          'Value': index_values\n",
        "      })\n",
        "\n",
        "  # Convert the list of dictionaries to a DataFrame\n",
        "  index_info_df = pd.DataFrame(index_dict)\n",
        "\n",
        "  # Display the index information using tabulate\n",
        "  print(tabulate(index_info_df, headers='keys', tablefmt='fancy_grid', showindex=False))"
      ],
      "metadata": {
        "id": "trtr0ZwvuReZ"
      },
      "execution_count": 34,
      "outputs": []
    },
    {
      "cell_type": "markdown",
      "source": [
        "###Function: generate_column_summary(df, transpose=False)\n",
        "This function generates a summary DataFrame containing information about each column in the given DataFrame. It provides details such as data types, non-null counts, null counts, and descriptive statistics.\n",
        "\n",
        "---\n",
        "\n",
        "Purpose:\n",
        "*   To summarize the structure and key statistics of each column in the DataFrame.\n",
        "*   Helps in quickly understanding the dataset and identifying potential data quality issues.\n",
        "*   Useful for exploratory data analysis and reporting.\n",
        "\n",
        "Parameters:  \n",
        "*   `df` (pd.DataFrame): The DataFrame to summarize.\n",
        "*   `transpose` (bool, optional): If True, transposes the summary DataFrame so that columns become rows and vice versa. Default is False.\n",
        "Returns:\n",
        "*   `column_info_df` (pd.DataFrame): A DataFrame containing column attributes and their values.\n",
        "\n"
      ],
      "metadata": {
        "id": "8tVdJOdawPlJ"
      }
    },
    {
      "cell_type": "code",
      "source": [
        "import pandas as pd\n",
        "from tabulate import tabulate\n",
        "\n",
        "def generate_column_summary(df, transpose=False):\n",
        "    \"\"\"Generates a summary DataFrame containing information about each column in the given DataFrame.\n",
        "\n",
        "    Args:\n",
        "        df (pd.DataFrame): The DataFrame to summarize.\n",
        "        transpose (bool): If True, transposes the summary DataFrame so that columns become rows and vice versa.\n",
        "\n",
        "    Returns:\n",
        "        pd.DataFrame: A DataFrame containing column attributes and their values.\n",
        "    \"\"\"\n",
        "    # Initialize an empty list to store column information\n",
        "    column_info = []\n",
        "\n",
        "    # Iterate over each column in the DataFrame\n",
        "    for column in df.columns:\n",
        "        # Get basic column information\n",
        "        col_data = {\n",
        "            'Column': column,\n",
        "            'Dtype': df[column].dtype,\n",
        "            'Non-Null Count': df[column].notnull().sum(),\n",
        "            'Null Count': df[column].isnull().sum(),\n",
        "        }\n",
        "\n",
        "        # Add statistical information based on data type\n",
        "        if pd.api.types.is_numeric_dtype(df[column]):\n",
        "            # For numeric columns, get descriptive statistics\n",
        "            col_stats = df[column].describe()\n",
        "            col_data.update({\n",
        "                'Mean': col_stats['mean'],\n",
        "                'Std': col_stats['std'],\n",
        "                'Min': col_stats['min'],\n",
        "                '25%': col_stats['25%'],\n",
        "                '50%': col_stats['50%'],\n",
        "                '75%': col_stats['75%'],\n",
        "                'Max': col_stats['max'],\n",
        "            })\n",
        "        else:\n",
        "            # For non-numeric columns, get unique count and top value\n",
        "            col_stats = df[column].describe()\n",
        "            col_data.update({\n",
        "                'Unique': col_stats['unique'],\n",
        "                'Top': col_stats['top'],\n",
        "                'Freq': col_stats['freq'],\n",
        "            })\n",
        "        # Append the column data to the list\n",
        "        column_info.append(col_data)\n",
        "\n",
        "    # Convert the list of dictionaries to a DataFrame\n",
        "    column_info_df = pd.DataFrame(column_info)\n",
        "\n",
        "    # Define the order of columns\n",
        "    column_order = [\n",
        "        'Column', 'Dtype', 'Non-Null Count', 'Null Count', 'Unique', 'Top',\n",
        "        'Freq', 'Mean', 'Std', 'Min', '25%', '50%', '75%', 'Max'\n",
        "    ]\n",
        "    # Retain only the columns that are present in the DataFrame\n",
        "    column_info_df = column_info_df.loc[:, column_info_df.columns.intersection(column_order)]\n",
        "\n",
        "    # Reorder the columns\n",
        "    column_info_df = column_info_df[column_order]\n",
        "\n",
        "    # If transpose is True, transpose the DataFrame\n",
        "    if transpose:\n",
        "        column_info_df = column_info_df.set_index('Column').transpose()\n",
        "        # Set the index name for clarity\n",
        "        column_info_df.index.name = 'Attribute'\n",
        "\n",
        "    return column_info_df\n"
      ],
      "metadata": {
        "id": "ZhqgzjSjvGI3"
      },
      "execution_count": 35,
      "outputs": []
    },
    {
      "cell_type": "markdown",
      "source": [
        "### Function: summarize_dataframe(df, transpose_summary=False, show_head=True, head_rows=5)\n",
        "This function provides a comprehensive summary of a pandas DataFrame. It consolidates various pieces of information, including index details, column summaries, DataFrame shape, data types, null values, and sample data. This function is particularly useful for quickly understanding the structure and content of your dataset during exploratory data analysis.\n",
        "\n",
        "---\n",
        "\n",
        "**Purpose:**\n",
        "*    Data Overview: Offers a complete overview of the DataFrame's structure and content.\n",
        "*    Index Information: Provides detailed information about the DataFrame's index.\n",
        "*    Column Summary: Summarizes each column with data types, counts, and descriptive statistics.\n",
        "*    Shape and Size: Displays the number of rows and columns.\n",
        "*    Data Types and Memory Usage: Presents data types of each column and memory usage.\n",
        "*    Null Values: Shows the count of null values in each column.\n",
        "*    Sample Data: Displays the first few rows of the DataFrame for a glimpse of the data.\n",
        "\n",
        "Parameters:  \n",
        "*    df (pd.DataFrame): The pandas DataFrame to summarize.\n",
        "*    transpose_summary (bool, optional): If True, transposes the column summary for better readability when there are many columns. Default is False.\n",
        "*    show_head (bool, optional): If True, displays the first few rows of the DataFrame. Default is True.\n",
        "*    head_rows (int, optional): Specifies the number of rows to display from the top of the DataFrame if show_head is True. Default is 5.\n",
        "  \n",
        "Returns:\n",
        "*    None: The function prints the summary directly and does not return any value."
      ],
      "metadata": {
        "id": "NUFRsne5xLxT"
      }
    },
    {
      "cell_type": "code",
      "source": [
        "import pandas as pd\n",
        "from tabulate import tabulate\n",
        "\n",
        "def summarize_dataframe(df, transpose_summary=False, show_head=True, head_rows=5):\n",
        "    \"\"\"Generates a comprehensive summary of the DataFrame, including index information,\n",
        "    column summary, shape, data types, null values, and sample data.\n",
        "\n",
        "    Args:\n",
        "        df (pd.DataFrame): The DataFrame to summarize.\n",
        "        transpose_summary (bool): If True, transposes the column summary for better readability.\n",
        "        show_head (bool): If True, displays the first few rows of the DataFrame.\n",
        "        head_rows (int): Number of rows to display from the head of the DataFrame.\n",
        "\n",
        "    Returns:\n",
        "        None\n",
        "    \"\"\"\n",
        "    print(\"\\n===== DataFrame Shape =====\\n\")\n",
        "    print(f\"Number of Rows: {df.shape[0]}\")\n",
        "    print(f\"Number of Columns: {df.shape[1]}\")\n",
        "\n",
        "    print(\"\\n===== DataFrame Index Information =====\\n\")\n",
        "    index_info_df = generate_index_info_df(df.index)\n",
        "    print(tabulate(index_info_df, headers='keys', tablefmt='fancy_grid', showindex=False))\n",
        "\n",
        "    print(\"\\n===== DataFrame Column Summary =====\\n\")\n",
        "    column_summary_df = generate_column_summary(df, transpose=transpose_summary)\n",
        "    print(tabulate(column_summary_df, headers='keys', tablefmt='fancy_grid', showindex=True))\n",
        "\n",
        "    if show_head:\n",
        "        print(f\"\\n===== First {head_rows} Rows of DataFrame =====\\n\")\n",
        "        print(df.head(head_rows).to_string(index=False))\n"
      ],
      "metadata": {
        "id": "sWZ55h3Ixnon"
      },
      "execution_count": 36,
      "outputs": []
    },
    {
      "cell_type": "markdown",
      "source": [
        "### Display categorical Graphs"
      ],
      "metadata": {
        "id": "p4Co8hJF-XWr"
      }
    },
    {
      "cell_type": "code",
      "source": [
        "import matplotlib.pyplot as plt\n",
        "import seaborn as sns\n",
        "\n",
        "def plot_categorical_countplots(df, categorical_vars, figsize=(15, 5)):\n",
        "    \"\"\"\n",
        "    Function to plot countplots for categorical variables with annotations on top of bars.\n",
        "\n",
        "    Parameters:\n",
        "    - df: DataFrame containing the dataset\n",
        "    - categorical_vars: List of categorical variables to plot\n",
        "    - figsize: Tuple for figure size (default is (18, 6))\n",
        "\n",
        "    Returns:\n",
        "    - Displays the countplots for the given categorical variables.\n",
        "    \"\"\"\n",
        "    # Set up the figure and axes for subplots\n",
        "    fig, axes = plt.subplots(1, len(categorical_vars), figsize=figsize)  # Create a 1-row, multi-column grid\n",
        "\n",
        "    # Loop over each categorical variable\n",
        "    for ax, var in zip(axes, categorical_vars):\n",
        "        # Create countplot on the corresponding axis\n",
        "        sns.countplot(x=var, data=df, ax=ax)\n",
        "        ax.set_title(f'Countplot of {var.capitalize()}')\n",
        "\n",
        "        # Annotate the values on top of the bars\n",
        "        for p in ax.patches:\n",
        "            ax.annotate(f'{int(p.get_height())}',\n",
        "                        (p.get_x() + p.get_width() / 2., p.get_height()),\n",
        "                        ha='center', va='baseline', fontsize=11, color='black',\n",
        "                        xytext=(0, 5), textcoords='offset points')\n",
        "\n",
        "        # Set the label underneath the bars\n",
        "        ax.set_xlabel(f'{var.capitalize()}', fontsize=12)\n",
        "\n",
        "    # Display the plots\n",
        "    plt.tight_layout()  # Adjust the spacing between plots\n",
        "    plt.show()"
      ],
      "metadata": {
        "id": "IXQ6xT4H-WF_"
      },
      "execution_count": 37,
      "outputs": []
    },
    {
      "cell_type": "markdown",
      "source": [
        "Function to Display numerical histograms"
      ],
      "metadata": {
        "id": "Mb41x2h_-r1T"
      }
    },
    {
      "cell_type": "code",
      "source": [
        "import matplotlib.pyplot as plt\n",
        "import seaborn as sns\n",
        "\n",
        "def plot_numerical_histograms(df, numerical_vars, figsize=(15, 5)):\n",
        "    \"\"\"\n",
        "    Function to plot histograms for numerical variables with KDE side by side.\n",
        "\n",
        "    Parameters:\n",
        "    - df: DataFrame containing the dataset\n",
        "    - numerical_vars: List of numerical variables to plot\n",
        "    - figsize: Tuple for figure size (default is (18, 6))\n",
        "\n",
        "    Returns:\n",
        "    - Displays the histograms with KDE for the given numerical variables.\n",
        "    \"\"\"\n",
        "    # Set up the figure and axes for subplots\n",
        "    fig, axes = plt.subplots(1, len(numerical_vars), figsize=figsize)  # 1 row, multiple columns\n",
        "\n",
        "    # Loop over each numerical variable and corresponding axis\n",
        "    for ax, var in zip(axes, numerical_vars):\n",
        "        # Create a histplot on the corresponding axis with KDE\n",
        "        sns.histplot(df[var], kde=True, ax=ax)\n",
        "        ax.set_title(f'Distribution of {var.capitalize()}')\n",
        "        ax.set_xlabel(var.capitalize())  # Set label for x-axis\n",
        "        ax.set_ylabel('Frequency')  # Set label for y-axis\n",
        "\n",
        "    # Adjust layout to prevent overlapping\n",
        "    plt.tight_layout()\n",
        "    plt.show()"
      ],
      "metadata": {
        "id": "FoYogCu9-xTf"
      },
      "execution_count": 38,
      "outputs": []
    },
    {
      "cell_type": "markdown",
      "source": [
        "The `plot_boxplot_with_statistics` function is designed to visualize the relationship between a categorical variable and a numerical variable using a boxplot, while also providing summary statistics (mean and median) for each group in the categorical variable. Additionally, if the categorical variable contains exactly two groups, the function performs an independent t-test to assess the statistical significance of the difference between the two groups.\n"
      ],
      "metadata": {
        "id": "VZqYjJoK_qEn"
      }
    },
    {
      "cell_type": "code",
      "source": [
        "import matplotlib.pyplot as plt\n",
        "import seaborn as sns\n",
        "from scipy.stats import ttest_ind\n",
        "\n",
        "def plot_boxplot_with_statistics(df, x_col, y_col, title):\n",
        "    \"\"\"\n",
        "    Function to create a boxplot with mean and median statistics, and perform a t-test.\n",
        "\n",
        "    Parameters:\n",
        "    - df: DataFrame containing the dataset\n",
        "    - x_col: Categorical column for the x-axis (e.g., 'smoker', 'sex')\n",
        "    - y_col: Numerical column for the y-axis (e.g., 'charges')\n",
        "    - title: Title for the boxplot\n",
        "\n",
        "    Returns:\n",
        "    - Displays the boxplot, prints mean and median statistics, and shows the t-test result.\n",
        "    \"\"\"\n",
        "    # Create the boxplot\n",
        "    plt.figure(figsize=(5, 6))\n",
        "    sns.boxplot(x=x_col, y=y_col, data=df)\n",
        "    plt.title(title)\n",
        "    plt.xlabel(x_col.capitalize())\n",
        "    plt.ylabel(y_col.capitalize())\n",
        "    plt.show()\n",
        "\n",
        "    # Calculate mean and median for each group in the categorical variable\n",
        "    group_stats = df.groupby(x_col)[y_col].agg(['mean', 'median'])\n",
        "    print(f\"\\nMean and Median {y_col.capitalize()} by {x_col.capitalize()}:\\n\")\n",
        "    print(group_stats)\n",
        "\n",
        "    # Perform t-test for the two groups in the x_col\n",
        "    groups = df[x_col].unique()\n",
        "    if len(groups) == 2:  # Ensure there are exactly 2 groups for the t-test\n",
        "        group1 = df[df[x_col] == groups[0]][y_col]\n",
        "        group2 = df[df[x_col] == groups[1]][y_col]\n",
        "\n",
        "        # Perform the t-test\n",
        "        t_stat, p_value = ttest_ind(group1, group2, equal_var=False)\n",
        "        print(f\"\\nT-test results between {groups[0]} and {groups[1]} for {y_col.capitalize()}:\")\n",
        "        print(f\"T-statistic: {t_stat:.4f}, P-value: {p_value:.4e}\")\n",
        "    else:\n",
        "        print(f\"\\nT-test could not be performed because {x_col} has more than 2 groups.\")\n",
        "\n",
        "# Example usage:\n"
      ],
      "metadata": {
        "id": "VBLIrojP_oMD"
      },
      "execution_count": 39,
      "outputs": []
    },
    {
      "cell_type": "markdown",
      "source": [
        "#1: Data Preparation"
      ],
      "metadata": {
        "id": "jMvNq05tbjop"
      }
    },
    {
      "cell_type": "markdown",
      "source": [
        "###**Import Necessary Libraries**\n",
        "First, we'll import the essential libraries needed for data analysis and visualization."
      ],
      "metadata": {
        "id": "aGzq3FhPDlzo"
      }
    },
    {
      "cell_type": "code",
      "source": [
        "# Import libraries\n",
        "import pandas as pd        # For data manipulation\n",
        "import numpy as np         # For numerical operations\n",
        "import matplotlib.pyplot as plt   # For plotting\n",
        "import os\n",
        "import seaborn as sns      # For advanced plotting\n",
        "import kagglehub\n",
        "from tabulate import tabulate # Formating Data Tables Nicely\n",
        "\n",
        "%matplotlib inline"
      ],
      "metadata": {
        "id": "7hhxcecmkOsc"
      },
      "execution_count": 40,
      "outputs": []
    },
    {
      "cell_type": "markdown",
      "source": [
        "###**Load the Dataset**  "
      ],
      "metadata": {
        "id": "YTWYNJYXkWPp"
      }
    },
    {
      "cell_type": "code",
      "source": [
        "# Download latest version\n",
        "path = kagglehub.dataset_download(\"mirichoi0218/insurance\")\n",
        "\n",
        "print(\"Path to dataset files:\", path)\n",
        "csv_file_path = os.path.join(path, \"insurance.csv\")\n",
        "\n",
        "df = pd.read_csv(csv_file_path)"
      ],
      "metadata": {
        "colab": {
          "base_uri": "https://localhost:8080/"
        },
        "id": "TAMLEbbakVjX",
        "outputId": "7678bdbb-ed5a-400f-8192-b7e417faff8e"
      },
      "execution_count": 41,
      "outputs": [
        {
          "output_type": "stream",
          "name": "stdout",
          "text": [
            "Warning: Looks like you're using an outdated `kagglehub` version, please consider updating (latest version: 0.3.3)\n",
            "Path to dataset files: /root/.cache/kagglehub/datasets/mirichoi0218/insurance/versions/1\n"
          ]
        }
      ]
    },
    {
      "cell_type": "markdown",
      "source": [
        "###**Check Dataframe shape**"
      ],
      "metadata": {
        "id": "AkxEgJTnl1u1"
      }
    },
    {
      "cell_type": "code",
      "source": [
        "print(f\"Number of Rows: {df.shape[0]}\")\n",
        "print(f\"Number of Columns: {df.shape[1]}\")"
      ],
      "metadata": {
        "colab": {
          "base_uri": "https://localhost:8080/"
        },
        "id": "nfjEs051l4Z9",
        "outputId": "f3c8f2c0-a22e-4351-b5a8-a084123e609a"
      },
      "execution_count": 42,
      "outputs": [
        {
          "output_type": "stream",
          "name": "stdout",
          "text": [
            "Number of Rows: 1338\n",
            "Number of Columns: 7\n"
          ]
        }
      ]
    },
    {
      "cell_type": "markdown",
      "source": [
        "###**See Data Structure**"
      ],
      "metadata": {
        "id": "CmHsiJp-EH9Z"
      }
    },
    {
      "cell_type": "code",
      "source": [
        "column_summary_df = generate_column_summary(df, transpose=False)\n",
        "print(tabulate(column_summary_df, headers='keys', tablefmt='fancy_grid', showindex=True))"
      ],
      "metadata": {
        "colab": {
          "base_uri": "https://localhost:8080/"
        },
        "id": "NCnJiu3KmZb7",
        "outputId": "d2aee1d4-0643-45fb-9b8a-d2396bbc6dc4"
      },
      "execution_count": 43,
      "outputs": [
        {
          "output_type": "stream",
          "name": "stdout",
          "text": [
            "╒════╤══════════╤═════════╤══════════════════╤══════════════╤══════════╤═══════════╤════════╤═════════════╤═════════════╤═════════╤═══════════╤═════════╤════════════╤══════════╕\n",
            "│    │ Column   │ Dtype   │   Non-Null Count │   Null Count │   Unique │ Top       │   Freq │        Mean │         Std │     Min │       25% │     50% │        75% │      Max │\n",
            "╞════╪══════════╪═════════╪══════════════════╪══════════════╪══════════╪═══════════╪════════╪═════════════╪═════════════╪═════════╪═══════════╪═════════╪════════════╪══════════╡\n",
            "│  0 │ age      │ int64   │             1338 │            0 │      nan │ nan       │    nan │    39.207   │    14.05    │   18    │   27      │   39    │    51      │    64    │\n",
            "├────┼──────────┼─────────┼──────────────────┼──────────────┼──────────┼───────────┼────────┼─────────────┼─────────────┼─────────┼───────────┼─────────┼────────────┼──────────┤\n",
            "│  1 │ sex      │ object  │             1338 │            0 │        2 │ male      │    676 │   nan       │   nan       │  nan    │  nan      │  nan    │   nan      │   nan    │\n",
            "├────┼──────────┼─────────┼──────────────────┼──────────────┼──────────┼───────────┼────────┼─────────────┼─────────────┼─────────┼───────────┼─────────┼────────────┼──────────┤\n",
            "│  2 │ bmi      │ float64 │             1338 │            0 │      nan │ nan       │    nan │    30.6634  │     6.09819 │   15.96 │   26.2963 │   30.4  │    34.6938 │    53.13 │\n",
            "├────┼──────────┼─────────┼──────────────────┼──────────────┼──────────┼───────────┼────────┼─────────────┼─────────────┼─────────┼───────────┼─────────┼────────────┼──────────┤\n",
            "│  3 │ children │ int64   │             1338 │            0 │      nan │ nan       │    nan │     1.09492 │     1.20549 │    0    │    0      │    1    │     2      │     5    │\n",
            "├────┼──────────┼─────────┼──────────────────┼──────────────┼──────────┼───────────┼────────┼─────────────┼─────────────┼─────────┼───────────┼─────────┼────────────┼──────────┤\n",
            "│  4 │ smoker   │ object  │             1338 │            0 │        2 │ no        │   1064 │   nan       │   nan       │  nan    │  nan      │  nan    │   nan      │   nan    │\n",
            "├────┼──────────┼─────────┼──────────────────┼──────────────┼──────────┼───────────┼────────┼─────────────┼─────────────┼─────────┼───────────┼─────────┼────────────┼──────────┤\n",
            "│  5 │ region   │ object  │             1338 │            0 │        4 │ southeast │    364 │   nan       │   nan       │  nan    │  nan      │  nan    │   nan      │   nan    │\n",
            "├────┼──────────┼─────────┼──────────────────┼──────────────┼──────────┼───────────┼────────┼─────────────┼─────────────┼─────────┼───────────┼─────────┼────────────┼──────────┤\n",
            "│  6 │ charges  │ float64 │             1338 │            0 │      nan │ nan       │    nan │ 13270.4     │ 12110       │ 1121.87 │ 4740.29   │ 9382.03 │ 16639.9    │ 63770.4  │\n",
            "╘════╧══════════╧═════════╧══════════════════╧══════════════╧══════════╧═══════════╧════════╧═════════════╧═════════════╧═════════╧═══════════╧═════════╧════════════╧══════════╛\n"
          ]
        }
      ]
    },
    {
      "cell_type": "markdown",
      "source": [
        "### **Display first ten values**"
      ],
      "metadata": {
        "id": "5aHTo-TqEScC"
      }
    },
    {
      "cell_type": "code",
      "source": [
        "df.head(10)"
      ],
      "metadata": {
        "colab": {
          "base_uri": "https://localhost:8080/",
          "height": 363
        },
        "id": "L2y05UuYEVUG",
        "outputId": "b2ca84e6-7cc1-488b-b91a-59762a47d953"
      },
      "execution_count": 44,
      "outputs": [
        {
          "output_type": "execute_result",
          "data": {
            "text/plain": [
              "   age     sex   bmi  children smoker     region  charges\n",
              "0   19  female 27.90         0    yes  southwest 16884.92\n",
              "1   18    male 33.77         1     no  southeast  1725.55\n",
              "2   28    male 33.00         3     no  southeast  4449.46\n",
              "3   33    male 22.70         0     no  northwest 21984.47\n",
              "4   32    male 28.88         0     no  northwest  3866.86\n",
              "5   31  female 25.74         0     no  southeast  3756.62\n",
              "6   46  female 33.44         1     no  southeast  8240.59\n",
              "7   37  female 27.74         3     no  northwest  7281.51\n",
              "8   37    male 29.83         2     no  northeast  6406.41\n",
              "9   60  female 25.84         0     no  northwest 28923.14"
            ],
            "text/html": [
              "\n",
              "  <div id=\"df-3e91511b-04f2-455e-b08d-9590ffd0748a\" class=\"colab-df-container\">\n",
              "    <div>\n",
              "<style scoped>\n",
              "    .dataframe tbody tr th:only-of-type {\n",
              "        vertical-align: middle;\n",
              "    }\n",
              "\n",
              "    .dataframe tbody tr th {\n",
              "        vertical-align: top;\n",
              "    }\n",
              "\n",
              "    .dataframe thead th {\n",
              "        text-align: right;\n",
              "    }\n",
              "</style>\n",
              "<table border=\"1\" class=\"dataframe\">\n",
              "  <thead>\n",
              "    <tr style=\"text-align: right;\">\n",
              "      <th></th>\n",
              "      <th>age</th>\n",
              "      <th>sex</th>\n",
              "      <th>bmi</th>\n",
              "      <th>children</th>\n",
              "      <th>smoker</th>\n",
              "      <th>region</th>\n",
              "      <th>charges</th>\n",
              "    </tr>\n",
              "  </thead>\n",
              "  <tbody>\n",
              "    <tr>\n",
              "      <th>0</th>\n",
              "      <td>19</td>\n",
              "      <td>female</td>\n",
              "      <td>27.90</td>\n",
              "      <td>0</td>\n",
              "      <td>yes</td>\n",
              "      <td>southwest</td>\n",
              "      <td>16884.92</td>\n",
              "    </tr>\n",
              "    <tr>\n",
              "      <th>1</th>\n",
              "      <td>18</td>\n",
              "      <td>male</td>\n",
              "      <td>33.77</td>\n",
              "      <td>1</td>\n",
              "      <td>no</td>\n",
              "      <td>southeast</td>\n",
              "      <td>1725.55</td>\n",
              "    </tr>\n",
              "    <tr>\n",
              "      <th>2</th>\n",
              "      <td>28</td>\n",
              "      <td>male</td>\n",
              "      <td>33.00</td>\n",
              "      <td>3</td>\n",
              "      <td>no</td>\n",
              "      <td>southeast</td>\n",
              "      <td>4449.46</td>\n",
              "    </tr>\n",
              "    <tr>\n",
              "      <th>3</th>\n",
              "      <td>33</td>\n",
              "      <td>male</td>\n",
              "      <td>22.70</td>\n",
              "      <td>0</td>\n",
              "      <td>no</td>\n",
              "      <td>northwest</td>\n",
              "      <td>21984.47</td>\n",
              "    </tr>\n",
              "    <tr>\n",
              "      <th>4</th>\n",
              "      <td>32</td>\n",
              "      <td>male</td>\n",
              "      <td>28.88</td>\n",
              "      <td>0</td>\n",
              "      <td>no</td>\n",
              "      <td>northwest</td>\n",
              "      <td>3866.86</td>\n",
              "    </tr>\n",
              "    <tr>\n",
              "      <th>5</th>\n",
              "      <td>31</td>\n",
              "      <td>female</td>\n",
              "      <td>25.74</td>\n",
              "      <td>0</td>\n",
              "      <td>no</td>\n",
              "      <td>southeast</td>\n",
              "      <td>3756.62</td>\n",
              "    </tr>\n",
              "    <tr>\n",
              "      <th>6</th>\n",
              "      <td>46</td>\n",
              "      <td>female</td>\n",
              "      <td>33.44</td>\n",
              "      <td>1</td>\n",
              "      <td>no</td>\n",
              "      <td>southeast</td>\n",
              "      <td>8240.59</td>\n",
              "    </tr>\n",
              "    <tr>\n",
              "      <th>7</th>\n",
              "      <td>37</td>\n",
              "      <td>female</td>\n",
              "      <td>27.74</td>\n",
              "      <td>3</td>\n",
              "      <td>no</td>\n",
              "      <td>northwest</td>\n",
              "      <td>7281.51</td>\n",
              "    </tr>\n",
              "    <tr>\n",
              "      <th>8</th>\n",
              "      <td>37</td>\n",
              "      <td>male</td>\n",
              "      <td>29.83</td>\n",
              "      <td>2</td>\n",
              "      <td>no</td>\n",
              "      <td>northeast</td>\n",
              "      <td>6406.41</td>\n",
              "    </tr>\n",
              "    <tr>\n",
              "      <th>9</th>\n",
              "      <td>60</td>\n",
              "      <td>female</td>\n",
              "      <td>25.84</td>\n",
              "      <td>0</td>\n",
              "      <td>no</td>\n",
              "      <td>northwest</td>\n",
              "      <td>28923.14</td>\n",
              "    </tr>\n",
              "  </tbody>\n",
              "</table>\n",
              "</div>\n",
              "    <div class=\"colab-df-buttons\">\n",
              "\n",
              "  <div class=\"colab-df-container\">\n",
              "    <button class=\"colab-df-convert\" onclick=\"convertToInteractive('df-3e91511b-04f2-455e-b08d-9590ffd0748a')\"\n",
              "            title=\"Convert this dataframe to an interactive table.\"\n",
              "            style=\"display:none;\">\n",
              "\n",
              "  <svg xmlns=\"http://www.w3.org/2000/svg\" height=\"24px\" viewBox=\"0 -960 960 960\">\n",
              "    <path d=\"M120-120v-720h720v720H120Zm60-500h600v-160H180v160Zm220 220h160v-160H400v160Zm0 220h160v-160H400v160ZM180-400h160v-160H180v160Zm440 0h160v-160H620v160ZM180-180h160v-160H180v160Zm440 0h160v-160H620v160Z\"/>\n",
              "  </svg>\n",
              "    </button>\n",
              "\n",
              "  <style>\n",
              "    .colab-df-container {\n",
              "      display:flex;\n",
              "      gap: 12px;\n",
              "    }\n",
              "\n",
              "    .colab-df-convert {\n",
              "      background-color: #E8F0FE;\n",
              "      border: none;\n",
              "      border-radius: 50%;\n",
              "      cursor: pointer;\n",
              "      display: none;\n",
              "      fill: #1967D2;\n",
              "      height: 32px;\n",
              "      padding: 0 0 0 0;\n",
              "      width: 32px;\n",
              "    }\n",
              "\n",
              "    .colab-df-convert:hover {\n",
              "      background-color: #E2EBFA;\n",
              "      box-shadow: 0px 1px 2px rgba(60, 64, 67, 0.3), 0px 1px 3px 1px rgba(60, 64, 67, 0.15);\n",
              "      fill: #174EA6;\n",
              "    }\n",
              "\n",
              "    .colab-df-buttons div {\n",
              "      margin-bottom: 4px;\n",
              "    }\n",
              "\n",
              "    [theme=dark] .colab-df-convert {\n",
              "      background-color: #3B4455;\n",
              "      fill: #D2E3FC;\n",
              "    }\n",
              "\n",
              "    [theme=dark] .colab-df-convert:hover {\n",
              "      background-color: #434B5C;\n",
              "      box-shadow: 0px 1px 3px 1px rgba(0, 0, 0, 0.15);\n",
              "      filter: drop-shadow(0px 1px 2px rgba(0, 0, 0, 0.3));\n",
              "      fill: #FFFFFF;\n",
              "    }\n",
              "  </style>\n",
              "\n",
              "    <script>\n",
              "      const buttonEl =\n",
              "        document.querySelector('#df-3e91511b-04f2-455e-b08d-9590ffd0748a button.colab-df-convert');\n",
              "      buttonEl.style.display =\n",
              "        google.colab.kernel.accessAllowed ? 'block' : 'none';\n",
              "\n",
              "      async function convertToInteractive(key) {\n",
              "        const element = document.querySelector('#df-3e91511b-04f2-455e-b08d-9590ffd0748a');\n",
              "        const dataTable =\n",
              "          await google.colab.kernel.invokeFunction('convertToInteractive',\n",
              "                                                    [key], {});\n",
              "        if (!dataTable) return;\n",
              "\n",
              "        const docLinkHtml = 'Like what you see? Visit the ' +\n",
              "          '<a target=\"_blank\" href=https://colab.research.google.com/notebooks/data_table.ipynb>data table notebook</a>'\n",
              "          + ' to learn more about interactive tables.';\n",
              "        element.innerHTML = '';\n",
              "        dataTable['output_type'] = 'display_data';\n",
              "        await google.colab.output.renderOutput(dataTable, element);\n",
              "        const docLink = document.createElement('div');\n",
              "        docLink.innerHTML = docLinkHtml;\n",
              "        element.appendChild(docLink);\n",
              "      }\n",
              "    </script>\n",
              "  </div>\n",
              "\n",
              "\n",
              "<div id=\"df-2c24fed1-4ffe-4331-ae8b-ac0328b3a3ea\">\n",
              "  <button class=\"colab-df-quickchart\" onclick=\"quickchart('df-2c24fed1-4ffe-4331-ae8b-ac0328b3a3ea')\"\n",
              "            title=\"Suggest charts\"\n",
              "            style=\"display:none;\">\n",
              "\n",
              "<svg xmlns=\"http://www.w3.org/2000/svg\" height=\"24px\"viewBox=\"0 0 24 24\"\n",
              "     width=\"24px\">\n",
              "    <g>\n",
              "        <path d=\"M19 3H5c-1.1 0-2 .9-2 2v14c0 1.1.9 2 2 2h14c1.1 0 2-.9 2-2V5c0-1.1-.9-2-2-2zM9 17H7v-7h2v7zm4 0h-2V7h2v10zm4 0h-2v-4h2v4z\"/>\n",
              "    </g>\n",
              "</svg>\n",
              "  </button>\n",
              "\n",
              "<style>\n",
              "  .colab-df-quickchart {\n",
              "      --bg-color: #E8F0FE;\n",
              "      --fill-color: #1967D2;\n",
              "      --hover-bg-color: #E2EBFA;\n",
              "      --hover-fill-color: #174EA6;\n",
              "      --disabled-fill-color: #AAA;\n",
              "      --disabled-bg-color: #DDD;\n",
              "  }\n",
              "\n",
              "  [theme=dark] .colab-df-quickchart {\n",
              "      --bg-color: #3B4455;\n",
              "      --fill-color: #D2E3FC;\n",
              "      --hover-bg-color: #434B5C;\n",
              "      --hover-fill-color: #FFFFFF;\n",
              "      --disabled-bg-color: #3B4455;\n",
              "      --disabled-fill-color: #666;\n",
              "  }\n",
              "\n",
              "  .colab-df-quickchart {\n",
              "    background-color: var(--bg-color);\n",
              "    border: none;\n",
              "    border-radius: 50%;\n",
              "    cursor: pointer;\n",
              "    display: none;\n",
              "    fill: var(--fill-color);\n",
              "    height: 32px;\n",
              "    padding: 0;\n",
              "    width: 32px;\n",
              "  }\n",
              "\n",
              "  .colab-df-quickchart:hover {\n",
              "    background-color: var(--hover-bg-color);\n",
              "    box-shadow: 0 1px 2px rgba(60, 64, 67, 0.3), 0 1px 3px 1px rgba(60, 64, 67, 0.15);\n",
              "    fill: var(--button-hover-fill-color);\n",
              "  }\n",
              "\n",
              "  .colab-df-quickchart-complete:disabled,\n",
              "  .colab-df-quickchart-complete:disabled:hover {\n",
              "    background-color: var(--disabled-bg-color);\n",
              "    fill: var(--disabled-fill-color);\n",
              "    box-shadow: none;\n",
              "  }\n",
              "\n",
              "  .colab-df-spinner {\n",
              "    border: 2px solid var(--fill-color);\n",
              "    border-color: transparent;\n",
              "    border-bottom-color: var(--fill-color);\n",
              "    animation:\n",
              "      spin 1s steps(1) infinite;\n",
              "  }\n",
              "\n",
              "  @keyframes spin {\n",
              "    0% {\n",
              "      border-color: transparent;\n",
              "      border-bottom-color: var(--fill-color);\n",
              "      border-left-color: var(--fill-color);\n",
              "    }\n",
              "    20% {\n",
              "      border-color: transparent;\n",
              "      border-left-color: var(--fill-color);\n",
              "      border-top-color: var(--fill-color);\n",
              "    }\n",
              "    30% {\n",
              "      border-color: transparent;\n",
              "      border-left-color: var(--fill-color);\n",
              "      border-top-color: var(--fill-color);\n",
              "      border-right-color: var(--fill-color);\n",
              "    }\n",
              "    40% {\n",
              "      border-color: transparent;\n",
              "      border-right-color: var(--fill-color);\n",
              "      border-top-color: var(--fill-color);\n",
              "    }\n",
              "    60% {\n",
              "      border-color: transparent;\n",
              "      border-right-color: var(--fill-color);\n",
              "    }\n",
              "    80% {\n",
              "      border-color: transparent;\n",
              "      border-right-color: var(--fill-color);\n",
              "      border-bottom-color: var(--fill-color);\n",
              "    }\n",
              "    90% {\n",
              "      border-color: transparent;\n",
              "      border-bottom-color: var(--fill-color);\n",
              "    }\n",
              "  }\n",
              "</style>\n",
              "\n",
              "  <script>\n",
              "    async function quickchart(key) {\n",
              "      const quickchartButtonEl =\n",
              "        document.querySelector('#' + key + ' button');\n",
              "      quickchartButtonEl.disabled = true;  // To prevent multiple clicks.\n",
              "      quickchartButtonEl.classList.add('colab-df-spinner');\n",
              "      try {\n",
              "        const charts = await google.colab.kernel.invokeFunction(\n",
              "            'suggestCharts', [key], {});\n",
              "      } catch (error) {\n",
              "        console.error('Error during call to suggestCharts:', error);\n",
              "      }\n",
              "      quickchartButtonEl.classList.remove('colab-df-spinner');\n",
              "      quickchartButtonEl.classList.add('colab-df-quickchart-complete');\n",
              "    }\n",
              "    (() => {\n",
              "      let quickchartButtonEl =\n",
              "        document.querySelector('#df-2c24fed1-4ffe-4331-ae8b-ac0328b3a3ea button');\n",
              "      quickchartButtonEl.style.display =\n",
              "        google.colab.kernel.accessAllowed ? 'block' : 'none';\n",
              "    })();\n",
              "  </script>\n",
              "</div>\n",
              "\n",
              "    </div>\n",
              "  </div>\n"
            ],
            "application/vnd.google.colaboratory.intrinsic+json": {
              "type": "dataframe",
              "variable_name": "df",
              "summary": "{\n  \"name\": \"df\",\n  \"rows\": 1338,\n  \"fields\": [\n    {\n      \"column\": \"age\",\n      \"properties\": {\n        \"dtype\": \"number\",\n        \"std\": 14,\n        \"min\": 18,\n        \"max\": 64,\n        \"num_unique_values\": 47,\n        \"samples\": [\n          21,\n          45,\n          36\n        ],\n        \"semantic_type\": \"\",\n        \"description\": \"\"\n      }\n    },\n    {\n      \"column\": \"sex\",\n      \"properties\": {\n        \"dtype\": \"category\",\n        \"num_unique_values\": 2,\n        \"samples\": [\n          \"male\",\n          \"female\"\n        ],\n        \"semantic_type\": \"\",\n        \"description\": \"\"\n      }\n    },\n    {\n      \"column\": \"bmi\",\n      \"properties\": {\n        \"dtype\": \"number\",\n        \"std\": 6.098186911679017,\n        \"min\": 15.96,\n        \"max\": 53.13,\n        \"num_unique_values\": 548,\n        \"samples\": [\n          23.18,\n          26.885\n        ],\n        \"semantic_type\": \"\",\n        \"description\": \"\"\n      }\n    },\n    {\n      \"column\": \"children\",\n      \"properties\": {\n        \"dtype\": \"number\",\n        \"std\": 1,\n        \"min\": 0,\n        \"max\": 5,\n        \"num_unique_values\": 6,\n        \"samples\": [\n          0,\n          1\n        ],\n        \"semantic_type\": \"\",\n        \"description\": \"\"\n      }\n    },\n    {\n      \"column\": \"smoker\",\n      \"properties\": {\n        \"dtype\": \"category\",\n        \"num_unique_values\": 2,\n        \"samples\": [\n          \"no\",\n          \"yes\"\n        ],\n        \"semantic_type\": \"\",\n        \"description\": \"\"\n      }\n    },\n    {\n      \"column\": \"region\",\n      \"properties\": {\n        \"dtype\": \"category\",\n        \"num_unique_values\": 4,\n        \"samples\": [\n          \"southeast\",\n          \"northeast\"\n        ],\n        \"semantic_type\": \"\",\n        \"description\": \"\"\n      }\n    },\n    {\n      \"column\": \"charges\",\n      \"properties\": {\n        \"dtype\": \"number\",\n        \"std\": 12110.011236693994,\n        \"min\": 1121.8739,\n        \"max\": 63770.42801,\n        \"num_unique_values\": 1337,\n        \"samples\": [\n          8688.85885,\n          5708.867\n        ],\n        \"semantic_type\": \"\",\n        \"description\": \"\"\n      }\n    }\n  ]\n}"
            }
          },
          "metadata": {},
          "execution_count": 44
        }
      ]
    },
    {
      "cell_type": "markdown",
      "source": [
        "### **Handling Missing Values**\n",
        "Missing data can lead to inaccuracies in model training and analysis, so it's important to identify and handle them appropriately. However for this dataset there is no missing values! So we got lucky there!"
      ],
      "metadata": {
        "id": "4bYfsfrdFAKd"
      }
    },
    {
      "cell_type": "code",
      "source": [
        "missing_values = df.isnull().sum()\n",
        "print(\"Missing values per column:\\n\", missing_values)"
      ],
      "metadata": {
        "colab": {
          "base_uri": "https://localhost:8080/"
        },
        "id": "p0HNx1CmFJq1",
        "outputId": "0dff6baa-ca6b-4308-e66f-9402101b56dd"
      },
      "execution_count": 45,
      "outputs": [
        {
          "output_type": "stream",
          "name": "stdout",
          "text": [
            "Missing values per column:\n",
            " age         0\n",
            "sex         0\n",
            "bmi         0\n",
            "children    0\n",
            "smoker      0\n",
            "region      0\n",
            "charges     0\n",
            "dtype: int64\n"
          ]
        }
      ]
    },
    {
      "cell_type": "markdown",
      "source": [
        "#**2. Exploratory Data Analysis (EDA)**\n"
      ],
      "metadata": {
        "id": "L9js7mOyF8kd"
      }
    },
    {
      "cell_type": "markdown",
      "source": [
        "## **Categorical Variables:**\n",
        "We will explore the categorical variables to understand their distribution."
      ],
      "metadata": {
        "id": "_8Uj3d3PHd82"
      }
    },
    {
      "cell_type": "code",
      "source": [
        "categorical_vars = ['sex', 'smoker', 'region', 'children']\n",
        "plot_categorical_countplots(df, categorical_vars)"
      ],
      "metadata": {
        "colab": {
          "base_uri": "https://localhost:8080/",
          "height": 507
        },
        "id": "y-8bQqFcon8N",
        "outputId": "d6beb2e5-e20a-4a5a-9a4d-d478b3b1fe0f"
      },
      "execution_count": 46,
      "outputs": [
        {
          "output_type": "display_data",
          "data": {
            "text/plain": [
              "<Figure size 1500x500 with 4 Axes>"
            ],
            "image/png": "[encoded data removed]"
          },
          "metadata": {}
        }
      ]
    },
    {
      "cell_type": "markdown",
      "source": [
        "**Interpretation:**\n",
        "\n",
        "Sex: Nearly equal distribution between males and females.  \n",
        "Smoker: More non-smokers than smokers.  \n",
        "Region: Slight variations in the number of individuals from each region.  \n",
        "Children: Most individuals have 0 to 2 children  "
      ],
      "metadata": {
        "id": "UMMt_Bsjy-V6"
      }
    },
    {
      "cell_type": "markdown",
      "source": [
        "##**Numerical Variables:**\n",
        "We will explore the numerical variables to understand their distributions.\n",
        "\n"
      ],
      "metadata": {
        "id": "UukHo-D5H31Q"
      }
    },
    {
      "cell_type": "code",
      "source": [
        "numerical_vars = ['age', 'bmi', 'charges']\n",
        "plot_numerical_histograms(df, numerical_vars)"
      ],
      "metadata": {
        "colab": {
          "base_uri": "https://localhost:8080/",
          "height": 507
        },
        "id": "c9yPyPPBou8t",
        "outputId": "ca1ebbd9-d34e-4f08-a088-1635a31e4fa1"
      },
      "execution_count": 47,
      "outputs": [
        {
          "output_type": "display_data",
          "data": {
            "text/plain": [
              "<Figure size 1500x500 with 3 Axes>"
            ],
            "image/png": "[encoded data removed]"
          },
          "metadata": {}
        }
      ]
    },
    {
      "cell_type": "markdown",
      "source": [
        "**interpretation:**\n",
        "\n",
        "Age: Uniform distribution with a slight increase in the number of individuals around age 20.  \n",
        "BMI: Approximately normal distribution with some skewness.  \n",
        "Charges: Positively skewed distribution with a long tail towards higher charges.  \n"
      ],
      "metadata": {
        "id": "9_kcgpR1zMkW"
      }
    },
    {
      "cell_type": "markdown",
      "source": [
        "# 3. Analysis of Research Questions\n"
      ],
      "metadata": {
        "id": "yauJ5NS1zYPJ"
      }
    },
    {
      "cell_type": "markdown",
      "source": [
        "## Question 1: What is the correlation between smoking and medical costs?.\n",
        "Visualization: Boxplot of Charges by Smoking Status\n"
      ],
      "metadata": {
        "id": "QJJV3IY2zb_h"
      }
    },
    {
      "cell_type": "code",
      "source": [
        "plt.figure(figsize=(8, 6))\n",
        "sns.boxplot(x='smoker', y='charges', data=df)\n",
        "plt.title('Medical Charges by Smoking Status')\n",
        "plt.xlabel('Smoker')\n",
        "plt.ylabel('Charges')\n",
        "plt.show()\n"
      ],
      "metadata": {
        "colab": {
          "base_uri": "https://localhost:8080/",
          "height": 564
        },
        "id": "FijhWJJizghp",
        "outputId": "1fe74d18-ad00-4b93-eeeb-23e7f5172106"
      },
      "execution_count": 48,
      "outputs": [
        {
          "output_type": "display_data",
          "data": {
            "text/plain": [
              "<Figure size 800x600 with 1 Axes>"
            ],
            "image/png": "[encoded data removed]"
          },
          "metadata": {}
        }
      ]
    },
    {
      "cell_type": "markdown",
      "source": [
        "*Interpretation:*\n",
        "\n",
        "*  Smokers have significantly higher medical charges than non-smokers.\n",
        "*  The median and upper quartiles for smokers are much higher."
      ],
      "metadata": {
        "id": "XmX7DsdlzjzB"
      }
    },
    {
      "cell_type": "markdown",
      "source": [
        "Statistical Analysis\n",
        "Descriptive Statistics"
      ],
      "metadata": {
        "id": "JNZRNws9zxd2"
      }
    },
    {
      "cell_type": "code",
      "source": [
        "# Mean and median charges by smoking status\n",
        "smoker_stats = df.groupby('smoker')['charges'].agg(['mean', 'median']).reset_index()\n",
        "print(smoker_stats)\n"
      ],
      "metadata": {
        "colab": {
          "base_uri": "https://localhost:8080/"
        },
        "id": "2mTQqMEczz6c",
        "outputId": "75d25f99-fe38-4b0a-b634-cf28e0fe3e00"
      },
      "execution_count": 58,
      "outputs": [
        {
          "output_type": "stream",
          "name": "stdout",
          "text": [
            "  smoker     mean   median\n",
            "0     no  8434.27  7345.41\n",
            "1    yes 32050.23 34456.35\n"
          ]
        }
      ]
    },
    {
      "cell_type": "markdown",
      "source": [
        "###T-Test"
      ],
      "metadata": {
        "id": "oFlC16620BI7"
      }
    },
    {
      "cell_type": "code",
      "source": [
        "from scipy.stats import ttest_ind\n",
        "\n",
        "# Separate charges for smokers and non-smokers\n",
        "charges_smokers = df[df['smoker'] == 'yes']['charges']\n",
        "charges_nonsmokers = df[df['smoker'] == 'no']['charges']\n",
        "\n",
        "# Perform t-test\n",
        "t_stat, p_value = ttest_ind(charges_smokers, charges_nonsmokers, equal_var=False)\n",
        "print(f\"T-statistic: {t_stat:.4f}\")\n",
        "print(f\"P-value: {p_value:.4e}\")\n"
      ],
      "metadata": {
        "colab": {
          "base_uri": "https://localhost:8080/"
        },
        "id": "EAT8DDgxz_vw",
        "outputId": "bd37f344-4bd8-4c9b-e418-1ef0692c63c0"
      },
      "execution_count": 59,
      "outputs": [
        {
          "output_type": "stream",
          "name": "stdout",
          "text": [
            "T-statistic: 32.7519\n",
            "P-value: 5.8895e-103\n"
          ]
        }
      ]
    },
    {
      "cell_type": "markdown",
      "source": [
        "Interpretation:  \n",
        "\n",
        "*  The p-value is extremely low, indicating a statistically significant difference in charges between smokers and non-smokers.  \n",
        "*  Smoking status has a strong positive correlation with medical charges  "
      ],
      "metadata": {
        "id": "s3BNxZK50Fgi"
      }
    },
    {
      "cell_type": "markdown",
      "source": [
        "### Correlation Coefficient\n"
      ],
      "metadata": {
        "id": "fjfdjEMX0ks2"
      }
    },
    {
      "cell_type": "code",
      "source": [
        "# Encode 'smoker' as 0 and 1\n",
        "df['smoker_encoded'] = df['smoker'].map({'no': 0, 'yes': 1})\n",
        "\n",
        "# Calculate Pearson correlation coefficient\n",
        "correlation = df['smoker_encoded'].corr(df['charges'])\n",
        "print(f\"Correlation between smoking status and charges: {correlation:.4f}\")\n"
      ],
      "metadata": {
        "colab": {
          "base_uri": "https://localhost:8080/"
        },
        "id": "lL11mHaD0NP2",
        "outputId": "46dc54c8-10d4-44c7-a506-e96cf83c34a5"
      },
      "execution_count": 61,
      "outputs": [
        {
          "output_type": "stream",
          "name": "stdout",
          "text": [
            "Correlation between smoking status and charges: 0.7873\n"
          ]
        }
      ]
    },
    {
      "cell_type": "markdown",
      "source": [
        "** interpretation:**\n",
        "\n",
        "*  A correlation coefficient of 0.7873 indicates a strong positive correlation between smoking status and medical charges."
      ],
      "metadata": {
        "id": "6HEoZAU90MQw"
      }
    },
    {
      "cell_type": "markdown",
      "source": [
        "# Question 2: How do medical costs compare between males and females?"
      ],
      "metadata": {
        "id": "01DIgeiA02_n"
      }
    },
    {
      "cell_type": "markdown",
      "source": [
        "##Visualization: Boxplot of Charges by Gender\n"
      ],
      "metadata": {
        "id": "t-RtsjJT052t"
      }
    },
    {
      "cell_type": "code",
      "source": [
        "plt.figure(figsize=(8, 6))\n",
        "sns.boxplot(x='sex', y='charges', data=df)\n",
        "plt.title('Medical Charges by Gender')\n",
        "plt.xlabel('Gender')\n",
        "plt.ylabel('Charges')\n",
        "plt.show()\n"
      ],
      "metadata": {
        "colab": {
          "base_uri": "https://localhost:8080/",
          "height": 564
        },
        "id": "mtGsI9yx04xd",
        "outputId": "957031b7-a656-4171-fea7-93863b65df98"
      },
      "execution_count": 62,
      "outputs": [
        {
          "output_type": "display_data",
          "data": {
            "text/plain": [
              "<Figure size 800x600 with 1 Axes>"
            ],
            "image/png": "[encoded data removed]"
          },
          "metadata": {}
        }
      ]
    },
    {
      "cell_type": "markdown",
      "source": [
        "**Interpretation:**\n",
        "\n",
        "*  Males and females have similar distributions of charges.\n",
        "* Slightly higher median charges for males.\n",
        "\n",
        "##Statistical Analysis\n",
        "Descriptive Statistics"
      ],
      "metadata": {
        "id": "owU6hx7i0-7T"
      }
    },
    {
      "cell_type": "code",
      "source": [
        "# Mean and median charges by sex\n",
        "sex_stats = df.groupby('sex')['charges'].agg(['mean', 'median']).reset_index()\n",
        "print(sex_stats)\n"
      ],
      "metadata": {
        "colab": {
          "base_uri": "https://localhost:8080/"
        },
        "id": "tznZ-z2O1FhR",
        "outputId": "32d822e0-f47d-4631-b3e4-2059f9a26081"
      },
      "execution_count": 63,
      "outputs": [
        {
          "output_type": "stream",
          "name": "stdout",
          "text": [
            "      sex     mean  median\n",
            "0  female 12569.58 9412.96\n",
            "1    male 13956.75 9369.62\n"
          ]
        }
      ]
    },
    {
      "cell_type": "markdown",
      "source": [
        "### T-Test"
      ],
      "metadata": {
        "id": "6thrBaf61Hn-"
      }
    },
    {
      "cell_type": "code",
      "source": [
        "# Separate charges for males and females\n",
        "charges_male = df[df['sex'] == 'male']['charges']\n",
        "charges_female = df[df['sex'] == 'female']['charges']\n",
        "\n",
        "# Perform t-test\n",
        "t_stat, p_value = ttest_ind(charges_male, charges_female, equal_var=False)\n",
        "print(f\"T-statistic: {t_stat:.4f}\")\n",
        "print(f\"P-value: {p_value:.4f}\")\n"
      ],
      "metadata": {
        "colab": {
          "base_uri": "https://localhost:8080/"
        },
        "id": "75HswYwG1JKR",
        "outputId": "f182e0d4-dff3-47af-9a5f-3522159e265e"
      },
      "execution_count": 64,
      "outputs": [
        {
          "output_type": "stream",
          "name": "stdout",
          "text": [
            "T-statistic: 2.1009\n",
            "P-value: 0.0358\n"
          ]
        }
      ]
    },
    {
      "cell_type": "markdown",
      "source": [
        "**Interpretation:**\n",
        "\n",
        "* The p-value is 0.0359, indicating a statistically significant difference in charges between males and females at the 5% significance level.\n",
        "* However, the difference is not as pronounced as with smoking status.\n",
        "###Correlation Coefficient"
      ],
      "metadata": {
        "id": "FHulwhyK1LmE"
      }
    },
    {
      "cell_type": "code",
      "source": [
        "# Encode 'sex' as 0 and 1\n",
        "df['sex_encoded'] = df['sex'].map({'male': 0, 'female': 1})\n",
        "\n",
        "# Calculate Pearson correlation coefficient\n",
        "correlation = df['sex_encoded'].corr(df['charges'])\n",
        "print(f\"Correlation between gender and charges: {correlation:.4f}\")\n"
      ],
      "metadata": {
        "colab": {
          "base_uri": "https://localhost:8080/"
        },
        "id": "UOMrdvz11QJm",
        "outputId": "732340b9-4df6-40d9-f8ae-f5e6a7b668cc"
      },
      "execution_count": 65,
      "outputs": [
        {
          "output_type": "stream",
          "name": "stdout",
          "text": [
            "Correlation between gender and charges: -0.0573\n"
          ]
        }
      ]
    },
    {
      "cell_type": "markdown",
      "source": [
        "**Interpretation:**\n",
        "\n",
        "* A correlation coefficient of -0.0573 indicates a very weak negative correlation between gender (female) and medical charges.\n",
        "* Gender alone does not have a strong impact on medical charges.\n"
      ],
      "metadata": {
        "id": "m6ZhnDAY1WO2"
      }
    },
    {
      "cell_type": "markdown",
      "source": [
        "# Question 3: Based on age and gender, what combination of BMI, number of children, and smoking status results in the lowest medical costs?\n",
        "Approach\n",
        "We will analyze combinations of BMI, number of children, and smoking status across different age groups and genders to identify which combinations result in the lowest medical costs.\n",
        "\n",
        "## Data Preparation\n",
        "### Create Age Groups"
      ],
      "metadata": {
        "id": "KSP-qpx21apm"
      }
    },
    {
      "cell_type": "code",
      "source": [
        "# Create age bins\n",
        "df['age_group'] = pd.cut(df['age'], bins=[17, 30, 45, 60, 65], labels=['18-30', '31-45', '46-60', '61-64'])\n",
        "\n",
        "# Define BMI categories\n",
        "df['bmi_category'] = pd.cut(df['bmi'], bins=[0, 18.5, 25, 30, np.inf],\n",
        "                            labels=['Underweight', 'Normal', 'Overweight', 'Obese'])\n",
        "\n",
        "\n",
        "# Group by relevant variables and calculate mean charges\n",
        "grouped = df.groupby(['age_group', 'sex', 'bmi_category', 'children', 'smoker'])['charges'].mean().reset_index()\n",
        "\n",
        "# Sort to find combinations with the lowest charges\n",
        "lowest_charges = grouped.sort_values('charges').head(10)\n",
        "print(lowest_charges)\n"
      ],
      "metadata": {
        "colab": {
          "base_uri": "https://localhost:8080/"
        },
        "id": "01rYDHVi1V2S",
        "outputId": "dbb84a73-9a62-4e28-da4f-0b6aed005385"
      },
      "execution_count": 67,
      "outputs": [
        {
          "output_type": "stream",
          "name": "stdout",
          "text": [
            "   age_group     sex bmi_category  children smoker  charges\n",
            "48     18-30    male  Underweight         0     no  1999.03\n",
            "72     18-30    male   Overweight         0     no  2105.25\n",
            "62     18-30    male       Normal         1     no  2246.74\n",
            "0      18-30  female  Underweight         0     no  2730.21\n",
            "50     18-30    male  Underweight         1     no  2775.19\n",
            "60     18-30    male       Normal         0     no  2818.82\n",
            "2      18-30  female  Underweight         1     no  2876.36\n",
            "84     18-30    male        Obese         0     no  3221.63\n",
            "26     18-30  female   Overweight         1     no  3485.72\n",
            "36     18-30  female        Obese         0     no  3560.60\n"
          ]
        },
        {
          "output_type": "stream",
          "name": "stderr",
          "text": [
            "<ipython-input-67-b3a97fc5a6c4>:10: FutureWarning: The default of observed=False is deprecated and will be changed to True in a future version of pandas. Pass observed=False to retain current behavior or observed=True to adopt the future default and silence this warning.\n",
            "  grouped = df.groupby(['age_group', 'sex', 'bmi_category', 'children', 'smoker'])['charges'].mean().reset_index()\n"
          ]
        }
      ]
    },
    {
      "cell_type": "markdown",
      "source": [
        "**interpretation:**\n",
        "\n",
        "The lowest charges are associated with:\n",
        "\n",
        "Age Group: 18-30  \n",
        "Sex: Both males and females  \n",
        "BMI Category: Underweight and Normal  \n",
        "Children: 0 or 1  \n",
        "Smoker: No  \n",
        "Conclusion: Young, non-smoking individuals with lower BMI and fewer children   tend to have the lowest medical costs.  \n",
        "\n",
        "**Visualization**  \n",
        "Heatmap of Average Charges by BMI Category and Smoking Status"
      ],
      "metadata": {
        "id": "TWUDWLFu1qJJ"
      }
    },
    {
      "cell_type": "code",
      "source": [
        "# Pivot table\n",
        "pivot_table = df.pivot_table(values='charges', index='bmi_category', columns='smoker', aggfunc='mean')\n",
        "\n",
        "# Plot heatmap\n",
        "plt.figure(figsize=(8, 6))\n",
        "sns.heatmap(pivot_table, annot=True, fmt=\".2f\", cmap='YlGnBu')\n",
        "plt.title('Average Charges by BMI Category and Smoking Status')\n",
        "plt.ylabel('BMI Category')\n",
        "plt.xlabel('Smoker')\n",
        "plt.show()\n"
      ],
      "metadata": {
        "colab": {
          "base_uri": "https://localhost:8080/",
          "height": 599
        },
        "id": "YPa_wKAx1v6d",
        "outputId": "10ec2273-f9ca-4be9-ef27-79eea2b6bf74"
      },
      "execution_count": 78,
      "outputs": [
        {
          "output_type": "stream",
          "name": "stderr",
          "text": [
            "<ipython-input-78-cd2a7514919e>:2: FutureWarning: The default value of observed=False is deprecated and will change to observed=True in a future version of pandas. Specify observed=False to silence this warning and retain the current behavior\n",
            "  pivot_table = df.pivot_table(values='charges', index='bmi_category', columns='smoker', aggfunc='mean')\n"
          ]
        },
        {
          "output_type": "display_data",
          "data": {
            "text/plain": [
              "<Figure size 800x600 with 2 Axes>"
            ],
            "image/png": "[encoded data removed]"
          },
          "metadata": {}
        }
      ]
    },
    {
      "cell_type": "markdown",
      "source": [
        "**Interpretation:**\n",
        "\n",
        "* Charges are significantly higher for smokers across all BMI categories.\n",
        "* Within non-smokers, charges increase with higher BMI categories but not drastically."
      ],
      "metadata": {
        "id": "Ozd-Hw-o11Fs"
      }
    },
    {
      "cell_type": "markdown",
      "source": [
        "#4. Data Preprocessing for Modeling with pipelines\n",
        "To build predictive models, we need to preprocess the data appropriately.\n",
        "\n",
        "**Encoding Categorical Variables**\n",
        "We will use OneHotEncoder for all categorical variables to avoid introducing ordinal relationships."
      ],
      "metadata": {
        "id": "UVoqPevf2CF1"
      }
    },
    {
      "cell_type": "code",
      "source": [
        "from sklearn.preprocessing import OneHotEncoder\n",
        "from sklearn.compose import ColumnTransformer\n",
        "from sklearn.pipeline import Pipeline\n",
        "from sklearn.preprocessing import StandardScaler\n",
        "\n",
        "# Define features and target\n",
        "X = df.drop(['charges', 'smoker_encoded', 'sex_encoded'], axis=1)\n",
        "y = df['charges']\n",
        "\n",
        "# List of numerical and categorical features\n",
        "numeric_features = ['age', 'bmi', 'children']\n",
        "categorical_features = ['sex', 'smoker', 'region']\n",
        "\n",
        "# Preprocessing pipeline\n",
        "numeric_transformer = Pipeline(steps=[\n",
        "    ('scaler', StandardScaler())\n",
        "])\n",
        "\n",
        "categorical_transformer = OneHotEncoder(drop='first')  # Drop first to avoid multicollinearity\n",
        "\n",
        "preprocessor = ColumnTransformer(\n",
        "    transformers=[\n",
        "        ('num', numeric_transformer, numeric_features),\n",
        "        ('cat', categorical_transformer, categorical_features)\n",
        "    ])\n"
      ],
      "metadata": {
        "id": "LA5A-8UA2HMU"
      },
      "execution_count": 79,
      "outputs": []
    },
    {
      "cell_type": "markdown",
      "source": [
        "split the data"
      ],
      "metadata": {
        "id": "W0xX9Fpr2JGB"
      }
    },
    {
      "cell_type": "markdown",
      "source": [],
      "metadata": {
        "id": "UDJGKGRV2J3x"
      }
    },
    {
      "cell_type": "code",
      "source": [
        "from sklearn.model_selection import train_test_split\n",
        "from sklearn.linear_model import LinearRegression\n",
        "from sklearn.ensemble import RandomForestRegressor, GradientBoostingRegressor\n",
        "\n",
        "# Split into training and testing sets\n",
        "X_train, X_test, y_train, y_test = train_test_split(X, y, test_size=0.2, random_state=42)\n"
      ],
      "metadata": {
        "id": "BJJeJVAf2Hzh"
      },
      "execution_count": 80,
      "outputs": []
    },
    {
      "cell_type": "code",
      "source": [],
      "metadata": {
        "id": "C9AXOBXb2KYZ"
      },
      "execution_count": null,
      "outputs": []
    },
    {
      "cell_type": "markdown",
      "source": [
        "#5. Modeling\n",
        "We will try different regression models to predict medical charges.\n",
        "\n",
        "##Linear Regression pipeline"
      ],
      "metadata": {
        "id": "QoGThsYs2L2v"
      }
    },
    {
      "cell_type": "code",
      "source": [
        "# Linear Regression pipeline\n",
        "lr_pipeline = Pipeline(steps=[\n",
        "    ('preprocessor', preprocessor),\n",
        "    ('model', LinearRegression())\n",
        "])\n",
        "\n",
        "# Fit the model\n",
        "lr_pipeline.fit(X_train, y_train)\n",
        "\n",
        "# Predict\n",
        "y_pred_lr = lr_pipeline.predict(X_test)\n",
        "\n",
        "# Evaluation metrics\n",
        "from sklearn.metrics import mean_squared_error, mean_absolute_error, r2_score\n",
        "\n",
        "mse_lr = mean_squared_error(y_test, y_pred_lr)\n",
        "mae_lr = mean_absolute_error(y_test, y_pred_lr)\n",
        "r2_lr = r2_score(y_test, y_pred_lr)\n",
        "\n",
        "print(f\"Linear Regression - MSE: {mse_lr:.2f}, MAE: {mae_lr:.2f}, R^2: {r2_lr:.4f}\")\n"
      ],
      "metadata": {
        "colab": {
          "base_uri": "https://localhost:8080/"
        },
        "id": "2UqUUDQY2P6r",
        "outputId": "fc57d8cc-7c80-44ee-b7ca-d848d20c09f6"
      },
      "execution_count": 81,
      "outputs": [
        {
          "output_type": "stream",
          "name": "stdout",
          "text": [
            "Linear Regression - MSE: 33596915.85, MAE: 4181.19, R^2: 0.7836\n"
          ]
        }
      ]
    },
    {
      "cell_type": "markdown",
      "source": [
        "## Random Forest Regressor pipeline\n"
      ],
      "metadata": {
        "id": "u-zb3BTh2XPA"
      }
    },
    {
      "cell_type": "code",
      "source": [
        "# Random Forest pipeline\n",
        "rf_pipeline = Pipeline(steps=[\n",
        "    ('preprocessor', preprocessor),\n",
        "    ('model', RandomForestRegressor(n_estimators=100, random_state=42))\n",
        "])\n",
        "\n",
        "# Fit the model\n",
        "rf_pipeline.fit(X_train, y_train)\n",
        "\n",
        "# Predict\n",
        "y_pred_rf = rf_pipeline.predict(X_test)\n",
        "\n",
        "# Evaluation metrics\n",
        "mse_rf = mean_squared_error(y_test, y_pred_rf)\n",
        "mae_rf = mean_absolute_error(y_test, y_pred_rf)\n",
        "r2_rf = r2_score(y_test, y_pred_rf)\n",
        "\n",
        "print(f\"Random Forest - MSE: {mse_rf:.2f}, MAE: {mae_rf:.2f}, R^2: {r2_rf:.4f}\")\n"
      ],
      "metadata": {
        "colab": {
          "base_uri": "https://localhost:8080/"
        },
        "id": "iH6OXpIn2QIB",
        "outputId": "53ce812b-5eda-44f5-c46b-234fe7450fa4"
      },
      "execution_count": 82,
      "outputs": [
        {
          "output_type": "stream",
          "name": "stdout",
          "text": [
            "Random Forest - MSE: 20864569.51, MAE: 2543.98, R^2: 0.8656\n"
          ]
        }
      ]
    },
    {
      "cell_type": "markdown",
      "source": [
        "## Gradient Boosting Pipeline\n"
      ],
      "metadata": {
        "id": "NlDerDkO2a9j"
      }
    },
    {
      "cell_type": "code",
      "source": [
        "# Gradient Boosting pipeline\n",
        "gb_pipeline = Pipeline(steps=[\n",
        "    ('preprocessor', preprocessor),\n",
        "    ('model', GradientBoostingRegressor(n_estimators=100, random_state=42))\n",
        "])\n",
        "\n",
        "# Fit the model\n",
        "gb_pipeline.fit(X_train, y_train)\n",
        "\n",
        "# Predict\n",
        "y_pred_gb = gb_pipeline.predict(X_test)\n",
        "\n",
        "# Evaluation metrics\n",
        "mse_gb = mean_squared_error(y_test, y_pred_gb)\n",
        "mae_gb = mean_absolute_error(y_test, y_pred_gb)\n",
        "r2_gb = r2_score(y_test, y_pred_gb)\n",
        "\n",
        "print(f\"Gradient Boosting - MSE: {mse_gb:.2f}, MAE: {mae_gb:.2f}, R^2: {r2_gb:.4f}\")\n"
      ],
      "metadata": {
        "colab": {
          "base_uri": "https://localhost:8080/"
        },
        "id": "-bGyF5T92cZi",
        "outputId": "bdd34ffc-1b9e-447a-8152-2d508eb9dc66"
      },
      "execution_count": 83,
      "outputs": [
        {
          "output_type": "stream",
          "name": "stdout",
          "text": [
            "Gradient Boosting - MSE: 18745176.48, MAE: 2443.48, R^2: 0.8793\n"
          ]
        }
      ]
    },
    {
      "cell_type": "markdown",
      "source": [
        "Model Comparison\n",
        "\n",
        "Linear Regression - MSE: 33596915.85, MAE: 4181.19, R^2: 0.7836  \n",
        "Random Forest - MSE: 20866223.20, MAE: 2545.21, R^2: 0.8656  \n",
        "Gradient Boosting - MSE: 18811586.97, MAE: 2448.21, R^2: 0.8788  \n",
        "\n",
        "**Interpretation:**\n",
        "\n",
        "Gradient Boosting Regressor performs the best among the three models, with the lowest MSE and highest R².  \n",
        "This suggests that Gradient Boosting captures the non-linear relationships in the data better than Linear Regression.  "
      ],
      "metadata": {
        "id": "z8pN5Ruk2pI0"
      }
    },
    {
      "cell_type": "markdown",
      "source": [
        "#6. Feature Importance\n"
      ],
      "metadata": {
        "id": "E4luGQQw2xzh"
      }
    },
    {
      "cell_type": "code",
      "source": [
        "# Get feature names after preprocessing\n",
        "onehot_feature_names = preprocessor.named_transformers_['cat'].get_feature_names_out(categorical_features)\n",
        "feature_names = numeric_features + list(onehot_feature_names)\n",
        "\n",
        "# Get feature importances\n",
        "importances = gb_pipeline.named_steps['model'].feature_importances_\n",
        "\n",
        "# Create a DataFrame for visualization\n",
        "feature_importance_df = pd.DataFrame({\n",
        "    'Feature': feature_names,\n",
        "    'Importance': importances\n",
        "}).sort_values(by='Importance', ascending=False)\n",
        "\n",
        "# Plot feature importances\n",
        "plt.figure(figsize=(10, 6))\n",
        "sns.barplot(data=feature_importance_df, x='Importance', y='Feature')\n",
        "plt.title('Feature Importances from Gradient Boosting Model')\n",
        "plt.show()\n"
      ],
      "metadata": {
        "colab": {
          "base_uri": "https://localhost:8080/",
          "height": 564
        },
        "id": "v-IFGZmp2zVy",
        "outputId": "3c973f15-2f95-4e1a-bd77-e881a83d2a6b"
      },
      "execution_count": 84,
      "outputs": [
        {
          "output_type": "display_data",
          "data": {
            "text/plain": [
              "<Figure size 1000x600 with 1 Axes>"
            ],
            "image/png": "[encoded data removed]"
          },
          "metadata": {}
        }
      ]
    },
    {
      "cell_type": "markdown",
      "source": [
        "Interpretation:\n",
        "\n",
        "Smoking status is the most important feature influencing medical charges.\n",
        "Age and BMI are also significant predictors.\n",
        "Region and sex have less influence.\n"
      ],
      "metadata": {
        "id": "ENcMYNgR22zY"
      }
    }
  ]
}