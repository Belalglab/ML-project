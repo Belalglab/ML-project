{
  "cells": [
    {
      "cell_type": "markdown",
      "id": "b9c4b840-0b7d-4db8-a8b2-967164fc779d",
      "metadata": {
        "id": "b9c4b840-0b7d-4db8-a8b2-967164fc779d"
      },
      "source": [
        "# CS-6600 Assignment 7 - Variable Selection\n",
        "\n",
        "**Your Name**:\n",
        "\n",
        "*Weber State University*"
      ]
    },
    {
      "cell_type": "markdown",
      "id": "0392b820-1620-4fb7-a184-f6c134a8e712",
      "metadata": {
        "id": "0392b820-1620-4fb7-a184-f6c134a8e712"
      },
      "source": [
        "For this assignment we're going to build and attempt to optimize regression models using some of the techniques we're learned so far in class."
      ]
    },
    {
      "cell_type": "markdown",
      "id": "914731b0-58d5-42f9-8b7d-e9943228d287",
      "metadata": {
        "id": "914731b0-58d5-42f9-8b7d-e9943228d287"
      },
      "source": [
        "First, let's import our favorite libraries:"
      ]
    },
    {
      "cell_type": "code",
      "execution_count": 1,
      "id": "57cf1857-c29f-425e-9d28-3a080ef3034f",
      "metadata": {
        "id": "57cf1857-c29f-425e-9d28-3a080ef3034f"
      },
      "outputs": [],
      "source": [
        "import numpy as np\n",
        "import pandas as pd\n",
        "import matplotlib.pylab as plt"
      ]
    },
    {
      "cell_type": "markdown",
      "id": "b5815276-1b4e-4050-8c94-748cdccf21a7",
      "metadata": {
        "id": "b5815276-1b4e-4050-8c94-748cdccf21a7"
      },
      "source": [
        "There are also some libraries and functions we'll need for creating and testing our models:"
      ]
    },
    {
      "cell_type": "code",
      "execution_count": 2,
      "id": "8b8a6f64-3798-4f47-923d-03cdad7ec79e",
      "metadata": {
        "id": "8b8a6f64-3798-4f47-923d-03cdad7ec79e"
      },
      "outputs": [],
      "source": [
        "from sklearn import linear_model\n",
        "from sklearn.model_selection import train_test_split\n",
        "from sklearn.linear_model import Ridge, RidgeCV, Lasso, LassoCV\n",
        "from sklearn.metrics import mean_squared_error"
      ]
    },
    {
      "cell_type": "markdown",
      "id": "c3e68666-6371-4b7f-8d33-64e3e54c59bc",
      "metadata": {
        "id": "c3e68666-6371-4b7f-8d33-64e3e54c59bc"
      },
      "source": [
        "The dataset we'll use for this is the \"Hitters\" dataset (\"Hitters.csv\"), which is a dataset of Major League Baseball player statistics from 1986-1987. More info about the dataset can be found [here](https://www.kaggle.com/datasets/floser/hitters)."
      ]
    },
    {
      "cell_type": "code",
      "execution_count": 3,
      "id": "bf81aa21-09f8-4200-a68e-830e7c33bff7",
      "metadata": {
        "id": "bf81aa21-09f8-4200-a68e-830e7c33bff7",
        "colab": {
          "base_uri": "https://localhost:8080/",
          "height": 360
        },
        "outputId": "ed8b3a03-9d16-4b5d-db9d-f405c26f8e67"
      },
      "outputs": [
        {
          "output_type": "execute_result",
          "data": {
            "text/plain": [
              "          Unnamed: 0  AtBat  Hits  HmRun  Runs  RBI  Walks  Years  CAtBat  \\\n",
              "0     -Andy Allanson    293    66      1    30   29     14      1     293   \n",
              "1        -Alan Ashby    315    81      7    24   38     39     14    3449   \n",
              "2       -Alvin Davis    479   130     18    66   72     76      3    1624   \n",
              "3      -Andre Dawson    496   141     20    65   78     37     11    5628   \n",
              "4  -Andres Galarraga    321    87     10    39   42     30      2     396   \n",
              "\n",
              "   CHits  ...  CRuns  CRBI  CWalks  League Division PutOuts  Assists  Errors  \\\n",
              "0     66  ...     30    29      14       A        E     446       33      20   \n",
              "1    835  ...    321   414     375       N        W     632       43      10   \n",
              "2    457  ...    224   266     263       A        W     880       82      14   \n",
              "3   1575  ...    828   838     354       N        E     200       11       3   \n",
              "4    101  ...     48    46      33       N        E     805       40       4   \n",
              "\n",
              "   Salary  NewLeague  \n",
              "0     NaN          A  \n",
              "1   475.0          N  \n",
              "2   480.0          A  \n",
              "3   500.0          N  \n",
              "4    91.5          N  \n",
              "\n",
              "[5 rows x 21 columns]"
            ],
            "text/html": [
              "\n",
              "  <div id=\"df-0a2967ae-7b53-46fb-b4df-8b9d1bbeedcc\" class=\"colab-df-container\">\n",
              "    <div>\n",
              "<style scoped>\n",
              "    .dataframe tbody tr th:only-of-type {\n",
              "        vertical-align: middle;\n",
              "    }\n",
              "\n",
              "    .dataframe tbody tr th {\n",
              "        vertical-align: top;\n",
              "    }\n",
              "\n",
              "    .dataframe thead th {\n",
              "        text-align: right;\n",
              "    }\n",
              "</style>\n",
              "<table border=\"1\" class=\"dataframe\">\n",
              "  <thead>\n",
              "    <tr style=\"text-align: right;\">\n",
              "      <th></th>\n",
              "      <th>Unnamed: 0</th>\n",
              "      <th>AtBat</th>\n",
              "      <th>Hits</th>\n",
              "      <th>HmRun</th>\n",
              "      <th>Runs</th>\n",
              "      <th>RBI</th>\n",
              "      <th>Walks</th>\n",
              "      <th>Years</th>\n",
              "      <th>CAtBat</th>\n",
              "      <th>CHits</th>\n",
              "      <th>...</th>\n",
              "      <th>CRuns</th>\n",
              "      <th>CRBI</th>\n",
              "      <th>CWalks</th>\n",
              "      <th>League</th>\n",
              "      <th>Division</th>\n",
              "      <th>PutOuts</th>\n",
              "      <th>Assists</th>\n",
              "      <th>Errors</th>\n",
              "      <th>Salary</th>\n",
              "      <th>NewLeague</th>\n",
              "    </tr>\n",
              "  </thead>\n",
              "  <tbody>\n",
              "    <tr>\n",
              "      <th>0</th>\n",
              "      <td>-Andy Allanson</td>\n",
              "      <td>293</td>\n",
              "      <td>66</td>\n",
              "      <td>1</td>\n",
              "      <td>30</td>\n",
              "      <td>29</td>\n",
              "      <td>14</td>\n",
              "      <td>1</td>\n",
              "      <td>293</td>\n",
              "      <td>66</td>\n",
              "      <td>...</td>\n",
              "      <td>30</td>\n",
              "      <td>29</td>\n",
              "      <td>14</td>\n",
              "      <td>A</td>\n",
              "      <td>E</td>\n",
              "      <td>446</td>\n",
              "      <td>33</td>\n",
              "      <td>20</td>\n",
              "      <td>NaN</td>\n",
              "      <td>A</td>\n",
              "    </tr>\n",
              "    <tr>\n",
              "      <th>1</th>\n",
              "      <td>-Alan Ashby</td>\n",
              "      <td>315</td>\n",
              "      <td>81</td>\n",
              "      <td>7</td>\n",
              "      <td>24</td>\n",
              "      <td>38</td>\n",
              "      <td>39</td>\n",
              "      <td>14</td>\n",
              "      <td>3449</td>\n",
              "      <td>835</td>\n",
              "      <td>...</td>\n",
              "      <td>321</td>\n",
              "      <td>414</td>\n",
              "      <td>375</td>\n",
              "      <td>N</td>\n",
              "      <td>W</td>\n",
              "      <td>632</td>\n",
              "      <td>43</td>\n",
              "      <td>10</td>\n",
              "      <td>475.0</td>\n",
              "      <td>N</td>\n",
              "    </tr>\n",
              "    <tr>\n",
              "      <th>2</th>\n",
              "      <td>-Alvin Davis</td>\n",
              "      <td>479</td>\n",
              "      <td>130</td>\n",
              "      <td>18</td>\n",
              "      <td>66</td>\n",
              "      <td>72</td>\n",
              "      <td>76</td>\n",
              "      <td>3</td>\n",
              "      <td>1624</td>\n",
              "      <td>457</td>\n",
              "      <td>...</td>\n",
              "      <td>224</td>\n",
              "      <td>266</td>\n",
              "      <td>263</td>\n",
              "      <td>A</td>\n",
              "      <td>W</td>\n",
              "      <td>880</td>\n",
              "      <td>82</td>\n",
              "      <td>14</td>\n",
              "      <td>480.0</td>\n",
              "      <td>A</td>\n",
              "    </tr>\n",
              "    <tr>\n",
              "      <th>3</th>\n",
              "      <td>-Andre Dawson</td>\n",
              "      <td>496</td>\n",
              "      <td>141</td>\n",
              "      <td>20</td>\n",
              "      <td>65</td>\n",
              "      <td>78</td>\n",
              "      <td>37</td>\n",
              "      <td>11</td>\n",
              "      <td>5628</td>\n",
              "      <td>1575</td>\n",
              "      <td>...</td>\n",
              "      <td>828</td>\n",
              "      <td>838</td>\n",
              "      <td>354</td>\n",
              "      <td>N</td>\n",
              "      <td>E</td>\n",
              "      <td>200</td>\n",
              "      <td>11</td>\n",
              "      <td>3</td>\n",
              "      <td>500.0</td>\n",
              "      <td>N</td>\n",
              "    </tr>\n",
              "    <tr>\n",
              "      <th>4</th>\n",
              "      <td>-Andres Galarraga</td>\n",
              "      <td>321</td>\n",
              "      <td>87</td>\n",
              "      <td>10</td>\n",
              "      <td>39</td>\n",
              "      <td>42</td>\n",
              "      <td>30</td>\n",
              "      <td>2</td>\n",
              "      <td>396</td>\n",
              "      <td>101</td>\n",
              "      <td>...</td>\n",
              "      <td>48</td>\n",
              "      <td>46</td>\n",
              "      <td>33</td>\n",
              "      <td>N</td>\n",
              "      <td>E</td>\n",
              "      <td>805</td>\n",
              "      <td>40</td>\n",
              "      <td>4</td>\n",
              "      <td>91.5</td>\n",
              "      <td>N</td>\n",
              "    </tr>\n",
              "  </tbody>\n",
              "</table>\n",
              "<p>5 rows × 21 columns</p>\n",
              "</div>\n",
              "    <div class=\"colab-df-buttons\">\n",
              "\n",
              "  <div class=\"colab-df-container\">\n",
              "    <button class=\"colab-df-convert\" onclick=\"convertToInteractive('df-0a2967ae-7b53-46fb-b4df-8b9d1bbeedcc')\"\n",
              "            title=\"Convert this dataframe to an interactive table.\"\n",
              "            style=\"display:none;\">\n",
              "\n",
              "  <svg xmlns=\"http://www.w3.org/2000/svg\" height=\"24px\" viewBox=\"0 -960 960 960\">\n",
              "    <path d=\"M120-120v-720h720v720H120Zm60-500h600v-160H180v160Zm220 220h160v-160H400v160Zm0 220h160v-160H400v160ZM180-400h160v-160H180v160Zm440 0h160v-160H620v160ZM180-180h160v-160H180v160Zm440 0h160v-160H620v160Z\"/>\n",
              "  </svg>\n",
              "    </button>\n",
              "\n",
              "  <style>\n",
              "    .colab-df-container {\n",
              "      display:flex;\n",
              "      gap: 12px;\n",
              "    }\n",
              "\n",
              "    .colab-df-convert {\n",
              "      background-color: #E8F0FE;\n",
              "      border: none;\n",
              "      border-radius: 50%;\n",
              "      cursor: pointer;\n",
              "      display: none;\n",
              "      fill: #1967D2;\n",
              "      height: 32px;\n",
              "      padding: 0 0 0 0;\n",
              "      width: 32px;\n",
              "    }\n",
              "\n",
              "    .colab-df-convert:hover {\n",
              "      background-color: #E2EBFA;\n",
              "      box-shadow: 0px 1px 2px rgba(60, 64, 67, 0.3), 0px 1px 3px 1px rgba(60, 64, 67, 0.15);\n",
              "      fill: #174EA6;\n",
              "    }\n",
              "\n",
              "    .colab-df-buttons div {\n",
              "      margin-bottom: 4px;\n",
              "    }\n",
              "\n",
              "    [theme=dark] .colab-df-convert {\n",
              "      background-color: #3B4455;\n",
              "      fill: #D2E3FC;\n",
              "    }\n",
              "\n",
              "    [theme=dark] .colab-df-convert:hover {\n",
              "      background-color: #434B5C;\n",
              "      box-shadow: 0px 1px 3px 1px rgba(0, 0, 0, 0.15);\n",
              "      filter: drop-shadow(0px 1px 2px rgba(0, 0, 0, 0.3));\n",
              "      fill: #FFFFFF;\n",
              "    }\n",
              "  </style>\n",
              "\n",
              "    <script>\n",
              "      const buttonEl =\n",
              "        document.querySelector('#df-0a2967ae-7b53-46fb-b4df-8b9d1bbeedcc button.colab-df-convert');\n",
              "      buttonEl.style.display =\n",
              "        google.colab.kernel.accessAllowed ? 'block' : 'none';\n",
              "\n",
              "      async function convertToInteractive(key) {\n",
              "        const element = document.querySelector('#df-0a2967ae-7b53-46fb-b4df-8b9d1bbeedcc');\n",
              "        const dataTable =\n",
              "          await google.colab.kernel.invokeFunction('convertToInteractive',\n",
              "                                                    [key], {});\n",
              "        if (!dataTable) return;\n",
              "\n",
              "        const docLinkHtml = 'Like what you see? Visit the ' +\n",
              "          '<a target=\"_blank\" href=https://colab.research.google.com/notebooks/data_table.ipynb>data table notebook</a>'\n",
              "          + ' to learn more about interactive tables.';\n",
              "        element.innerHTML = '';\n",
              "        dataTable['output_type'] = 'display_data';\n",
              "        await google.colab.output.renderOutput(dataTable, element);\n",
              "        const docLink = document.createElement('div');\n",
              "        docLink.innerHTML = docLinkHtml;\n",
              "        element.appendChild(docLink);\n",
              "      }\n",
              "    </script>\n",
              "  </div>\n",
              "\n",
              "\n",
              "<div id=\"df-dc0c9d0b-7e02-41d4-ac9e-d48614c6fdf6\">\n",
              "  <button class=\"colab-df-quickchart\" onclick=\"quickchart('df-dc0c9d0b-7e02-41d4-ac9e-d48614c6fdf6')\"\n",
              "            title=\"Suggest charts\"\n",
              "            style=\"display:none;\">\n",
              "\n",
              "<svg xmlns=\"http://www.w3.org/2000/svg\" height=\"24px\"viewBox=\"0 0 24 24\"\n",
              "     width=\"24px\">\n",
              "    <g>\n",
              "        <path d=\"M19 3H5c-1.1 0-2 .9-2 2v14c0 1.1.9 2 2 2h14c1.1 0 2-.9 2-2V5c0-1.1-.9-2-2-2zM9 17H7v-7h2v7zm4 0h-2V7h2v10zm4 0h-2v-4h2v4z\"/>\n",
              "    </g>\n",
              "</svg>\n",
              "  </button>\n",
              "\n",
              "<style>\n",
              "  .colab-df-quickchart {\n",
              "      --bg-color: #E8F0FE;\n",
              "      --fill-color: #1967D2;\n",
              "      --hover-bg-color: #E2EBFA;\n",
              "      --hover-fill-color: #174EA6;\n",
              "      --disabled-fill-color: #AAA;\n",
              "      --disabled-bg-color: #DDD;\n",
              "  }\n",
              "\n",
              "  [theme=dark] .colab-df-quickchart {\n",
              "      --bg-color: #3B4455;\n",
              "      --fill-color: #D2E3FC;\n",
              "      --hover-bg-color: #434B5C;\n",
              "      --hover-fill-color: #FFFFFF;\n",
              "      --disabled-bg-color: #3B4455;\n",
              "      --disabled-fill-color: #666;\n",
              "  }\n",
              "\n",
              "  .colab-df-quickchart {\n",
              "    background-color: var(--bg-color);\n",
              "    border: none;\n",
              "    border-radius: 50%;\n",
              "    cursor: pointer;\n",
              "    display: none;\n",
              "    fill: var(--fill-color);\n",
              "    height: 32px;\n",
              "    padding: 0;\n",
              "    width: 32px;\n",
              "  }\n",
              "\n",
              "  .colab-df-quickchart:hover {\n",
              "    background-color: var(--hover-bg-color);\n",
              "    box-shadow: 0 1px 2px rgba(60, 64, 67, 0.3), 0 1px 3px 1px rgba(60, 64, 67, 0.15);\n",
              "    fill: var(--button-hover-fill-color);\n",
              "  }\n",
              "\n",
              "  .colab-df-quickchart-complete:disabled,\n",
              "  .colab-df-quickchart-complete:disabled:hover {\n",
              "    background-color: var(--disabled-bg-color);\n",
              "    fill: var(--disabled-fill-color);\n",
              "    box-shadow: none;\n",
              "  }\n",
              "\n",
              "  .colab-df-spinner {\n",
              "    border: 2px solid var(--fill-color);\n",
              "    border-color: transparent;\n",
              "    border-bottom-color: var(--fill-color);\n",
              "    animation:\n",
              "      spin 1s steps(1) infinite;\n",
              "  }\n",
              "\n",
              "  @keyframes spin {\n",
              "    0% {\n",
              "      border-color: transparent;\n",
              "      border-bottom-color: var(--fill-color);\n",
              "      border-left-color: var(--fill-color);\n",
              "    }\n",
              "    20% {\n",
              "      border-color: transparent;\n",
              "      border-left-color: var(--fill-color);\n",
              "      border-top-color: var(--fill-color);\n",
              "    }\n",
              "    30% {\n",
              "      border-color: transparent;\n",
              "      border-left-color: var(--fill-color);\n",
              "      border-top-color: var(--fill-color);\n",
              "      border-right-color: var(--fill-color);\n",
              "    }\n",
              "    40% {\n",
              "      border-color: transparent;\n",
              "      border-right-color: var(--fill-color);\n",
              "      border-top-color: var(--fill-color);\n",
              "    }\n",
              "    60% {\n",
              "      border-color: transparent;\n",
              "      border-right-color: var(--fill-color);\n",
              "    }\n",
              "    80% {\n",
              "      border-color: transparent;\n",
              "      border-right-color: var(--fill-color);\n",
              "      border-bottom-color: var(--fill-color);\n",
              "    }\n",
              "    90% {\n",
              "      border-color: transparent;\n",
              "      border-bottom-color: var(--fill-color);\n",
              "    }\n",
              "  }\n",
              "</style>\n",
              "\n",
              "  <script>\n",
              "    async function quickchart(key) {\n",
              "      const quickchartButtonEl =\n",
              "        document.querySelector('#' + key + ' button');\n",
              "      quickchartButtonEl.disabled = true;  // To prevent multiple clicks.\n",
              "      quickchartButtonEl.classList.add('colab-df-spinner');\n",
              "      try {\n",
              "        const charts = await google.colab.kernel.invokeFunction(\n",
              "            'suggestCharts', [key], {});\n",
              "      } catch (error) {\n",
              "        console.error('Error during call to suggestCharts:', error);\n",
              "      }\n",
              "      quickchartButtonEl.classList.remove('colab-df-spinner');\n",
              "      quickchartButtonEl.classList.add('colab-df-quickchart-complete');\n",
              "    }\n",
              "    (() => {\n",
              "      let quickchartButtonEl =\n",
              "        document.querySelector('#df-dc0c9d0b-7e02-41d4-ac9e-d48614c6fdf6 button');\n",
              "      quickchartButtonEl.style.display =\n",
              "        google.colab.kernel.accessAllowed ? 'block' : 'none';\n",
              "    })();\n",
              "  </script>\n",
              "</div>\n",
              "\n",
              "    </div>\n",
              "  </div>\n"
            ],
            "application/vnd.google.colaboratory.intrinsic+json": {
              "type": "dataframe",
              "variable_name": "df_hitters"
            }
          },
          "metadata": {},
          "execution_count": 3
        }
      ],
      "source": [
        "url = 'https://drive.google.com/uc?export=download&id=11NGvo9A2eyHQe_t3u94zN_i0_C1op75U'\n",
        "df_hitters = pd.read_csv(url)\n",
        "df_hitters.head()"
      ]
    },
    {
      "cell_type": "markdown",
      "id": "25a48276-3c52-453a-a352-2fefb5cebdb0",
      "metadata": {
        "id": "25a48276-3c52-453a-a352-2fefb5cebdb0"
      },
      "source": [
        "Let's rename that first column."
      ]
    },
    {
      "cell_type": "code",
      "execution_count": 4,
      "id": "a5856bab-4d16-48c0-9729-8b3d33349e4c",
      "metadata": {
        "id": "a5856bab-4d16-48c0-9729-8b3d33349e4c"
      },
      "outputs": [],
      "source": [
        "df_hitters.rename(columns={\"Unnamed: 0\": \"Player\"}, inplace=True) #Name the first column \"Player\""
      ]
    },
    {
      "cell_type": "markdown",
      "id": "5a8ae974-8b53-4f67-8f46-d85aa500b0de",
      "metadata": {
        "id": "5a8ae974-8b53-4f67-8f46-d85aa500b0de"
      },
      "source": [
        "Note that the Salary variable is missing for some of the players. The isnull() function can be used to identify the missing observations. It returns a vector of the same length as the input vector, with a TRUE value for any elements that are missing, and a FALSE value for non-missing elements. The sum() function can then be used to count all of the missing elements:"
      ]
    },
    {
      "cell_type": "code",
      "execution_count": 5,
      "id": "3baaab21-fad3-46ae-a099-d57716da256a",
      "metadata": {
        "id": "3baaab21-fad3-46ae-a099-d57716da256a",
        "colab": {
          "base_uri": "https://localhost:8080/"
        },
        "outputId": "2af284e3-71c4-4b8a-9c54-8dd41067732d"
      },
      "outputs": [
        {
          "output_type": "stream",
          "name": "stdout",
          "text": [
            "Number of null values: 59\n"
          ]
        }
      ],
      "source": [
        "print(\"Number of null values:\", df_hitters[\"Salary\"].isnull().sum())"
      ]
    },
    {
      "cell_type": "markdown",
      "id": "b76e4987-8c5d-4e7d-8522-298a9b921fa4",
      "metadata": {
        "id": "b76e4987-8c5d-4e7d-8522-298a9b921fa4"
      },
      "source": [
        "We see that Salary is missing for 59 players. That's not too many. Let's drop them. The dropna() function removes all of the rows that have missing values in any variable:"
      ]
    },
    {
      "cell_type": "code",
      "execution_count": 6,
      "id": "20214ecd-57c3-4e6e-a9f0-53ba4619e453",
      "metadata": {
        "id": "20214ecd-57c3-4e6e-a9f0-53ba4619e453",
        "colab": {
          "base_uri": "https://localhost:8080/"
        },
        "outputId": "bcd140d6-af52-40e3-89a2-f1314ae58997"
      },
      "outputs": [
        {
          "output_type": "stream",
          "name": "stdout",
          "text": [
            "Dimensions of original data: (322, 21)\n",
            "Dimensions of modified data: (263, 21)\n",
            "Number of null values: 0\n"
          ]
        }
      ],
      "source": [
        "# Print the dimensions of the original Hitters data (322 rows x 20 columns)\n",
        "print(\"Dimensions of original data:\", df_hitters.shape)\n",
        "\n",
        "# Drop any rows the contain missing values, along with the player names\n",
        "df_hitters_clean = df_hitters.dropna()\n",
        "\n",
        "# Print the dimensions of the modified Hitters data (263 rows x 20 columns)\n",
        "print(\"Dimensions of modified data:\", df_hitters_clean.shape)\n",
        "\n",
        "# One last check: should return 0\n",
        "print(\"Number of null values:\", df_hitters_clean[\"Salary\"].isnull().sum())"
      ]
    },
    {
      "cell_type": "markdown",
      "id": "63d2e923-3f3a-4542-8380-11cb0f41cc84",
      "metadata": {
        "id": "63d2e923-3f3a-4542-8380-11cb0f41cc84"
      },
      "source": [
        "Alright, so we've now dropped all the rows with missing data.\n",
        "\n",
        "Some of our predictors are categorical, so for this exercise we'll eliminate those. We'll also specify the variable, \"Salary\", that we're trying to predict."
      ]
    },
    {
      "cell_type": "code",
      "execution_count": 7,
      "id": "6161a472-b30a-4773-bc21-bc343e399319",
      "metadata": {
        "id": "6161a472-b30a-4773-bc21-bc343e399319",
        "colab": {
          "base_uri": "https://localhost:8080/",
          "height": 444
        },
        "outputId": "1f630eae-28ab-456b-9510-eddc8fafbfe6"
      },
      "outputs": [
        {
          "output_type": "execute_result",
          "data": {
            "text/plain": [
              "     AtBat  Hits  HmRun  Runs  RBI  Walks  Years  CAtBat  CHits  CHmRun  \\\n",
              "1      315    81      7    24   38     39     14    3449    835      69   \n",
              "2      479   130     18    66   72     76      3    1624    457      63   \n",
              "3      496   141     20    65   78     37     11    5628   1575     225   \n",
              "4      321    87     10    39   42     30      2     396    101      12   \n",
              "5      594   169      4    74   51     35     11    4408   1133      19   \n",
              "..     ...   ...    ...   ...  ...    ...    ...     ...    ...     ...   \n",
              "317    497   127      7    65   48     37      5    2703    806      32   \n",
              "318    492   136      5    76   50     94     12    5511   1511      39   \n",
              "319    475   126      3    61   43     52      6    1700    433       7   \n",
              "320    573   144      9    85   60     78      8    3198    857      97   \n",
              "321    631   170      9    77   44     31     11    4908   1457      30   \n",
              "\n",
              "     CRuns  CRBI  CWalks  PutOuts  Assists  Errors  \n",
              "1      321   414     375      632       43      10  \n",
              "2      224   266     263      880       82      14  \n",
              "3      828   838     354      200       11       3  \n",
              "4       48    46      33      805       40       4  \n",
              "5      501   336     194      282      421      25  \n",
              "..     ...   ...     ...      ...      ...     ...  \n",
              "317    379   311     138      325        9       3  \n",
              "318    897   451     875      313      381      20  \n",
              "319    217    93     146       37      113       7  \n",
              "320    470   420     332     1314      131      12  \n",
              "321    775   357     249      408        4       3  \n",
              "\n",
              "[263 rows x 16 columns]"
            ],
            "text/html": [
              "\n",
              "  <div id=\"df-e7e44db0-9960-4288-8723-3d189f8fecc4\" class=\"colab-df-container\">\n",
              "    <div>\n",
              "<style scoped>\n",
              "    .dataframe tbody tr th:only-of-type {\n",
              "        vertical-align: middle;\n",
              "    }\n",
              "\n",
              "    .dataframe tbody tr th {\n",
              "        vertical-align: top;\n",
              "    }\n",
              "\n",
              "    .dataframe thead th {\n",
              "        text-align: right;\n",
              "    }\n",
              "</style>\n",
              "<table border=\"1\" class=\"dataframe\">\n",
              "  <thead>\n",
              "    <tr style=\"text-align: right;\">\n",
              "      <th></th>\n",
              "      <th>AtBat</th>\n",
              "      <th>Hits</th>\n",
              "      <th>HmRun</th>\n",
              "      <th>Runs</th>\n",
              "      <th>RBI</th>\n",
              "      <th>Walks</th>\n",
              "      <th>Years</th>\n",
              "      <th>CAtBat</th>\n",
              "      <th>CHits</th>\n",
              "      <th>CHmRun</th>\n",
              "      <th>CRuns</th>\n",
              "      <th>CRBI</th>\n",
              "      <th>CWalks</th>\n",
              "      <th>PutOuts</th>\n",
              "      <th>Assists</th>\n",
              "      <th>Errors</th>\n",
              "    </tr>\n",
              "  </thead>\n",
              "  <tbody>\n",
              "    <tr>\n",
              "      <th>1</th>\n",
              "      <td>315</td>\n",
              "      <td>81</td>\n",
              "      <td>7</td>\n",
              "      <td>24</td>\n",
              "      <td>38</td>\n",
              "      <td>39</td>\n",
              "      <td>14</td>\n",
              "      <td>3449</td>\n",
              "      <td>835</td>\n",
              "      <td>69</td>\n",
              "      <td>321</td>\n",
              "      <td>414</td>\n",
              "      <td>375</td>\n",
              "      <td>632</td>\n",
              "      <td>43</td>\n",
              "      <td>10</td>\n",
              "    </tr>\n",
              "    <tr>\n",
              "      <th>2</th>\n",
              "      <td>479</td>\n",
              "      <td>130</td>\n",
              "      <td>18</td>\n",
              "      <td>66</td>\n",
              "      <td>72</td>\n",
              "      <td>76</td>\n",
              "      <td>3</td>\n",
              "      <td>1624</td>\n",
              "      <td>457</td>\n",
              "      <td>63</td>\n",
              "      <td>224</td>\n",
              "      <td>266</td>\n",
              "      <td>263</td>\n",
              "      <td>880</td>\n",
              "      <td>82</td>\n",
              "      <td>14</td>\n",
              "    </tr>\n",
              "    <tr>\n",
              "      <th>3</th>\n",
              "      <td>496</td>\n",
              "      <td>141</td>\n",
              "      <td>20</td>\n",
              "      <td>65</td>\n",
              "      <td>78</td>\n",
              "      <td>37</td>\n",
              "      <td>11</td>\n",
              "      <td>5628</td>\n",
              "      <td>1575</td>\n",
              "      <td>225</td>\n",
              "      <td>828</td>\n",
              "      <td>838</td>\n",
              "      <td>354</td>\n",
              "      <td>200</td>\n",
              "      <td>11</td>\n",
              "      <td>3</td>\n",
              "    </tr>\n",
              "    <tr>\n",
              "      <th>4</th>\n",
              "      <td>321</td>\n",
              "      <td>87</td>\n",
              "      <td>10</td>\n",
              "      <td>39</td>\n",
              "      <td>42</td>\n",
              "      <td>30</td>\n",
              "      <td>2</td>\n",
              "      <td>396</td>\n",
              "      <td>101</td>\n",
              "      <td>12</td>\n",
              "      <td>48</td>\n",
              "      <td>46</td>\n",
              "      <td>33</td>\n",
              "      <td>805</td>\n",
              "      <td>40</td>\n",
              "      <td>4</td>\n",
              "    </tr>\n",
              "    <tr>\n",
              "      <th>5</th>\n",
              "      <td>594</td>\n",
              "      <td>169</td>\n",
              "      <td>4</td>\n",
              "      <td>74</td>\n",
              "      <td>51</td>\n",
              "      <td>35</td>\n",
              "      <td>11</td>\n",
              "      <td>4408</td>\n",
              "      <td>1133</td>\n",
              "      <td>19</td>\n",
              "      <td>501</td>\n",
              "      <td>336</td>\n",
              "      <td>194</td>\n",
              "      <td>282</td>\n",
              "      <td>421</td>\n",
              "      <td>25</td>\n",
              "    </tr>\n",
              "    <tr>\n",
              "      <th>...</th>\n",
              "      <td>...</td>\n",
              "      <td>...</td>\n",
              "      <td>...</td>\n",
              "      <td>...</td>\n",
              "      <td>...</td>\n",
              "      <td>...</td>\n",
              "      <td>...</td>\n",
              "      <td>...</td>\n",
              "      <td>...</td>\n",
              "      <td>...</td>\n",
              "      <td>...</td>\n",
              "      <td>...</td>\n",
              "      <td>...</td>\n",
              "      <td>...</td>\n",
              "      <td>...</td>\n",
              "      <td>...</td>\n",
              "    </tr>\n",
              "    <tr>\n",
              "      <th>317</th>\n",
              "      <td>497</td>\n",
              "      <td>127</td>\n",
              "      <td>7</td>\n",
              "      <td>65</td>\n",
              "      <td>48</td>\n",
              "      <td>37</td>\n",
              "      <td>5</td>\n",
              "      <td>2703</td>\n",
              "      <td>806</td>\n",
              "      <td>32</td>\n",
              "      <td>379</td>\n",
              "      <td>311</td>\n",
              "      <td>138</td>\n",
              "      <td>325</td>\n",
              "      <td>9</td>\n",
              "      <td>3</td>\n",
              "    </tr>\n",
              "    <tr>\n",
              "      <th>318</th>\n",
              "      <td>492</td>\n",
              "      <td>136</td>\n",
              "      <td>5</td>\n",
              "      <td>76</td>\n",
              "      <td>50</td>\n",
              "      <td>94</td>\n",
              "      <td>12</td>\n",
              "      <td>5511</td>\n",
              "      <td>1511</td>\n",
              "      <td>39</td>\n",
              "      <td>897</td>\n",
              "      <td>451</td>\n",
              "      <td>875</td>\n",
              "      <td>313</td>\n",
              "      <td>381</td>\n",
              "      <td>20</td>\n",
              "    </tr>\n",
              "    <tr>\n",
              "      <th>319</th>\n",
              "      <td>475</td>\n",
              "      <td>126</td>\n",
              "      <td>3</td>\n",
              "      <td>61</td>\n",
              "      <td>43</td>\n",
              "      <td>52</td>\n",
              "      <td>6</td>\n",
              "      <td>1700</td>\n",
              "      <td>433</td>\n",
              "      <td>7</td>\n",
              "      <td>217</td>\n",
              "      <td>93</td>\n",
              "      <td>146</td>\n",
              "      <td>37</td>\n",
              "      <td>113</td>\n",
              "      <td>7</td>\n",
              "    </tr>\n",
              "    <tr>\n",
              "      <th>320</th>\n",
              "      <td>573</td>\n",
              "      <td>144</td>\n",
              "      <td>9</td>\n",
              "      <td>85</td>\n",
              "      <td>60</td>\n",
              "      <td>78</td>\n",
              "      <td>8</td>\n",
              "      <td>3198</td>\n",
              "      <td>857</td>\n",
              "      <td>97</td>\n",
              "      <td>470</td>\n",
              "      <td>420</td>\n",
              "      <td>332</td>\n",
              "      <td>1314</td>\n",
              "      <td>131</td>\n",
              "      <td>12</td>\n",
              "    </tr>\n",
              "    <tr>\n",
              "      <th>321</th>\n",
              "      <td>631</td>\n",
              "      <td>170</td>\n",
              "      <td>9</td>\n",
              "      <td>77</td>\n",
              "      <td>44</td>\n",
              "      <td>31</td>\n",
              "      <td>11</td>\n",
              "      <td>4908</td>\n",
              "      <td>1457</td>\n",
              "      <td>30</td>\n",
              "      <td>775</td>\n",
              "      <td>357</td>\n",
              "      <td>249</td>\n",
              "      <td>408</td>\n",
              "      <td>4</td>\n",
              "      <td>3</td>\n",
              "    </tr>\n",
              "  </tbody>\n",
              "</table>\n",
              "<p>263 rows × 16 columns</p>\n",
              "</div>\n",
              "    <div class=\"colab-df-buttons\">\n",
              "\n",
              "  <div class=\"colab-df-container\">\n",
              "    <button class=\"colab-df-convert\" onclick=\"convertToInteractive('df-e7e44db0-9960-4288-8723-3d189f8fecc4')\"\n",
              "            title=\"Convert this dataframe to an interactive table.\"\n",
              "            style=\"display:none;\">\n",
              "\n",
              "  <svg xmlns=\"http://www.w3.org/2000/svg\" height=\"24px\" viewBox=\"0 -960 960 960\">\n",
              "    <path d=\"M120-120v-720h720v720H120Zm60-500h600v-160H180v160Zm220 220h160v-160H400v160Zm0 220h160v-160H400v160ZM180-400h160v-160H180v160Zm440 0h160v-160H620v160ZM180-180h160v-160H180v160Zm440 0h160v-160H620v160Z\"/>\n",
              "  </svg>\n",
              "    </button>\n",
              "\n",
              "  <style>\n",
              "    .colab-df-container {\n",
              "      display:flex;\n",
              "      gap: 12px;\n",
              "    }\n",
              "\n",
              "    .colab-df-convert {\n",
              "      background-color: #E8F0FE;\n",
              "      border: none;\n",
              "      border-radius: 50%;\n",
              "      cursor: pointer;\n",
              "      display: none;\n",
              "      fill: #1967D2;\n",
              "      height: 32px;\n",
              "      padding: 0 0 0 0;\n",
              "      width: 32px;\n",
              "    }\n",
              "\n",
              "    .colab-df-convert:hover {\n",
              "      background-color: #E2EBFA;\n",
              "      box-shadow: 0px 1px 2px rgba(60, 64, 67, 0.3), 0px 1px 3px 1px rgba(60, 64, 67, 0.15);\n",
              "      fill: #174EA6;\n",
              "    }\n",
              "\n",
              "    .colab-df-buttons div {\n",
              "      margin-bottom: 4px;\n",
              "    }\n",
              "\n",
              "    [theme=dark] .colab-df-convert {\n",
              "      background-color: #3B4455;\n",
              "      fill: #D2E3FC;\n",
              "    }\n",
              "\n",
              "    [theme=dark] .colab-df-convert:hover {\n",
              "      background-color: #434B5C;\n",
              "      box-shadow: 0px 1px 3px 1px rgba(0, 0, 0, 0.15);\n",
              "      filter: drop-shadow(0px 1px 2px rgba(0, 0, 0, 0.3));\n",
              "      fill: #FFFFFF;\n",
              "    }\n",
              "  </style>\n",
              "\n",
              "    <script>\n",
              "      const buttonEl =\n",
              "        document.querySelector('#df-e7e44db0-9960-4288-8723-3d189f8fecc4 button.colab-df-convert');\n",
              "      buttonEl.style.display =\n",
              "        google.colab.kernel.accessAllowed ? 'block' : 'none';\n",
              "\n",
              "      async function convertToInteractive(key) {\n",
              "        const element = document.querySelector('#df-e7e44db0-9960-4288-8723-3d189f8fecc4');\n",
              "        const dataTable =\n",
              "          await google.colab.kernel.invokeFunction('convertToInteractive',\n",
              "                                                    [key], {});\n",
              "        if (!dataTable) return;\n",
              "\n",
              "        const docLinkHtml = 'Like what you see? Visit the ' +\n",
              "          '<a target=\"_blank\" href=https://colab.research.google.com/notebooks/data_table.ipynb>data table notebook</a>'\n",
              "          + ' to learn more about interactive tables.';\n",
              "        element.innerHTML = '';\n",
              "        dataTable['output_type'] = 'display_data';\n",
              "        await google.colab.output.renderOutput(dataTable, element);\n",
              "        const docLink = document.createElement('div');\n",
              "        docLink.innerHTML = docLinkHtml;\n",
              "        element.appendChild(docLink);\n",
              "      }\n",
              "    </script>\n",
              "  </div>\n",
              "\n",
              "\n",
              "<div id=\"df-f8b2b4e6-61c5-41a3-8497-3b33e5c1c03e\">\n",
              "  <button class=\"colab-df-quickchart\" onclick=\"quickchart('df-f8b2b4e6-61c5-41a3-8497-3b33e5c1c03e')\"\n",
              "            title=\"Suggest charts\"\n",
              "            style=\"display:none;\">\n",
              "\n",
              "<svg xmlns=\"http://www.w3.org/2000/svg\" height=\"24px\"viewBox=\"0 0 24 24\"\n",
              "     width=\"24px\">\n",
              "    <g>\n",
              "        <path d=\"M19 3H5c-1.1 0-2 .9-2 2v14c0 1.1.9 2 2 2h14c1.1 0 2-.9 2-2V5c0-1.1-.9-2-2-2zM9 17H7v-7h2v7zm4 0h-2V7h2v10zm4 0h-2v-4h2v4z\"/>\n",
              "    </g>\n",
              "</svg>\n",
              "  </button>\n",
              "\n",
              "<style>\n",
              "  .colab-df-quickchart {\n",
              "      --bg-color: #E8F0FE;\n",
              "      --fill-color: #1967D2;\n",
              "      --hover-bg-color: #E2EBFA;\n",
              "      --hover-fill-color: #174EA6;\n",
              "      --disabled-fill-color: #AAA;\n",
              "      --disabled-bg-color: #DDD;\n",
              "  }\n",
              "\n",
              "  [theme=dark] .colab-df-quickchart {\n",
              "      --bg-color: #3B4455;\n",
              "      --fill-color: #D2E3FC;\n",
              "      --hover-bg-color: #434B5C;\n",
              "      --hover-fill-color: #FFFFFF;\n",
              "      --disabled-bg-color: #3B4455;\n",
              "      --disabled-fill-color: #666;\n",
              "  }\n",
              "\n",
              "  .colab-df-quickchart {\n",
              "    background-color: var(--bg-color);\n",
              "    border: none;\n",
              "    border-radius: 50%;\n",
              "    cursor: pointer;\n",
              "    display: none;\n",
              "    fill: var(--fill-color);\n",
              "    height: 32px;\n",
              "    padding: 0;\n",
              "    width: 32px;\n",
              "  }\n",
              "\n",
              "  .colab-df-quickchart:hover {\n",
              "    background-color: var(--hover-bg-color);\n",
              "    box-shadow: 0 1px 2px rgba(60, 64, 67, 0.3), 0 1px 3px 1px rgba(60, 64, 67, 0.15);\n",
              "    fill: var(--button-hover-fill-color);\n",
              "  }\n",
              "\n",
              "  .colab-df-quickchart-complete:disabled,\n",
              "  .colab-df-quickchart-complete:disabled:hover {\n",
              "    background-color: var(--disabled-bg-color);\n",
              "    fill: var(--disabled-fill-color);\n",
              "    box-shadow: none;\n",
              "  }\n",
              "\n",
              "  .colab-df-spinner {\n",
              "    border: 2px solid var(--fill-color);\n",
              "    border-color: transparent;\n",
              "    border-bottom-color: var(--fill-color);\n",
              "    animation:\n",
              "      spin 1s steps(1) infinite;\n",
              "  }\n",
              "\n",
              "  @keyframes spin {\n",
              "    0% {\n",
              "      border-color: transparent;\n",
              "      border-bottom-color: var(--fill-color);\n",
              "      border-left-color: var(--fill-color);\n",
              "    }\n",
              "    20% {\n",
              "      border-color: transparent;\n",
              "      border-left-color: var(--fill-color);\n",
              "      border-top-color: var(--fill-color);\n",
              "    }\n",
              "    30% {\n",
              "      border-color: transparent;\n",
              "      border-left-color: var(--fill-color);\n",
              "      border-top-color: var(--fill-color);\n",
              "      border-right-color: var(--fill-color);\n",
              "    }\n",
              "    40% {\n",
              "      border-color: transparent;\n",
              "      border-right-color: var(--fill-color);\n",
              "      border-top-color: var(--fill-color);\n",
              "    }\n",
              "    60% {\n",
              "      border-color: transparent;\n",
              "      border-right-color: var(--fill-color);\n",
              "    }\n",
              "    80% {\n",
              "      border-color: transparent;\n",
              "      border-right-color: var(--fill-color);\n",
              "      border-bottom-color: var(--fill-color);\n",
              "    }\n",
              "    90% {\n",
              "      border-color: transparent;\n",
              "      border-bottom-color: var(--fill-color);\n",
              "    }\n",
              "  }\n",
              "</style>\n",
              "\n",
              "  <script>\n",
              "    async function quickchart(key) {\n",
              "      const quickchartButtonEl =\n",
              "        document.querySelector('#' + key + ' button');\n",
              "      quickchartButtonEl.disabled = true;  // To prevent multiple clicks.\n",
              "      quickchartButtonEl.classList.add('colab-df-spinner');\n",
              "      try {\n",
              "        const charts = await google.colab.kernel.invokeFunction(\n",
              "            'suggestCharts', [key], {});\n",
              "      } catch (error) {\n",
              "        console.error('Error during call to suggestCharts:', error);\n",
              "      }\n",
              "      quickchartButtonEl.classList.remove('colab-df-spinner');\n",
              "      quickchartButtonEl.classList.add('colab-df-quickchart-complete');\n",
              "    }\n",
              "    (() => {\n",
              "      let quickchartButtonEl =\n",
              "        document.querySelector('#df-f8b2b4e6-61c5-41a3-8497-3b33e5c1c03e button');\n",
              "      quickchartButtonEl.style.display =\n",
              "        google.colab.kernel.accessAllowed ? 'block' : 'none';\n",
              "    })();\n",
              "  </script>\n",
              "</div>\n",
              "\n",
              "  <div id=\"id_68701d29-bf21-46b0-b4d5-8adaec9a56f2\">\n",
              "    <style>\n",
              "      .colab-df-generate {\n",
              "        background-color: #E8F0FE;\n",
              "        border: none;\n",
              "        border-radius: 50%;\n",
              "        cursor: pointer;\n",
              "        display: none;\n",
              "        fill: #1967D2;\n",
              "        height: 32px;\n",
              "        padding: 0 0 0 0;\n",
              "        width: 32px;\n",
              "      }\n",
              "\n",
              "      .colab-df-generate:hover {\n",
              "        background-color: #E2EBFA;\n",
              "        box-shadow: 0px 1px 2px rgba(60, 64, 67, 0.3), 0px 1px 3px 1px rgba(60, 64, 67, 0.15);\n",
              "        fill: #174EA6;\n",
              "      }\n",
              "\n",
              "      [theme=dark] .colab-df-generate {\n",
              "        background-color: #3B4455;\n",
              "        fill: #D2E3FC;\n",
              "      }\n",
              "\n",
              "      [theme=dark] .colab-df-generate:hover {\n",
              "        background-color: #434B5C;\n",
              "        box-shadow: 0px 1px 3px 1px rgba(0, 0, 0, 0.15);\n",
              "        filter: drop-shadow(0px 1px 2px rgba(0, 0, 0, 0.3));\n",
              "        fill: #FFFFFF;\n",
              "      }\n",
              "    </style>\n",
              "    <button class=\"colab-df-generate\" onclick=\"generateWithVariable('X')\"\n",
              "            title=\"Generate code using this dataframe.\"\n",
              "            style=\"display:none;\">\n",
              "\n",
              "  <svg xmlns=\"http://www.w3.org/2000/svg\" height=\"24px\"viewBox=\"0 0 24 24\"\n",
              "       width=\"24px\">\n",
              "    <path d=\"M7,19H8.4L18.45,9,17,7.55,7,17.6ZM5,21V16.75L18.45,3.32a2,2,0,0,1,2.83,0l1.4,1.43a1.91,1.91,0,0,1,.58,1.4,1.91,1.91,0,0,1-.58,1.4L9.25,21ZM18.45,9,17,7.55Zm-12,3A5.31,5.31,0,0,0,4.9,8.1,5.31,5.31,0,0,0,1,6.5,5.31,5.31,0,0,0,4.9,4.9,5.31,5.31,0,0,0,6.5,1,5.31,5.31,0,0,0,8.1,4.9,5.31,5.31,0,0,0,12,6.5,5.46,5.46,0,0,0,6.5,12Z\"/>\n",
              "  </svg>\n",
              "    </button>\n",
              "    <script>\n",
              "      (() => {\n",
              "      const buttonEl =\n",
              "        document.querySelector('#id_68701d29-bf21-46b0-b4d5-8adaec9a56f2 button.colab-df-generate');\n",
              "      buttonEl.style.display =\n",
              "        google.colab.kernel.accessAllowed ? 'block' : 'none';\n",
              "\n",
              "      buttonEl.onclick = () => {\n",
              "        google.colab.notebook.generateWithVariable('X');\n",
              "      }\n",
              "      })();\n",
              "    </script>\n",
              "  </div>\n",
              "\n",
              "    </div>\n",
              "  </div>\n"
            ],
            "application/vnd.google.colaboratory.intrinsic+json": {
              "type": "dataframe",
              "variable_name": "X",
              "summary": "{\n  \"name\": \"X\",\n  \"rows\": 263,\n  \"fields\": [\n    {\n      \"column\": \"AtBat\",\n      \"properties\": {\n        \"dtype\": \"number\",\n        \"std\": 147,\n        \"min\": 19,\n        \"max\": 687,\n        \"num_unique_values\": 209,\n        \"samples\": [\n          268,\n          523,\n          327\n        ],\n        \"semantic_type\": \"\",\n        \"description\": \"\"\n      }\n    },\n    {\n      \"column\": \"Hits\",\n      \"properties\": {\n        \"dtype\": \"number\",\n        \"std\": 45,\n        \"min\": 1,\n        \"max\": 238,\n        \"num_unique_values\": 130,\n        \"samples\": [\n          115,\n          131,\n          163\n        ],\n        \"semantic_type\": \"\",\n        \"description\": \"\"\n      }\n    },\n    {\n      \"column\": \"HmRun\",\n      \"properties\": {\n        \"dtype\": \"number\",\n        \"std\": 8,\n        \"min\": 0,\n        \"max\": 40,\n        \"num_unique_values\": 35,\n        \"samples\": [\n          27,\n          16,\n          29\n        ],\n        \"semantic_type\": \"\",\n        \"description\": \"\"\n      }\n    },\n    {\n      \"column\": \"Runs\",\n      \"properties\": {\n        \"dtype\": \"number\",\n        \"std\": 25,\n        \"min\": 0,\n        \"max\": 130,\n        \"num_unique_values\": 92,\n        \"samples\": [\n          78,\n          90,\n          33\n        ],\n        \"semantic_type\": \"\",\n        \"description\": \"\"\n      }\n    },\n    {\n      \"column\": \"RBI\",\n      \"properties\": {\n        \"dtype\": \"number\",\n        \"std\": 25,\n        \"min\": 0,\n        \"max\": 121,\n        \"num_unique_values\": 94,\n        \"samples\": [\n          94,\n          95,\n          58\n        ],\n        \"semantic_type\": \"\",\n        \"description\": \"\"\n      }\n    },\n    {\n      \"column\": \"Walks\",\n      \"properties\": {\n        \"dtype\": \"number\",\n        \"std\": 21,\n        \"min\": 0,\n        \"max\": 105,\n        \"num_unique_values\": 87,\n        \"samples\": [\n          44,\n          39,\n          84\n        ],\n        \"semantic_type\": \"\",\n        \"description\": \"\"\n      }\n    },\n    {\n      \"column\": \"Years\",\n      \"properties\": {\n        \"dtype\": \"number\",\n        \"std\": 4,\n        \"min\": 1,\n        \"max\": 24,\n        \"num_unique_values\": 21,\n        \"samples\": [\n          14,\n          16,\n          17\n        ],\n        \"semantic_type\": \"\",\n        \"description\": \"\"\n      }\n    },\n    {\n      \"column\": \"CAtBat\",\n      \"properties\": {\n        \"dtype\": \"number\",\n        \"std\": 2286,\n        \"min\": 19,\n        \"max\": 14053,\n        \"num_unique_values\": 257,\n        \"samples\": [\n          209,\n          1966,\n          6063\n        ],\n        \"semantic_type\": \"\",\n        \"description\": \"\"\n      }\n    },\n    {\n      \"column\": \"CHits\",\n      \"properties\": {\n        \"dtype\": \"number\",\n        \"std\": 648,\n        \"min\": 4,\n        \"max\": 4256,\n        \"num_unique_values\": 241,\n        \"samples\": [\n          633,\n          108,\n          1145\n        ],\n        \"semantic_type\": \"\",\n        \"description\": \"\"\n      }\n    },\n    {\n      \"column\": \"CHmRun\",\n      \"properties\": {\n        \"dtype\": \"number\",\n        \"std\": 82,\n        \"min\": 0,\n        \"max\": 548,\n        \"num_unique_values\": 129,\n        \"samples\": [\n          181,\n          9,\n          67\n        ],\n        \"semantic_type\": \"\",\n        \"description\": \"\"\n      }\n    },\n    {\n      \"column\": \"CRuns\",\n      \"properties\": {\n        \"dtype\": \"number\",\n        \"std\": 331,\n        \"min\": 2,\n        \"max\": 2165,\n        \"num_unique_values\": 226,\n        \"samples\": [\n          702,\n          128,\n          310\n        ],\n        \"semantic_type\": \"\",\n        \"description\": \"\"\n      }\n    },\n    {\n      \"column\": \"CRBI\",\n      \"properties\": {\n        \"dtype\": \"number\",\n        \"std\": 323,\n        \"min\": 3,\n        \"max\": 1659,\n        \"num_unique_values\": 226,\n        \"samples\": [\n          504,\n          273,\n          579\n        ],\n        \"semantic_type\": \"\",\n        \"description\": \"\"\n      }\n    },\n    {\n      \"column\": \"CWalks\",\n      \"properties\": {\n        \"dtype\": \"number\",\n        \"std\": 264,\n        \"min\": 1,\n        \"max\": 1566,\n        \"num_unique_values\": 207,\n        \"samples\": [\n          403,\n          39,\n          709\n        ],\n        \"semantic_type\": \"\",\n        \"description\": \"\"\n      }\n    },\n    {\n      \"column\": \"PutOuts\",\n      \"properties\": {\n        \"dtype\": \"number\",\n        \"std\": 279,\n        \"min\": 0,\n        \"max\": 1377,\n        \"num_unique_values\": 199,\n        \"samples\": [\n          207,\n          202,\n          96\n        ],\n        \"semantic_type\": \"\",\n        \"description\": \"\"\n      }\n    },\n    {\n      \"column\": \"Assists\",\n      \"properties\": {\n        \"dtype\": \"number\",\n        \"std\": 145,\n        \"min\": 0,\n        \"max\": 492,\n        \"num_unique_values\": 145,\n        \"samples\": [\n          15,\n          72,\n          25\n        ],\n        \"semantic_type\": \"\",\n        \"description\": \"\"\n      }\n    },\n    {\n      \"column\": \"Errors\",\n      \"properties\": {\n        \"dtype\": \"number\",\n        \"std\": 6,\n        \"min\": 0,\n        \"max\": 32,\n        \"num_unique_values\": 29,\n        \"samples\": [\n          17,\n          13,\n          8\n        ],\n        \"semantic_type\": \"\",\n        \"description\": \"\"\n      }\n    }\n  ]\n}"
            }
          },
          "metadata": {},
          "execution_count": 7
        }
      ],
      "source": [
        "#Create the response variable.\n",
        "y = df_hitters_clean.Salary\n",
        "\n",
        "# Drop the column with the independent variable (Salary), and the columns with categorical data\n",
        "#The axis=1 parameter specifies we're dropping columns, and not rows.\n",
        "X = df_hitters_clean.drop(['Salary', 'League', 'Division', 'NewLeague', 'Player'], axis=1)\n",
        "X"
      ]
    },
    {
      "cell_type": "markdown",
      "id": "0cb40ce1-458c-468a-98a3-6d0c421c5b41",
      "metadata": {
        "id": "0cb40ce1-458c-468a-98a3-6d0c421c5b41"
      },
      "source": [
        "Now, for this assignment we're going to create a subset that will be our training data, and a subset that will be our test data. Let's do an 80/20 split:"
      ]
    },
    {
      "cell_type": "code",
      "execution_count": 8,
      "id": "faf91e60-0f54-43de-a5e2-f2760c5743cf",
      "metadata": {
        "id": "faf91e60-0f54-43de-a5e2-f2760c5743cf"
      },
      "outputs": [],
      "source": [
        "X_train, X_test, y_train, y_test = train_test_split(X,y,test_size=.2,random_state = 6600)"
      ]
    },
    {
      "cell_type": "markdown",
      "id": "ea6e517a-1c97-4a49-a236-9f6e9817a6c3",
      "metadata": {
        "id": "ea6e517a-1c97-4a49-a236-9f6e9817a6c3"
      },
      "source": [
        "## Backward Subset Selection ##"
      ]
    },
    {
      "cell_type": "markdown",
      "id": "9dc46611-f740-4727-949d-a2fb4050a393",
      "metadata": {
        "id": "9dc46611-f740-4727-949d-a2fb4050a393"
      },
      "source": [
        "If we build a linear model with all these inputs, we'll likely overfit the model. To avoid this, we'd like to build a model using only the most important variables. But, which subset of variables is most important?"
      ]
    },
    {
      "cell_type": "markdown",
      "id": "9a2effdb-e7ea-4da3-b89a-44bfeb702500",
      "metadata": {
        "id": "9a2effdb-e7ea-4da3-b89a-44bfeb702500"
      },
      "source": [
        "In lecture 15, we learned three methods for selecting the best subset of variables for a linear model:\n",
        "\n",
        "* Best subset selection\n",
        "* Forward stepwise selection\n",
        "* Backward stepwised selection\n",
        "\n",
        "We went over algorithms for each of these, and implemented two (best subset and forward stepwise) as Python code. In this assignment, you'll implement backward stepwise selection."
      ]
    },
    {
      "cell_type": "markdown",
      "id": "be80135c-05c7-4c16-9144-1fcac6538536",
      "metadata": {
        "id": "be80135c-05c7-4c16-9144-1fcac6538536"
      },
      "source": [
        "The basic algorithm for backward stepwise selection is:\n",
        "\n",
        "_Algorithm_\n",
        "\n",
        "- Let $M_{p}$ denote the full model which contains all $p$ predictors.\n",
        "\n",
        "- For $k=p,p-1,...,1$\n",
        "    - Consider all $k$ models that contain all but one of the predictors in $M_{k}$, for a total of $k-1$ predictors.\n",
        "    - Pick the best among these $k$ models, and call in $M_{k-1}$. Here can define _best_ as having the smallest $RSS$ or highest $R^{2}$\n",
        "- Select the single best model among $M_{0},M_{1},...,M_{n}$ using $C_{p}$, $BIC$, adjusted $R^{2}$ or any other method.\n",
        "\n",
        "For this assignment, use the largest $R^{2}$ to determine the best model at each step, and select the overall best model using the adjusted $R^{2}$."
      ]
    },
    {
      "cell_type": "markdown",
      "id": "47c560ee-e964-4636-8f95-ba351fee86d7",
      "metadata": {
        "id": "47c560ee-e964-4636-8f95-ba351fee86d7"
      },
      "source": [
        "We'll start out with a list of all the predictors:"
      ]
    },
    {
      "cell_type": "code",
      "execution_count": 9,
      "id": "d331a2ed-073b-49ea-aed8-77fa2286a4ab",
      "metadata": {
        "id": "d331a2ed-073b-49ea-aed8-77fa2286a4ab"
      },
      "outputs": [],
      "source": [
        "backwards_features = list(X.columns)\n",
        "p = len(backwards_features)"
      ]
    },
    {
      "cell_type": "markdown",
      "id": "bfe5a75c-c970-4472-9601-4c0ab3d3e387",
      "metadata": {
        "id": "bfe5a75c-c970-4472-9601-4c0ab3d3e387"
      },
      "source": [
        "We'll also create two empty lists that you should fill:\n",
        "* *R2_list_backwards* - Fill this with the best $R^{2}$ value that you find at each step.\n",
        "* *features_list_backwards* - Fill this with the best set of features that you find at each step.\n",
        "* *R2_test_list_backwards* - Fill this with the performance of the model on the test data using the best set of features found at each step."
      ]
    },
    {
      "cell_type": "code",
      "execution_count": 10,
      "id": "3820c0bd-80e8-4650-a78e-5d467bf62e02",
      "metadata": {
        "id": "3820c0bd-80e8-4650-a78e-5d467bf62e02"
      },
      "outputs": [],
      "source": [
        "R2_list_backwards, features_list_backwards, R2_test_list_backwards = [], [], []"
      ]
    },
    {
      "cell_type": "markdown",
      "id": "a3099b8c-338e-4dfe-b705-b2ce8d2f1209",
      "metadata": {
        "id": "a3099b8c-338e-4dfe-b705-b2ce8d2f1209"
      },
      "source": [
        "Alright, now it's time for you to write your own code! Write code that appropriately populates the two lists just created. However, do so using just the *X_train* and *y_train* datasets."
      ]
    },
    {
      "cell_type": "code",
      "execution_count": 17,
      "id": "f2bc429e-e1de-4036-85fb-cba8eaf461f4",
      "metadata": {
        "id": "f2bc429e-e1de-4036-85fb-cba8eaf461f4",
        "colab": {
          "base_uri": "https://localhost:8080/"
        },
        "outputId": "aea222b1-f97d-4f78-8116-1d9e234051fc"
      },
      "outputs": [
        {
          "output_type": "stream",
          "name": "stdout",
          "text": [
            "Selected Features: ['AtBat', 'Hits', 'HmRun', 'Runs', 'Walks', 'CAtBat', 'CRuns', 'CWalks', 'PutOuts', 'Assists']\n"
          ]
        }
      ],
      "source": [
        "#TODO: Implement the backward subset selection algorithm\n",
        "\n",
        "import statsmodels.api as sm # Fixed import\n",
        "\n",
        "def backward_stepwise_selection(X, y):\n",
        "\n",
        "  features = list(X.columns)\n",
        "  best_features = features.copy()\n",
        "  best_adj_r2 = -float('inf')\n",
        "\n",
        "  while len(features) > 0:\n",
        "    max_adj_r2 = -float('inf')\n",
        "    feature_to_remove = None\n",
        "\n",
        "    for feature in features:\n",
        "      remaining_features = [f for f in features if f != feature]\n",
        "      X_subset = X[remaining_features]\n",
        "      model = sm.OLS(y, sm.add_constant(X_subset)).fit()\n",
        "      adj_r2 = model.rsquared_adj\n",
        "\n",
        "      if adj_r2 > max_adj_r2:\n",
        "        max_adj_r2 = adj_r2\n",
        "        feature_to_remove = feature\n",
        "\n",
        "    if max_adj_r2 > best_adj_r2:\n",
        "      best_adj_r2 = max_adj_r2\n",
        "      best_features = [f for f in features if f != feature_to_remove]\n",
        "    else:\n",
        "      break\n",
        "\n",
        "    features.remove(feature_to_remove)\n",
        "\n",
        "  return best_features\n",
        "\n",
        "# Apply backward stepwise selection\n",
        "selected_features = backward_stepwise_selection(X_train, y_train)\n",
        "\n",
        "# Print the selected features\n",
        "print(\"Selected Features:\", selected_features)\n"
      ]
    },
    {
      "cell_type": "markdown",
      "id": "18d61483-50cd-4180-aa7d-94701fc575dc",
      "metadata": {
        "id": "18d61483-50cd-4180-aa7d-94701fc575dc"
      },
      "source": [
        "Next, create a dataframe with four columns: the feature list, $R^{2}$ values, and test $R^{2}$ values lists you just created, plus another column that records the number of features."
      ]
    },
    {
      "cell_type": "code",
      "execution_count": 28,
      "id": "45a7c492-34d1-4a22-a0cf-cc7d27dc2b88",
      "metadata": {
        "id": "45a7c492-34d1-4a22-a0cf-cc7d27dc2b88",
        "colab": {
          "base_uri": "https://localhost:8080/",
          "height": 520
        },
        "outputId": "86c9c4d3-23fe-470e-ff79-9814ccc2e099"
      },
      "outputs": [
        {
          "output_type": "execute_result",
          "data": {
            "text/plain": [
              "         R^2  Test R^2                                           Features  \\\n",
              "0   0.527931  0.592764  [AtBat, Hits, HmRun, Runs, Walks, Years, CAtBa...   \n",
              "1   0.527909  0.567587  [AtBat, Hits, HmRun, Runs, Walks, Years, CAtBa...   \n",
              "2   0.527807  0.552313  [AtBat, Hits, HmRun, Runs, Walks, CAtBat, CHmR...   \n",
              "3   0.527614  0.495073  [AtBat, Hits, HmRun, Runs, Walks, CAtBat, CRun...   \n",
              "4   0.527170  0.487824  [AtBat, Hits, Runs, Walks, CAtBat, CRuns, CRBI...   \n",
              "5   0.526541  0.482531  [AtBat, Hits, Runs, Walks, CAtBat, CRuns, CRBI...   \n",
              "6   0.525520  0.481514  [AtBat, Hits, Walks, CAtBat, CRuns, CRBI, CWal...   \n",
              "7   0.518807  0.428206  [AtBat, Hits, Walks, CAtBat, CRuns, CRBI, CWal...   \n",
              "8   0.509698  0.422981  [AtBat, Hits, Walks, CRuns, CRBI, CWalks, PutO...   \n",
              "9   0.497297  0.321898       [AtBat, Hits, Walks, CRuns, CWalks, PutOuts]   \n",
              "10  0.484059  0.301288               [AtBat, Hits, Walks, CRuns, PutOuts]   \n",
              "11  0.466405  0.294584                      [AtBat, Hits, CRuns, PutOuts]   \n",
              "12  0.448466  0.233529                             [Hits, CRuns, PutOuts]   \n",
              "13  0.414779  0.216319                                      [Hits, CRuns]   \n",
              "14  0.316606  0.178990                                            [CRuns]   \n",
              "\n",
              "    Num_Features  \n",
              "0             15  \n",
              "1             14  \n",
              "2             13  \n",
              "3             12  \n",
              "4             11  \n",
              "5             10  \n",
              "6              9  \n",
              "7              8  \n",
              "8              7  \n",
              "9              6  \n",
              "10             5  \n",
              "11             4  \n",
              "12             3  \n",
              "13             2  \n",
              "14             1  "
            ],
            "text/html": [
              "\n",
              "  <div id=\"df-2fd4609b-2670-4648-9361-93faeaf36369\" class=\"colab-df-container\">\n",
              "    <div>\n",
              "<style scoped>\n",
              "    .dataframe tbody tr th:only-of-type {\n",
              "        vertical-align: middle;\n",
              "    }\n",
              "\n",
              "    .dataframe tbody tr th {\n",
              "        vertical-align: top;\n",
              "    }\n",
              "\n",
              "    .dataframe thead th {\n",
              "        text-align: right;\n",
              "    }\n",
              "</style>\n",
              "<table border=\"1\" class=\"dataframe\">\n",
              "  <thead>\n",
              "    <tr style=\"text-align: right;\">\n",
              "      <th></th>\n",
              "      <th>R^2</th>\n",
              "      <th>Test R^2</th>\n",
              "      <th>Features</th>\n",
              "      <th>Num_Features</th>\n",
              "    </tr>\n",
              "  </thead>\n",
              "  <tbody>\n",
              "    <tr>\n",
              "      <th>0</th>\n",
              "      <td>0.527931</td>\n",
              "      <td>0.592764</td>\n",
              "      <td>[AtBat, Hits, HmRun, Runs, Walks, Years, CAtBa...</td>\n",
              "      <td>15</td>\n",
              "    </tr>\n",
              "    <tr>\n",
              "      <th>1</th>\n",
              "      <td>0.527909</td>\n",
              "      <td>0.567587</td>\n",
              "      <td>[AtBat, Hits, HmRun, Runs, Walks, Years, CAtBa...</td>\n",
              "      <td>14</td>\n",
              "    </tr>\n",
              "    <tr>\n",
              "      <th>2</th>\n",
              "      <td>0.527807</td>\n",
              "      <td>0.552313</td>\n",
              "      <td>[AtBat, Hits, HmRun, Runs, Walks, CAtBat, CHmR...</td>\n",
              "      <td>13</td>\n",
              "    </tr>\n",
              "    <tr>\n",
              "      <th>3</th>\n",
              "      <td>0.527614</td>\n",
              "      <td>0.495073</td>\n",
              "      <td>[AtBat, Hits, HmRun, Runs, Walks, CAtBat, CRun...</td>\n",
              "      <td>12</td>\n",
              "    </tr>\n",
              "    <tr>\n",
              "      <th>4</th>\n",
              "      <td>0.527170</td>\n",
              "      <td>0.487824</td>\n",
              "      <td>[AtBat, Hits, Runs, Walks, CAtBat, CRuns, CRBI...</td>\n",
              "      <td>11</td>\n",
              "    </tr>\n",
              "    <tr>\n",
              "      <th>5</th>\n",
              "      <td>0.526541</td>\n",
              "      <td>0.482531</td>\n",
              "      <td>[AtBat, Hits, Runs, Walks, CAtBat, CRuns, CRBI...</td>\n",
              "      <td>10</td>\n",
              "    </tr>\n",
              "    <tr>\n",
              "      <th>6</th>\n",
              "      <td>0.525520</td>\n",
              "      <td>0.481514</td>\n",
              "      <td>[AtBat, Hits, Walks, CAtBat, CRuns, CRBI, CWal...</td>\n",
              "      <td>9</td>\n",
              "    </tr>\n",
              "    <tr>\n",
              "      <th>7</th>\n",
              "      <td>0.518807</td>\n",
              "      <td>0.428206</td>\n",
              "      <td>[AtBat, Hits, Walks, CAtBat, CRuns, CRBI, CWal...</td>\n",
              "      <td>8</td>\n",
              "    </tr>\n",
              "    <tr>\n",
              "      <th>8</th>\n",
              "      <td>0.509698</td>\n",
              "      <td>0.422981</td>\n",
              "      <td>[AtBat, Hits, Walks, CRuns, CRBI, CWalks, PutO...</td>\n",
              "      <td>7</td>\n",
              "    </tr>\n",
              "    <tr>\n",
              "      <th>9</th>\n",
              "      <td>0.497297</td>\n",
              "      <td>0.321898</td>\n",
              "      <td>[AtBat, Hits, Walks, CRuns, CWalks, PutOuts]</td>\n",
              "      <td>6</td>\n",
              "    </tr>\n",
              "    <tr>\n",
              "      <th>10</th>\n",
              "      <td>0.484059</td>\n",
              "      <td>0.301288</td>\n",
              "      <td>[AtBat, Hits, Walks, CRuns, PutOuts]</td>\n",
              "      <td>5</td>\n",
              "    </tr>\n",
              "    <tr>\n",
              "      <th>11</th>\n",
              "      <td>0.466405</td>\n",
              "      <td>0.294584</td>\n",
              "      <td>[AtBat, Hits, CRuns, PutOuts]</td>\n",
              "      <td>4</td>\n",
              "    </tr>\n",
              "    <tr>\n",
              "      <th>12</th>\n",
              "      <td>0.448466</td>\n",
              "      <td>0.233529</td>\n",
              "      <td>[Hits, CRuns, PutOuts]</td>\n",
              "      <td>3</td>\n",
              "    </tr>\n",
              "    <tr>\n",
              "      <th>13</th>\n",
              "      <td>0.414779</td>\n",
              "      <td>0.216319</td>\n",
              "      <td>[Hits, CRuns]</td>\n",
              "      <td>2</td>\n",
              "    </tr>\n",
              "    <tr>\n",
              "      <th>14</th>\n",
              "      <td>0.316606</td>\n",
              "      <td>0.178990</td>\n",
              "      <td>[CRuns]</td>\n",
              "      <td>1</td>\n",
              "    </tr>\n",
              "  </tbody>\n",
              "</table>\n",
              "</div>\n",
              "    <div class=\"colab-df-buttons\">\n",
              "\n",
              "  <div class=\"colab-df-container\">\n",
              "    <button class=\"colab-df-convert\" onclick=\"convertToInteractive('df-2fd4609b-2670-4648-9361-93faeaf36369')\"\n",
              "            title=\"Convert this dataframe to an interactive table.\"\n",
              "            style=\"display:none;\">\n",
              "\n",
              "  <svg xmlns=\"http://www.w3.org/2000/svg\" height=\"24px\" viewBox=\"0 -960 960 960\">\n",
              "    <path d=\"M120-120v-720h720v720H120Zm60-500h600v-160H180v160Zm220 220h160v-160H400v160Zm0 220h160v-160H400v160ZM180-400h160v-160H180v160Zm440 0h160v-160H620v160ZM180-180h160v-160H180v160Zm440 0h160v-160H620v160Z\"/>\n",
              "  </svg>\n",
              "    </button>\n",
              "\n",
              "  <style>\n",
              "    .colab-df-container {\n",
              "      display:flex;\n",
              "      gap: 12px;\n",
              "    }\n",
              "\n",
              "    .colab-df-convert {\n",
              "      background-color: #E8F0FE;\n",
              "      border: none;\n",
              "      border-radius: 50%;\n",
              "      cursor: pointer;\n",
              "      display: none;\n",
              "      fill: #1967D2;\n",
              "      height: 32px;\n",
              "      padding: 0 0 0 0;\n",
              "      width: 32px;\n",
              "    }\n",
              "\n",
              "    .colab-df-convert:hover {\n",
              "      background-color: #E2EBFA;\n",
              "      box-shadow: 0px 1px 2px rgba(60, 64, 67, 0.3), 0px 1px 3px 1px rgba(60, 64, 67, 0.15);\n",
              "      fill: #174EA6;\n",
              "    }\n",
              "\n",
              "    .colab-df-buttons div {\n",
              "      margin-bottom: 4px;\n",
              "    }\n",
              "\n",
              "    [theme=dark] .colab-df-convert {\n",
              "      background-color: #3B4455;\n",
              "      fill: #D2E3FC;\n",
              "    }\n",
              "\n",
              "    [theme=dark] .colab-df-convert:hover {\n",
              "      background-color: #434B5C;\n",
              "      box-shadow: 0px 1px 3px 1px rgba(0, 0, 0, 0.15);\n",
              "      filter: drop-shadow(0px 1px 2px rgba(0, 0, 0, 0.3));\n",
              "      fill: #FFFFFF;\n",
              "    }\n",
              "  </style>\n",
              "\n",
              "    <script>\n",
              "      const buttonEl =\n",
              "        document.querySelector('#df-2fd4609b-2670-4648-9361-93faeaf36369 button.colab-df-convert');\n",
              "      buttonEl.style.display =\n",
              "        google.colab.kernel.accessAllowed ? 'block' : 'none';\n",
              "\n",
              "      async function convertToInteractive(key) {\n",
              "        const element = document.querySelector('#df-2fd4609b-2670-4648-9361-93faeaf36369');\n",
              "        const dataTable =\n",
              "          await google.colab.kernel.invokeFunction('convertToInteractive',\n",
              "                                                    [key], {});\n",
              "        if (!dataTable) return;\n",
              "\n",
              "        const docLinkHtml = 'Like what you see? Visit the ' +\n",
              "          '<a target=\"_blank\" href=https://colab.research.google.com/notebooks/data_table.ipynb>data table notebook</a>'\n",
              "          + ' to learn more about interactive tables.';\n",
              "        element.innerHTML = '';\n",
              "        dataTable['output_type'] = 'display_data';\n",
              "        await google.colab.output.renderOutput(dataTable, element);\n",
              "        const docLink = document.createElement('div');\n",
              "        docLink.innerHTML = docLinkHtml;\n",
              "        element.appendChild(docLink);\n",
              "      }\n",
              "    </script>\n",
              "  </div>\n",
              "\n",
              "\n",
              "<div id=\"df-e3fd962e-a778-403c-8411-b3b45b2c3410\">\n",
              "  <button class=\"colab-df-quickchart\" onclick=\"quickchart('df-e3fd962e-a778-403c-8411-b3b45b2c3410')\"\n",
              "            title=\"Suggest charts\"\n",
              "            style=\"display:none;\">\n",
              "\n",
              "<svg xmlns=\"http://www.w3.org/2000/svg\" height=\"24px\"viewBox=\"0 0 24 24\"\n",
              "     width=\"24px\">\n",
              "    <g>\n",
              "        <path d=\"M19 3H5c-1.1 0-2 .9-2 2v14c0 1.1.9 2 2 2h14c1.1 0 2-.9 2-2V5c0-1.1-.9-2-2-2zM9 17H7v-7h2v7zm4 0h-2V7h2v10zm4 0h-2v-4h2v4z\"/>\n",
              "    </g>\n",
              "</svg>\n",
              "  </button>\n",
              "\n",
              "<style>\n",
              "  .colab-df-quickchart {\n",
              "      --bg-color: #E8F0FE;\n",
              "      --fill-color: #1967D2;\n",
              "      --hover-bg-color: #E2EBFA;\n",
              "      --hover-fill-color: #174EA6;\n",
              "      --disabled-fill-color: #AAA;\n",
              "      --disabled-bg-color: #DDD;\n",
              "  }\n",
              "\n",
              "  [theme=dark] .colab-df-quickchart {\n",
              "      --bg-color: #3B4455;\n",
              "      --fill-color: #D2E3FC;\n",
              "      --hover-bg-color: #434B5C;\n",
              "      --hover-fill-color: #FFFFFF;\n",
              "      --disabled-bg-color: #3B4455;\n",
              "      --disabled-fill-color: #666;\n",
              "  }\n",
              "\n",
              "  .colab-df-quickchart {\n",
              "    background-color: var(--bg-color);\n",
              "    border: none;\n",
              "    border-radius: 50%;\n",
              "    cursor: pointer;\n",
              "    display: none;\n",
              "    fill: var(--fill-color);\n",
              "    height: 32px;\n",
              "    padding: 0;\n",
              "    width: 32px;\n",
              "  }\n",
              "\n",
              "  .colab-df-quickchart:hover {\n",
              "    background-color: var(--hover-bg-color);\n",
              "    box-shadow: 0 1px 2px rgba(60, 64, 67, 0.3), 0 1px 3px 1px rgba(60, 64, 67, 0.15);\n",
              "    fill: var(--button-hover-fill-color);\n",
              "  }\n",
              "\n",
              "  .colab-df-quickchart-complete:disabled,\n",
              "  .colab-df-quickchart-complete:disabled:hover {\n",
              "    background-color: var(--disabled-bg-color);\n",
              "    fill: var(--disabled-fill-color);\n",
              "    box-shadow: none;\n",
              "  }\n",
              "\n",
              "  .colab-df-spinner {\n",
              "    border: 2px solid var(--fill-color);\n",
              "    border-color: transparent;\n",
              "    border-bottom-color: var(--fill-color);\n",
              "    animation:\n",
              "      spin 1s steps(1) infinite;\n",
              "  }\n",
              "\n",
              "  @keyframes spin {\n",
              "    0% {\n",
              "      border-color: transparent;\n",
              "      border-bottom-color: var(--fill-color);\n",
              "      border-left-color: var(--fill-color);\n",
              "    }\n",
              "    20% {\n",
              "      border-color: transparent;\n",
              "      border-left-color: var(--fill-color);\n",
              "      border-top-color: var(--fill-color);\n",
              "    }\n",
              "    30% {\n",
              "      border-color: transparent;\n",
              "      border-left-color: var(--fill-color);\n",
              "      border-top-color: var(--fill-color);\n",
              "      border-right-color: var(--fill-color);\n",
              "    }\n",
              "    40% {\n",
              "      border-color: transparent;\n",
              "      border-right-color: var(--fill-color);\n",
              "      border-top-color: var(--fill-color);\n",
              "    }\n",
              "    60% {\n",
              "      border-color: transparent;\n",
              "      border-right-color: var(--fill-color);\n",
              "    }\n",
              "    80% {\n",
              "      border-color: transparent;\n",
              "      border-right-color: var(--fill-color);\n",
              "      border-bottom-color: var(--fill-color);\n",
              "    }\n",
              "    90% {\n",
              "      border-color: transparent;\n",
              "      border-bottom-color: var(--fill-color);\n",
              "    }\n",
              "  }\n",
              "</style>\n",
              "\n",
              "  <script>\n",
              "    async function quickchart(key) {\n",
              "      const quickchartButtonEl =\n",
              "        document.querySelector('#' + key + ' button');\n",
              "      quickchartButtonEl.disabled = true;  // To prevent multiple clicks.\n",
              "      quickchartButtonEl.classList.add('colab-df-spinner');\n",
              "      try {\n",
              "        const charts = await google.colab.kernel.invokeFunction(\n",
              "            'suggestCharts', [key], {});\n",
              "      } catch (error) {\n",
              "        console.error('Error during call to suggestCharts:', error);\n",
              "      }\n",
              "      quickchartButtonEl.classList.remove('colab-df-spinner');\n",
              "      quickchartButtonEl.classList.add('colab-df-quickchart-complete');\n",
              "    }\n",
              "    (() => {\n",
              "      let quickchartButtonEl =\n",
              "        document.querySelector('#df-e3fd962e-a778-403c-8411-b3b45b2c3410 button');\n",
              "      quickchartButtonEl.style.display =\n",
              "        google.colab.kernel.accessAllowed ? 'block' : 'none';\n",
              "    })();\n",
              "  </script>\n",
              "</div>\n",
              "\n",
              "  <div id=\"id_692e8441-4e36-41da-96bb-c8363813985e\">\n",
              "    <style>\n",
              "      .colab-df-generate {\n",
              "        background-color: #E8F0FE;\n",
              "        border: none;\n",
              "        border-radius: 50%;\n",
              "        cursor: pointer;\n",
              "        display: none;\n",
              "        fill: #1967D2;\n",
              "        height: 32px;\n",
              "        padding: 0 0 0 0;\n",
              "        width: 32px;\n",
              "      }\n",
              "\n",
              "      .colab-df-generate:hover {\n",
              "        background-color: #E2EBFA;\n",
              "        box-shadow: 0px 1px 2px rgba(60, 64, 67, 0.3), 0px 1px 3px 1px rgba(60, 64, 67, 0.15);\n",
              "        fill: #174EA6;\n",
              "      }\n",
              "\n",
              "      [theme=dark] .colab-df-generate {\n",
              "        background-color: #3B4455;\n",
              "        fill: #D2E3FC;\n",
              "      }\n",
              "\n",
              "      [theme=dark] .colab-df-generate:hover {\n",
              "        background-color: #434B5C;\n",
              "        box-shadow: 0px 1px 3px 1px rgba(0, 0, 0, 0.15);\n",
              "        filter: drop-shadow(0px 1px 2px rgba(0, 0, 0, 0.3));\n",
              "        fill: #FFFFFF;\n",
              "      }\n",
              "    </style>\n",
              "    <button class=\"colab-df-generate\" onclick=\"generateWithVariable('df_backwards')\"\n",
              "            title=\"Generate code using this dataframe.\"\n",
              "            style=\"display:none;\">\n",
              "\n",
              "  <svg xmlns=\"http://www.w3.org/2000/svg\" height=\"24px\"viewBox=\"0 0 24 24\"\n",
              "       width=\"24px\">\n",
              "    <path d=\"M7,19H8.4L18.45,9,17,7.55,7,17.6ZM5,21V16.75L18.45,3.32a2,2,0,0,1,2.83,0l1.4,1.43a1.91,1.91,0,0,1,.58,1.4,1.91,1.91,0,0,1-.58,1.4L9.25,21ZM18.45,9,17,7.55Zm-12,3A5.31,5.31,0,0,0,4.9,8.1,5.31,5.31,0,0,0,1,6.5,5.31,5.31,0,0,0,4.9,4.9,5.31,5.31,0,0,0,6.5,1,5.31,5.31,0,0,0,8.1,4.9,5.31,5.31,0,0,0,12,6.5,5.46,5.46,0,0,0,6.5,12Z\"/>\n",
              "  </svg>\n",
              "    </button>\n",
              "    <script>\n",
              "      (() => {\n",
              "      const buttonEl =\n",
              "        document.querySelector('#id_692e8441-4e36-41da-96bb-c8363813985e button.colab-df-generate');\n",
              "      buttonEl.style.display =\n",
              "        google.colab.kernel.accessAllowed ? 'block' : 'none';\n",
              "\n",
              "      buttonEl.onclick = () => {\n",
              "        google.colab.notebook.generateWithVariable('df_backwards');\n",
              "      }\n",
              "      })();\n",
              "    </script>\n",
              "  </div>\n",
              "\n",
              "    </div>\n",
              "  </div>\n"
            ],
            "application/vnd.google.colaboratory.intrinsic+json": {
              "type": "dataframe",
              "variable_name": "df_backwards",
              "summary": "{\n  \"name\": \"df_backwards\",\n  \"rows\": 15,\n  \"fields\": [\n    {\n      \"column\": \"R^2\",\n      \"properties\": {\n        \"dtype\": \"number\",\n        \"std\": 0.05916659982547259,\n        \"min\": 0.3166062064616073,\n        \"max\": 0.5279306798481691,\n        \"num_unique_values\": 15,\n        \"samples\": [\n          0.49729651237237504,\n          0.4664050937014217,\n          0.5279306798481691\n        ],\n        \"semantic_type\": \"\",\n        \"description\": \"\"\n      }\n    },\n    {\n      \"column\": \"Test R^2\",\n      \"properties\": {\n        \"dtype\": \"number\",\n        \"std\": 0.13549048813607792,\n        \"min\": 0.17899023961142346,\n        \"max\": 0.5927643979850825,\n        \"num_unique_values\": 15,\n        \"samples\": [\n          0.32189793662385535,\n          0.2945839576266519,\n          0.5927643979850825\n        ],\n        \"semantic_type\": \"\",\n        \"description\": \"\"\n      }\n    },\n    {\n      \"column\": \"Features\",\n      \"properties\": {\n        \"dtype\": \"object\",\n        \"semantic_type\": \"\",\n        \"description\": \"\"\n      }\n    },\n    {\n      \"column\": \"Num_Features\",\n      \"properties\": {\n        \"dtype\": \"number\",\n        \"std\": 4,\n        \"min\": 1,\n        \"max\": 15,\n        \"num_unique_values\": 15,\n        \"samples\": [\n          6,\n          4,\n          15\n        ],\n        \"semantic_type\": \"\",\n        \"description\": \"\"\n      }\n    }\n  ]\n}"
            }
          },
          "metadata": {},
          "execution_count": 28
        }
      ],
      "source": [
        "#TODO: Create a dataframe consisting of the feature list, the R^2 values, and the number of features for each submodel $M_{i}$.\n",
        "\n",
        "# Create a list for the R^2 values\n",
        "R2_list_backwards = R2_list_backwards\n",
        "\n",
        "\n",
        "\n",
        "# Create a list for the number of features, starting from the length of features_list_backwards down to 1\n",
        "num_features = list(range(len(features_list_backwards), 0, -1))\n",
        "\n",
        "# Adjust num_features to match the length of R2 lists\n",
        "num_features = num_features[1:] # remove first element\n",
        "\n",
        "# Create the dataframe\n",
        "df_backwards = pd.DataFrame({\n",
        "    'R^2': R2_list_backwards,\n",
        "    'Test R^2': R2_test_list_backwards,\n",
        "    'Features': features_list_backwards[1:], #Start from the second element\n",
        "    'Num_Features': num_features,\n",
        "})\n",
        "\n",
        "# Display the dataframe\n",
        "df_backwards"
      ]
    },
    {
      "cell_type": "markdown",
      "id": "a18e39ef-5066-4e5b-9d56-ccba16e1e021",
      "metadata": {
        "id": "a18e39ef-5066-4e5b-9d56-ccba16e1e021"
      },
      "source": [
        "Finally, plot the adjusted $R^{2}$ values for each set of predictor variables, with the number of predictor variables on the $x$-axis. Mark the maximum, and print the predictors associated with that maximum.\n",
        "\n",
        "Recall that the adjusted $R^{2}$ is defined as:\n",
        "&nbsp;\n",
        "<center>\n",
        "    $\\displaystyle R^{2}_{a} = 1-\\frac{RSS/(n-k-1)}{TSS/n-1}$\n",
        "</center>\n",
        "&nbsp;"
      ]
    },
    {
      "cell_type": "code",
      "execution_count": 29,
      "id": "c3a64684-f410-4797-8710-49f7fb703afb",
      "metadata": {
        "id": "c3a64684-f410-4797-8710-49f7fb703afb",
        "colab": {
          "base_uri": "https://localhost:8080/",
          "height": 528
        },
        "outputId": "082f46b3-57e4-478a-c34b-7b7f0813fd7b"
      },
      "outputs": [
        {
          "output_type": "stream",
          "name": "stdout",
          "text": [
            "Maximum Adjusted R^2: 0.5279\n",
            "Predictors for Maximum Adjusted R^2: ['AtBat', 'Hits', 'HmRun', 'Runs', 'Walks', 'Years', 'CAtBat', 'CHits', 'CHmRun', 'CRuns', 'CRBI', 'CWalks', 'PutOuts', 'Assists', 'Errors']\n"
          ]
        },
        {
          "output_type": "display_data",
          "data": {
            "text/plain": [
              "<Figure size 640x480 with 1 Axes>"
            ],
            "image/png": "[encoded data removed]"
          },
          "metadata": {}
        }
      ],
      "source": [
        "# TODO: Plot the adjusted R^2 values for the number of predictor variables, mark the maximum, and print the predictors associated with that maximum.\n",
        "\n",
        "# Extract the relevant columns\n",
        "num_features = df_backwards['Num_Features']\n",
        "adj_r2_values = df_backwards['R^2']  # Assuming 'R^2' column contains adjusted R^2 values\n",
        "\n",
        "# Find the maximum adjusted R^2 and its index\n",
        "max_adj_r2 = max(adj_r2_values)\n",
        "max_index = adj_r2_values.idxmax()\n",
        "\n",
        "# Plot the adjusted R^2 values\n",
        "plt.plot(num_features, adj_r2_values, marker='o')\n",
        "plt.xlabel('Number of Predictor Variables')\n",
        "plt.ylabel('Adjusted R^2')\n",
        "plt.title('Adjusted R^2 vs. Number of Predictors (Backward Selection)')\n",
        "\n",
        "# Mark the maximum adjusted R^2\n",
        "plt.scatter(num_features[max_index], max_adj_r2, color='red', marker='x', s=100, label='Maximum Adjusted R^2')\n",
        "\n",
        "# Print the predictors associated with the maximum\n",
        "max_features = df_backwards.loc[max_index, 'Features']\n",
        "print(f\"Maximum Adjusted R^2: {max_adj_r2:.4f}\")\n",
        "print(f\"Predictors for Maximum Adjusted R^2: {max_features}\")\n",
        "\n",
        "# Add legend and show the plot\n",
        "plt.legend()\n",
        "plt.grid(True)\n",
        "plt.show()"
      ]
    },
    {
      "cell_type": "markdown",
      "id": "d7b01f11-71ac-469c-9f1b-fa3cf6ca91e6",
      "metadata": {
        "id": "d7b01f11-71ac-469c-9f1b-fa3cf6ca91e6"
      },
      "source": [
        "Alright! Now, let's check if the number of predictors we determined using the adjusted $R^{2}$ value actually does the best on our test data.\n",
        "\n",
        "To do this, plot the actual $R^{2}$ value for each set of predictor variables when run on the test data. Again, make the x-axis the number of predictors, mark the maximum, and print the predictors associated with that maximum."
      ]
    },
    {
      "cell_type": "code",
      "execution_count": 30,
      "id": "ca68c870-b529-4e1b-b877-be753f654a38",
      "metadata": {
        "id": "ca68c870-b529-4e1b-b877-be753f654a38",
        "colab": {
          "base_uri": "https://localhost:8080/",
          "height": 528
        },
        "outputId": "d8439444-8365-4f63-d3dd-5b82fbc32385"
      },
      "outputs": [
        {
          "output_type": "stream",
          "name": "stdout",
          "text": [
            "Maximum Test R^2: 0.5928\n",
            "Predictors for Maximum Test R^2: ['AtBat', 'Hits', 'HmRun', 'Runs', 'Walks', 'Years', 'CAtBat', 'CHits', 'CHmRun', 'CRuns', 'CRBI', 'CWalks', 'PutOuts', 'Assists', 'Errors']\n"
          ]
        },
        {
          "output_type": "display_data",
          "data": {
            "text/plain": [
              "<Figure size 640x480 with 1 Axes>"
            ],
            "image/png": "[encoded data removed]"
          },
          "metadata": {}
        }
      ],
      "source": [
        "# TODO: Plot the R^2 values for the given number of predictor variables when the model is run on the test data. Mark the maximum, and print the predictors associated with that maximum.\n",
        "# Extract the relevant columns\n",
        "num_features = df_backwards['Num_Features']\n",
        "test_r2_values = df_backwards['Test R^2']\n",
        "\n",
        "# Find the maximum test R^2 and its index\n",
        "max_test_r2 = max(test_r2_values)\n",
        "max_index = test_r2_values.idxmax()\n",
        "\n",
        "# Plot the test R^2 values\n",
        "plt.plot(num_features, test_r2_values, marker='o')\n",
        "plt.xlabel('Number of Predictor Variables')\n",
        "plt.ylabel('Test R^2')\n",
        "plt.title('Test R^2 vs. Number of Predictors (Backward Selection)')\n",
        "\n",
        "# Mark the maximum test R^2\n",
        "plt.scatter(num_features[max_index], max_test_r2, color='red', marker='x', s=100, label='Maximum Test R^2')\n",
        "\n",
        "# Print the predictors associated with the maximum\n",
        "max_features = df_backwards.loc[max_index, 'Features']\n",
        "print(f\"Maximum Test R^2: {max_test_r2:.4f}\")\n",
        "print(f\"Predictors for Maximum Test R^2: {max_features}\")\n",
        "\n",
        "# Add legend and show the plot\n",
        "plt.legend()\n",
        "plt.grid(True)\n",
        "plt.show()"
      ]
    },
    {
      "cell_type": "markdown",
      "id": "1d70c5ea-4963-411b-8d4c-5bdcc683244c",
      "metadata": {
        "id": "1d70c5ea-4963-411b-8d4c-5bdcc683244c"
      },
      "source": [
        "Now, plot both on the same line charts on the same figure."
      ]
    },
    {
      "cell_type": "code",
      "execution_count": 38,
      "id": "ece7197d-61b6-43d3-802f-640bce0ab701",
      "metadata": {
        "id": "ece7197d-61b6-43d3-802f-640bce0ab701",
        "colab": {
          "base_uri": "https://localhost:8080/",
          "height": 1000
        },
        "outputId": "9b1c0ed0-d15d-4430-9c66-641b9d4f1eee"
      },
      "outputs": [
        {
          "output_type": "stream",
          "name": "stdout",
          "text": [
            "Maximum Adjusted R^2: 0.5279, Predictors: ['AtBat', 'Hits', 'HmRun', 'Runs', 'Walks', 'Years', 'CAtBat', 'CHits', 'CHmRun', 'CRuns', 'CRBI', 'CWalks', 'PutOuts', 'Assists', 'Errors']\n",
            "Maximum Test R^2: 0.5928, Predictors: ['AtBat', 'Hits', 'HmRun', 'Runs', 'Walks', 'Years', 'CAtBat', 'CHits', 'CHmRun', 'CRuns', 'CRBI', 'CWalks', 'PutOuts', 'Assists', 'Errors']\n",
            "Maximum Adjusted R^2: 0.5279, Predictors: ['AtBat', 'Hits', 'HmRun', 'Runs', 'Walks', 'Years', 'CAtBat', 'CHits', 'CHmRun', 'CRuns', 'CRBI', 'CWalks', 'PutOuts', 'Assists', 'Errors']\n",
            "Maximum Test R^2: 0.5928, Predictors: ['AtBat', 'Hits', 'HmRun', 'Runs', 'Walks', 'Years', 'CAtBat', 'CHits', 'CHmRun', 'CRuns', 'CRBI', 'CWalks', 'PutOuts', 'Assists', 'Errors']\n",
            "Maximum Adjusted R^2: 0.5279, Predictors: ['AtBat', 'Hits', 'HmRun', 'Runs', 'Walks', 'Years', 'CAtBat', 'CHits', 'CHmRun', 'CRuns', 'CRBI', 'CWalks', 'PutOuts', 'Assists', 'Errors']\n",
            "Maximum Test R^2: 0.5928, Predictors: ['AtBat', 'Hits', 'HmRun', 'Runs', 'Walks', 'Years', 'CAtBat', 'CHits', 'CHmRun', 'CRuns', 'CRBI', 'CWalks', 'PutOuts', 'Assists', 'Errors']\n"
          ]
        },
        {
          "output_type": "display_data",
          "data": {
            "text/plain": [
              "<Figure size 640x480 with 1 Axes>"
            ],
            "image/png": "[encoded data removed]"
          },
          "metadata": {}
        },
        {
          "output_type": "display_data",
          "data": {
            "text/plain": [
              "<Figure size 640x480 with 1 Axes>"
            ],
            "image/png": "[encoded data removed]"
          },
          "metadata": {}
        },
        {
          "output_type": "display_data",
          "data": {
            "text/plain": [
              "<Figure size 640x480 with 1 Axes>"
            ],
            "image/png": "[encoded data removed]"
          },
          "metadata": {}
        },
        {
          "output_type": "display_data",
          "data": {
            "text/plain": [
              "<Figure size 640x480 with 1 Axes>"
            ],
            "image/png": "[encoded data removed]"
          },
          "metadata": {}
        },
        {
          "output_type": "display_data",
          "data": {
            "text/plain": [
              "<Figure size 640x480 with 1 Axes>"
            ],
            "image/png": "[encoded data removed]"
          },
          "metadata": {}
        },
        {
          "output_type": "display_data",
          "data": {
            "text/plain": [
              "<Figure size 640x480 with 1 Axes>"
            ],
            "image/png": "[encoded data removed]"
          },
          "metadata": {}
        }
      ],
      "source": [
        "# TODO: Plot both line charts on the same figure.\n",
        "\n",
        "# Create the figure and axes\n",
        "fig, ax = plt.subplots()\n",
        "\n",
        "# Extract the relevant columns\n",
        "num_features = df_backwards['Num_Features']\n",
        "adj_r2_values = df_backwards['R^2']\n",
        "test_r2_values = df_backwards['Test R^2']\n",
        "\n",
        "# Find the maximum values and their indices\n",
        "max_adj_r2 = max(adj_r2_values)\n",
        "max_adj_index = adj_r2_values.idxmax()\n",
        "max_test_r2 = max(test_r2_values)\n",
        "max_test_index = test_r2_values.idxmax()\n",
        "\n",
        "# Create the plot\n",
        "fig, ax = plt.subplots()  # Create a figure and an axes object\n",
        "\n",
        "# Plot adjusted R^2\n",
        "ax.plot(num_features, adj_r2_values, marker='o', label='Adjusted R^2')\n",
        "ax.scatter(num_features[max_adj_index], max_adj_r2, color='red', marker='x', s=100)\n",
        "\n",
        "# Plot test R^2\n",
        "ax.plot(num_features, test_r2_values, marker='o', label='Test R^2')\n",
        "ax.scatter(num_features[max_test_index], max_test_r2, color='blue', marker='x', s=100)\n",
        "\n",
        "# Set labels and title\n",
        "ax.set_xlabel('Number of Predictor Variables')\n",
        "ax.set_ylabel('R^2 Values')\n",
        "ax.set_title('Adjusted R^2 and Test R^2 vs. Number of Predictors')\n",
        "\n",
        "# TODO: Plot both line charts on the same figure.\n",
        "\n",
        "# Create the figure and axes\n",
        "fig, ax = plt.subplots()\n",
        "\n",
        "# Extract the relevant columns\n",
        "num_features = df_backwards['Num_Features']\n",
        "adj_r2_values = df_backwards['R^2']\n",
        "test_r2_values = df_backwards['Test R^2']\n",
        "\n",
        "# Find the maximum values and their indices\n",
        "max_adj_r2 = max(adj_r2_values)\n",
        "max_adj_index = adj_r2_values.idxmax()\n",
        "max_test_r2 = max(test_r2_values)\n",
        "max_test_index = test_r2_values.idxmax()\n",
        "\n",
        "# Create the plot\n",
        "#fig, ax = plt.subplots()  # Create a figure and an axes object - already created\n",
        "\n",
        "# Plot adjusted R^2\n",
        "ax.plot(num_features, adj_r2_values, marker='o', label='Adjusted R^2')\n",
        "ax.scatter(num_features[max_adj_index], max_adj_r2, color='red', marker='x', s=100)\n",
        "\n",
        "# Plot test R^2\n",
        "ax.plot(num_features, test_r2_values, marker='o', label='Test R^2')\n",
        "ax.scatter(num_features[max_test_index], max_test_r2, color='blue', marker='x', s=100)\n",
        "\n",
        "# Set labels and title\n",
        "ax.set_xlabel('Number of Predictor Variables')\n",
        "ax.set_ylabel('R^2 Values')\n",
        "ax.set_title('Adjusted R^2 and Test R^2 vs. Number of Predictors')\n",
        "\n",
        "# Add legend and grid\n",
        "ax.legend()\n",
        "ax.grid(True)\n",
        "\n",
        "# Print the information for maximum values\n",
        "print(f\"Maximum Adjusted R^2: {max_adj_r2:.4f}, Predictors: {df_backwards.loc[max_adj_index, 'Features']}\")\n",
        "print(f\"Maximum Test R^2: {max_test_r2:.4f}, Predictors: {df_backwards.loc[max_test_index, 'Features']}\")\n",
        "\n",
        "# Create the figure and axes\n",
        "fig, ax = plt.subplots()\n",
        "\n",
        "# Extract the relevant columns\n",
        "num_features = df_backwards['Num_Features']\n",
        "adj_r2_values = df_backwards['R^2']\n",
        "test_r2_values = df_backwards['Test R^2']\n",
        "\n",
        "# Find the maximum values and their indices\n",
        "max_adj_r2 = max(adj_r2_values)\n",
        "max_adj_index = adj_r2_values.idxmax()\n",
        "max_test_r2 = max(test_r2_values)\n",
        "max_test_index = test_r2_values.idxmax()\n",
        "\n",
        "# Create the plot\n",
        "#fig, ax = plt.subplots()  # Create a figure and an axes object - already created\n",
        "\n",
        "# Plot adjusted R^2\n",
        "ax.plot(num_features, adj_r2_values, marker='o', label='Adjusted R^2')\n",
        "ax.scatter(num_features[max_adj_index], max_adj_r2, color='red', marker='x', s=100)\n",
        "\n",
        "# Plot test R^2\n",
        "ax.plot(num_features, test_r2_values, marker='o', label='Test R^2')\n",
        "ax.scatter(num_features[max_test_index], max_test_r2, color='blue', marker='x', s=100)\n",
        "\n",
        "# Set labels and title\n",
        "ax.set_xlabel('Number of Predictor Variables')\n",
        "ax.set_ylabel('R^2 Values')\n",
        "ax.set_title('Adjusted R^2 and Test R^2 vs. Number of Predictors')\n",
        "\n",
        "# Add legend and grid\n",
        "ax.legend()\n",
        "ax.grid(True)\n",
        "\n",
        "# Print the information for maximum values\n",
        "print(f\"Maximum Adjusted R^2: {max_adj_r2:.4f}, Predictors: {df_backwards.loc[max_adj_index, 'Features']}\")\n",
        "print(f\"Maximum Test R^2: {max_test_r2:.4f}, Predictors: {df_backwards.loc[max_test_index, 'Features']}\")\n",
        "\n",
        "# Create the figure and axes\n",
        "fig, ax = plt.subplots()\n",
        "\n",
        "# Extract the relevant columns\n",
        "num_features = df_backwards['Num_Features']\n",
        "adj_r2_values = df_backwards['R^2']\n",
        "test_r2_values = df_backwards['Test R^2']\n",
        "\n",
        "# Find the maximum values and their indices\n",
        "max_adj_r2 = max(adj_r2_values)\n",
        "max_adj_index = adj_r2_values.idxmax()\n",
        "max_test_r2 = max(test_r2_values)\n",
        "max_test_index = test_r2_values.idxmax()\n",
        "\n",
        "# Create the plot\n",
        "fig, ax = plt.subplots()  # Create a figure and an axes object\n",
        "\n",
        "# Plot adjusted R^2\n",
        "ax.plot(num_features, adj_r2_values, marker='o', label='Adjusted R^2')\n",
        "ax.scatter(num_features[max_adj_index], max_adj_r2, color='red', marker='x', s=100)\n",
        "\n",
        "# Plot test R^2\n",
        "ax.plot(num_features, test_r2_values, marker='o', label='Test R^2')\n",
        "ax.scatter(num_features[max_test_index], max_test_r2, color='blue', marker='x', s=100)\n",
        "\n",
        "# Set labels and title\n",
        "ax.set_xlabel('Number of Predictor Variables')\n",
        "ax.set_ylabel('R^2 Values')\n",
        "ax.set_title('Adjusted R^2 and Test R^2 vs. Number of Predictors')\n",
        "\n",
        "# Add legend and grid\n",
        "ax.legend()\n",
        "ax.grid(True)\n",
        "\n",
        "# Print the information for maximum values\n",
        "print(f\"Maximum Adjusted R^2: {max_adj_r2:.4f}, Predictors: {df_backwards.loc[max_adj_index, 'Features']}\")\n",
        "print(f\"Maximum Test R^2: {max_test_r2:.4f}, Predictors: {df_backwards.loc[max_test_index, 'Features']}\")\n"
      ]
    },
    {
      "cell_type": "markdown",
      "id": "6cebf9ae-8956-43a9-a4cc-79f773158f9e",
      "metadata": {
        "id": "6cebf9ae-8956-43a9-a4cc-79f773158f9e"
      },
      "source": [
        "Do the best subset of predictors found using adjusted $R^{2}$ match those found using a test set?"
      ]
    },
    {
      "cell_type": "markdown",
      "id": "45ae7f6c-9e2e-4573-ab89-db8e578dfb16",
      "metadata": {
        "id": "45ae7f6c-9e2e-4573-ab89-db8e578dfb16"
      },
      "source": [
        "## Ridge and Lasso Regression ##\n",
        "\n",
        "Next, we'll take a look at ridge and lasso regression for this hitters dataset. We'll use ridge regression as an example, and then you should do something similar for lasso."
      ]
    },
    {
      "cell_type": "markdown",
      "id": "3bb9162e-0768-420e-839d-f2b4e2e37f50",
      "metadata": {
        "id": "3bb9162e-0768-420e-839d-f2b4e2e37f50"
      },
      "source": [
        "**Ridge Regression**\n",
        "\n",
        "We'll first investigate building a predictive salary model using ridge regression.\n",
        "\n",
        "To do this, first we'll create a set of 90 values for our hyperparameter $\\lambda$ as we did in Lecture 16."
      ]
    },
    {
      "cell_type": "code",
      "execution_count": 39,
      "id": "1588d501",
      "metadata": {
        "id": "1588d501"
      },
      "outputs": [],
      "source": [
        "lambdas = 10**np.linspace(7,-2,90)"
      ]
    },
    {
      "cell_type": "markdown",
      "id": "345ceb3b-4074-4e93-a741-7ecca08ae331",
      "metadata": {
        "id": "345ceb3b-4074-4e93-a741-7ecca08ae331"
      },
      "source": [
        "Now, we'll calculate the values of our coefficients for each value of $\\lambda$:"
      ]
    },
    {
      "cell_type": "code",
      "execution_count": 40,
      "id": "be8351bd",
      "metadata": {
        "id": "be8351bd"
      },
      "outputs": [],
      "source": [
        "ridge = Ridge()\n",
        "coefs = [] #Keep track of the coefficients.\n",
        "\n",
        "for l in lambdas:\n",
        "    ridge.set_params(alpha = l) #Ridge regression in Python calls the lambda term alpha.\n",
        "    ridge.fit(X, y)\n",
        "    coefs.append(ridge.coef_)"
      ]
    },
    {
      "cell_type": "markdown",
      "id": "ecb510f9-4163-44e4-a28e-dd375b8df1c7",
      "metadata": {
        "id": "ecb510f9-4163-44e4-a28e-dd375b8df1c7"
      },
      "source": [
        "We can plot how these coefficients change as $\\lambda$ increases, noting they should approach but not equal $0$ as $\\lambda$ gets large."
      ]
    },
    {
      "cell_type": "code",
      "execution_count": 41,
      "id": "111dd38e",
      "metadata": {
        "id": "111dd38e",
        "colab": {
          "base_uri": "https://localhost:8080/",
          "height": 454
        },
        "outputId": "74aa4b15-4551-4525-f090-515acd0453ed"
      },
      "outputs": [
        {
          "output_type": "display_data",
          "data": {
            "text/plain": [
              "<Figure size 640x480 with 1 Axes>"
            ],
            "image/png": "[encoded data removed]"
          },
          "metadata": {}
        }
      ],
      "source": [
        "ax = plt.gca()\n",
        "ax.plot(lambdas, coefs)\n",
        "ax.set_xscale('log')\n",
        "plt.axis('tight')\n",
        "plt.xlabel('alpha')\n",
        "plt.ylabel('weights');"
      ]
    },
    {
      "cell_type": "markdown",
      "id": "9bc472c0-e12a-4eb4-86db-a16d2bdec21b",
      "metadata": {
        "id": "9bc472c0-e12a-4eb4-86db-a16d2bdec21b"
      },
      "source": [
        "We can use the RidgeCV function to determine an optimal value for $\\lambda$ based on leave-one-out cross-validation (LOOCV):"
      ]
    },
    {
      "cell_type": "code",
      "execution_count": 42,
      "id": "d3c1b59c",
      "metadata": {
        "id": "d3c1b59c",
        "colab": {
          "base_uri": "https://localhost:8080/"
        },
        "outputId": "b48a1176-5f65-4895-d131-1c58d593bd0c"
      },
      "outputs": [
        {
          "output_type": "execute_result",
          "data": {
            "text/plain": [
              "11679.270855560682"
            ]
          },
          "metadata": {},
          "execution_count": 42
        }
      ],
      "source": [
        "ridgecv = RidgeCV(alphas = lambdas)\n",
        "ridgecv.fit(X, y)\n",
        "ridgecv.alpha_"
      ]
    },
    {
      "cell_type": "markdown",
      "id": "3aadb658-83fd-4ef0-a3f7-00e358c52ca9",
      "metadata": {
        "id": "3aadb658-83fd-4ef0-a3f7-00e358c52ca9"
      },
      "source": [
        "Building a ridge regression model with this optimal $\\lambda$, we get:"
      ]
    },
    {
      "cell_type": "code",
      "execution_count": 43,
      "id": "0ab75cac",
      "metadata": {
        "id": "0ab75cac",
        "colab": {
          "base_uri": "https://localhost:8080/"
        },
        "outputId": "eca22ec2-68eb-4dfa-c192-29fcea9285c0"
      },
      "outputs": [
        {
          "output_type": "stream",
          "name": "stdout",
          "text": [
            "AtBat     -1.443360\n",
            "Hits       4.571630\n",
            "HmRun     -0.140006\n",
            "Runs       0.523664\n",
            "RBI        0.553955\n",
            "Walks      4.064171\n",
            "Years     -0.028306\n",
            "CAtBat    -0.271155\n",
            "CHits      0.555396\n",
            "CHmRun     0.181851\n",
            "CRuns      1.164392\n",
            "CRBI       0.645214\n",
            "CWalks    -0.513905\n",
            "PutOuts    0.293705\n",
            "Assists    0.322846\n",
            "Errors    -1.206413\n",
            "dtype: float64\n"
          ]
        },
        {
          "output_type": "execute_result",
          "data": {
            "text/plain": [
              "96812.61013827637"
            ]
          },
          "metadata": {},
          "execution_count": 43
        }
      ],
      "source": [
        "ridge2 = Ridge(alpha = ridgecv.alpha_)\n",
        "ridge2.fit(X, y)\n",
        "print(pd.Series(ridge2.coef_, index = X.columns))\n",
        "mean_squared_error(y, ridge2.predict(X))"
      ]
    },
    {
      "cell_type": "markdown",
      "id": "1c118072-4bb0-4629-a7fc-2237f3f55329",
      "metadata": {
        "id": "1c118072-4bb0-4629-a7fc-2237f3f55329"
      },
      "source": [
        "For $3$-fold cross-validation we get:"
      ]
    },
    {
      "cell_type": "code",
      "execution_count": 44,
      "id": "db7948e1",
      "metadata": {
        "id": "db7948e1",
        "colab": {
          "base_uri": "https://localhost:8080/"
        },
        "outputId": "0847107c-27e0-47c4-e052-5692c003a3c2"
      },
      "outputs": [
        {
          "output_type": "execute_result",
          "data": {
            "text/plain": [
              "9253.203955702538"
            ]
          },
          "metadata": {},
          "execution_count": 44
        }
      ],
      "source": [
        "ridgecv = RidgeCV(alphas = lambdas, cv=3)\n",
        "ridgecv.fit(X, y)\n",
        "ridgecv.alpha_"
      ]
    },
    {
      "cell_type": "code",
      "execution_count": 45,
      "id": "9ac60ba3",
      "metadata": {
        "id": "9ac60ba3",
        "colab": {
          "base_uri": "https://localhost:8080/"
        },
        "outputId": "7d49fad5-5fda-41a9-d7dc-3e726d67f422"
      },
      "outputs": [
        {
          "output_type": "stream",
          "name": "stdout",
          "text": [
            "AtBat     -1.551898\n",
            "Hits       4.940360\n",
            "HmRun     -0.117700\n",
            "Runs       0.344884\n",
            "RBI        0.558745\n",
            "Walks      4.324953\n",
            "Years     -0.051075\n",
            "CAtBat    -0.260520\n",
            "CHits      0.508350\n",
            "CHmRun     0.173880\n",
            "CRuns      1.203832\n",
            "CRBI       0.649061\n",
            "CWalks    -0.548922\n",
            "PutOuts    0.294127\n",
            "Assists    0.330310\n",
            "Errors    -1.359501\n",
            "dtype: float64\n"
          ]
        },
        {
          "output_type": "execute_result",
          "data": {
            "text/plain": [
              "96561.53447785083"
            ]
          },
          "metadata": {},
          "execution_count": 45
        }
      ],
      "source": [
        "ridge3 = Ridge(alpha = ridgecv.alpha_)\n",
        "ridge3.fit(X, y)\n",
        "print(pd.Series(ridge3.coef_, index = X.columns))\n",
        "mean_squared_error(y, ridge3.predict(X))"
      ]
    },
    {
      "cell_type": "markdown",
      "id": "c61b4011-6029-4eff-b861-046f0d5bdebc",
      "metadata": {
        "id": "c61b4011-6029-4eff-b861-046f0d5bdebc"
      },
      "source": [
        "For the next part of this homework assignment, you'll investigate the same modeling question using lasso regression and the LassoCV function. Check out the optimal $\\lambda$ values you get for lasso regression with LOOCV and 3-fold CV, and note which coefficients are set to $0$ is each case.\n",
        "\n",
        "Specifically, you should:\n",
        "\n",
        "1. Plot how the weights change for lasso regression as $\\lambda$ gets large.\n",
        "2. Calculate the optimal value of $\\lambda$, and the corresponding model coefficients, using LOOCV.\n",
        "3. Calculate the optimal value of $\\lambda$, and the corresponding model coefficients, using 3-fold CV."
      ]
    },
    {
      "cell_type": "markdown",
      "id": "64670ca9-9dcb-4c45-bfa6-8f0bc73bb32c",
      "metadata": {
        "id": "64670ca9-9dcb-4c45-bfa6-8f0bc73bb32c"
      },
      "source": [
        "*Note*: Remember, for lasso, you'll probably need to set that max_iter parameter. A value like 100,000 should be good."
      ]
    },
    {
      "cell_type": "code",
      "execution_count": 46,
      "id": "bb9e5df5",
      "metadata": {
        "id": "bb9e5df5",
        "colab": {
          "base_uri": "https://localhost:8080/",
          "height": 1000
        },
        "outputId": "d009b907-657d-4068-fc2c-d214e9cb6dcd"
      },
      "outputs": [
        {
          "output_type": "stream",
          "name": "stdout",
          "text": [
            "Optimal lambda (LOOCV): 110.90313431155938\n",
            "Coefficients (LOOCV):\n",
            " AtBat     -1.682536\n",
            "Hits       5.750015\n",
            "HmRun      0.000000\n",
            "Runs      -0.000000\n",
            "RBI        0.000000\n",
            "Walks      4.671893\n",
            "Years     -0.000000\n",
            "CAtBat    -0.229756\n",
            "CHits      0.350818\n",
            "CHmRun     0.000000\n",
            "CRuns      1.272066\n",
            "CRBI       0.743077\n",
            "CWalks    -0.583380\n",
            "PutOuts    0.289941\n",
            "Assists    0.261729\n",
            "Errors    -0.000000\n",
            "dtype: float64\n",
            "\n",
            "Optimal lambda (3-fold CV): 139.9804598013952\n",
            "Coefficients (3-fold CV):\n",
            " AtBat     -1.550716\n",
            "Hits       5.411148\n",
            "HmRun      0.000000\n",
            "Runs       0.000000\n",
            "RBI        0.000000\n",
            "Walks      4.417388\n",
            "Years     -0.000000\n",
            "CAtBat    -0.238500\n",
            "CHits      0.388885\n",
            "CHmRun     0.000000\n",
            "CRuns      1.236410\n",
            "CRBI       0.736682\n",
            "CWalks    -0.543039\n",
            "PutOuts    0.288647\n",
            "Assists    0.251858\n",
            "Errors    -0.000000\n",
            "dtype: float64\n"
          ]
        },
        {
          "output_type": "display_data",
          "data": {
            "text/plain": [
              "<Figure size 640x480 with 1 Axes>"
            ],
            "image/png": "[encoded data removed]"
          },
          "metadata": {}
        }
      ],
      "source": [
        "#TODO: Plot how the weights change for lasso regression as lambda gets large here.\n",
        "# 1. Plot how the weights change for lasso regression as lambda gets large.\n",
        "lasso = Lasso(max_iter=100000)\n",
        "coefs = []\n",
        "\n",
        "for l in lambdas:\n",
        "    lasso.set_params(alpha=l)\n",
        "    lasso.fit(X, y)\n",
        "    coefs.append(lasso.coef_)\n",
        "\n",
        "ax = plt.gca()\n",
        "ax.plot(lambdas, coefs)\n",
        "ax.set_xscale('log')\n",
        "plt.axis('tight')\n",
        "plt.xlabel('alpha')\n",
        "plt.ylabel('weights');\n",
        "\n",
        "# 2. Calculate the optimal value of lambda, and the corresponding model coefficients, using LOOCV.\n",
        "lassocv = LassoCV(alphas=lambdas, cv=None, max_iter=100000)  # LOOCV (cv=None)\n",
        "lassocv.fit(X, y)\n",
        "print(\"Optimal lambda (LOOCV):\", lassocv.alpha_)\n",
        "print(\"Coefficients (LOOCV):\\n\", pd.Series(lassocv.coef_, index=X.columns))\n",
        "\n",
        "# 3. Calculate the optimal value of lambda, and the corresponding model coefficients, using 3-fold CV.\n",
        "lassocv = LassoCV(alphas=lambdas, cv=3, max_iter=100000)  # 3-fold CV\n",
        "lassocv.fit(X, y)\n",
        "print(\"\\nOptimal lambda (3-fold CV):\", lassocv.alpha_)\n",
        "print(\"Coefficients (3-fold CV):\\n\", pd.Series(lassocv.coef_, index=X.columns))\n"
      ]
    },
    {
      "cell_type": "code",
      "execution_count": 47,
      "id": "dd7135db",
      "metadata": {
        "id": "dd7135db",
        "colab": {
          "base_uri": "https://localhost:8080/"
        },
        "outputId": "8fbc1184-0688-4860-d746-bd24fa2ab370"
      },
      "outputs": [
        {
          "output_type": "stream",
          "name": "stdout",
          "text": [
            "Optimal lambda (LOOCV): 110.90313431155938\n",
            "Coefficients (LOOCV):\n",
            " AtBat     -1.682536\n",
            "Hits       5.750015\n",
            "HmRun      0.000000\n",
            "Runs      -0.000000\n",
            "RBI        0.000000\n",
            "Walks      4.671893\n",
            "Years     -0.000000\n",
            "CAtBat    -0.229756\n",
            "CHits      0.350818\n",
            "CHmRun     0.000000\n",
            "CRuns      1.272066\n",
            "CRBI       0.743077\n",
            "CWalks    -0.583380\n",
            "PutOuts    0.289941\n",
            "Assists    0.261729\n",
            "Errors    -0.000000\n",
            "dtype: float64\n"
          ]
        }
      ],
      "source": [
        "#TODO: Calculate the optimal value of lambda, and the corresponding model coefficients, using LOOCV.\n",
        "# Assuming 'X' and 'y' are your predictor and response variables, and 'lambdas' is defined\n",
        "lassocv = LassoCV(alphas=lambdas, cv=None, max_iter=100000)  # LOOCV (cv=None)\n",
        "lassocv.fit(X, y)\n",
        "\n",
        "print(\"Optimal lambda (LOOCV):\", lassocv.alpha_)\n",
        "print(\"Coefficients (LOOCV):\\n\", pd.Series(lassocv.coef_, index=X.columns))"
      ]
    },
    {
      "cell_type": "code",
      "execution_count": 48,
      "id": "5fc4d6cb",
      "metadata": {
        "id": "5fc4d6cb",
        "colab": {
          "base_uri": "https://localhost:8080/"
        },
        "outputId": "1b63b453-b858-4e37-f0da-a8c846436b22"
      },
      "outputs": [
        {
          "output_type": "stream",
          "name": "stdout",
          "text": [
            "Optimal lambda (3-fold CV): 139.9804598013952\n",
            "Coefficients (3-fold CV):\n",
            " AtBat     -1.550716\n",
            "Hits       5.411148\n",
            "HmRun      0.000000\n",
            "Runs       0.000000\n",
            "RBI        0.000000\n",
            "Walks      4.417388\n",
            "Years     -0.000000\n",
            "CAtBat    -0.238500\n",
            "CHits      0.388885\n",
            "CHmRun     0.000000\n",
            "CRuns      1.236410\n",
            "CRBI       0.736682\n",
            "CWalks    -0.543039\n",
            "PutOuts    0.288647\n",
            "Assists    0.251858\n",
            "Errors    -0.000000\n",
            "dtype: float64\n"
          ]
        }
      ],
      "source": [
        "#TODO: Calculate the optimal value of lambda, and the corresponding model coefficients, using 3-fold CV.\n",
        "# Assuming 'X' and 'y' are your predictor and response variables, and 'lambdas' is defined\n",
        "lassocv = LassoCV(alphas=lambdas, cv=3, max_iter=100000)  # 3-fold CV\n",
        "lassocv.fit(X, y)\n",
        "\n",
        "print(\"Optimal lambda (3-fold CV):\", lassocv.alpha_)\n",
        "print(\"Coefficients (3-fold CV):\\n\", pd.Series(lassocv.coef_, index=X.columns))"
      ]
    },
    {
      "cell_type": "markdown",
      "id": "569d9fbc-c967-439c-8fbe-8d04e41eb989",
      "metadata": {
        "id": "569d9fbc-c967-439c-8fbe-8d04e41eb989"
      },
      "source": [
        "How do the predictors with non-zero coefficients compare with the ones found earlier in the assignment using backward stepwise selection?"
      ]
    }
  ],
  "metadata": {
    "kernelspec": {
      "display_name": "anaconda-panel-2023.05-py310",
      "language": "python",
      "name": "conda-env-anaconda-panel-2023.05-py310-py"
    },
    "language_info": {
      "codemirror_mode": {
        "name": "ipython",
        "version": 3
      },
      "file_extension": ".py",
      "mimetype": "text/x-python",
      "name": "python",
      "nbconvert_exporter": "python",
      "pygments_lexer": "ipython3",
      "version": "3.11.4"
    },
    "colab": {
      "provenance": []
    }
  },
  "nbformat": 4,
  "nbformat_minor": 5
}